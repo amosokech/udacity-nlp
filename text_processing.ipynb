{
 "cells": [
  {
   "cell_type": "markdown",
   "metadata": {},
   "source": [
    "# Text Processing\n",
    "\n",
    "## Capturing Text Data\n",
    "\n",
    "### Plain Text"
   ]
  },
  {
   "cell_type": "code",
   "execution_count": 1,
   "metadata": {},
   "outputs": [
    {
     "name": "stdout",
     "output_type": "stream",
     "text": [
      "Hieroglyphic writing dates from c. 3000 BC, and is composed of hundreds of symbols. A hieroglyph can represent a word, a sound, or a silent determinative; and the same symbol can serve different purposes in different contexts. Hieroglyphs were a formal script, used on stone monuments and in tombs, that could be as detailed as individual works of art.\n",
      "\n"
     ]
    }
   ],
   "source": [
    "import os\n",
    "\n",
    "# Read in a plain text file\n",
    "with open(os.path.join(\"data\", \"hieroglyph.txt\"), \"r\") as f:\n",
    "    text = f.read()\n",
    "    print(text)"
   ]
  },
  {
   "cell_type": "markdown",
   "metadata": {},
   "source": [
    "### Tabular Data"
   ]
  },
  {
   "cell_type": "code",
   "execution_count": 2,
   "metadata": {
    "scrolled": true
   },
   "outputs": [
    {
     "data": {
      "text/html": [
       "<div>\n",
       "<style scoped>\n",
       "    .dataframe tbody tr th:only-of-type {\n",
       "        vertical-align: middle;\n",
       "    }\n",
       "\n",
       "    .dataframe tbody tr th {\n",
       "        vertical-align: top;\n",
       "    }\n",
       "\n",
       "    .dataframe thead th {\n",
       "        text-align: right;\n",
       "    }\n",
       "</style>\n",
       "<table border=\"1\" class=\"dataframe\">\n",
       "  <thead>\n",
       "    <tr style=\"text-align: right;\">\n",
       "      <th></th>\n",
       "      <th>publisher</th>\n",
       "      <th>title</th>\n",
       "    </tr>\n",
       "  </thead>\n",
       "  <tbody>\n",
       "    <tr>\n",
       "      <th>0</th>\n",
       "      <td>Livemint</td>\n",
       "      <td>fed's charles plosser sees high bar for change...</td>\n",
       "    </tr>\n",
       "    <tr>\n",
       "      <th>1</th>\n",
       "      <td>IFA Magazine</td>\n",
       "      <td>us open: stocks fall after fed official hints ...</td>\n",
       "    </tr>\n",
       "    <tr>\n",
       "      <th>2</th>\n",
       "      <td>IFA Magazine</td>\n",
       "      <td>fed risks falling 'behind the curve', charles ...</td>\n",
       "    </tr>\n",
       "    <tr>\n",
       "      <th>3</th>\n",
       "      <td>Moneynews</td>\n",
       "      <td>fed's plosser: nasty weather has curbed job gr...</td>\n",
       "    </tr>\n",
       "    <tr>\n",
       "      <th>4</th>\n",
       "      <td>NASDAQ</td>\n",
       "      <td>plosser: fed may have to accelerate tapering pace</td>\n",
       "    </tr>\n",
       "  </tbody>\n",
       "</table>\n",
       "</div>"
      ],
      "text/plain": [
       "      publisher                                              title\n",
       "0      Livemint  fed's charles plosser sees high bar for change...\n",
       "1  IFA Magazine  us open: stocks fall after fed official hints ...\n",
       "2  IFA Magazine  fed risks falling 'behind the curve', charles ...\n",
       "3     Moneynews  fed's plosser: nasty weather has curbed job gr...\n",
       "4        NASDAQ  plosser: fed may have to accelerate tapering pace"
      ]
     },
     "execution_count": 2,
     "metadata": {},
     "output_type": "execute_result"
    }
   ],
   "source": [
    "import pandas as pd\n",
    "\n",
    "# Extract text column from a dataframe\n",
    "df = pd.read_csv(os.path.join(\"data\", \"news.csv\"))\n",
    "df.head()[['publisher', 'title']]\n",
    "\n",
    "# Convert text column to lowercase\n",
    "df['title'] = df['title'].str.lower()\n",
    "df.head()[['publisher', 'title']]"
   ]
  },
  {
   "cell_type": "markdown",
   "metadata": {},
   "source": [
    "### Online Resource"
   ]
  },
  {
   "cell_type": "code",
   "execution_count": 3,
   "metadata": {
    "scrolled": true
   },
   "outputs": [
    {
     "name": "stdout",
     "output_type": "stream",
     "text": [
      "{\n",
      "    \"success\": {\n",
      "        \"total\": 1\n",
      "    },\n",
      "    \"contents\": {\n",
      "        \"quotes\": [\n",
      "            {\n",
      "                \"quote\": \"You should never view your challenges as a disadvantage. Instead, it's important for you to understand that your experience facing and overcoming adversity is actually one of your biggest advantages.\",\n",
      "                \"length\": \"199\",\n",
      "                \"author\": \"Michelle Obama\",\n",
      "                \"tags\": [\n",
      "                    \"challenge\",\n",
      "                    \"inspire\"\n",
      "                ],\n",
      "                \"category\": \"inspire\",\n",
      "                \"language\": \"en\",\n",
      "                \"date\": \"2021-05-12\",\n",
      "                \"permalink\": \"https://theysaidso.com/quote/michelle-obama-you-should-never-view-your-challenges-as-a-disadvantage-instead-i\",\n",
      "                \"id\": \"Cui7rno9YsYlmQsPHbg5HgeF\",\n",
      "                \"background\": \"https://theysaidso.com/img/qod/qod-inspire.jpg\",\n",
      "                \"title\": \"Inspiring Quote of the day\"\n",
      "            }\n",
      "        ]\n",
      "    },\n",
      "    \"baseurl\": \"https://theysaidso.com\",\n",
      "    \"copyright\": {\n",
      "        \"year\": 2023,\n",
      "        \"url\": \"https://theysaidso.com\"\n",
      "    }\n",
      "}\n",
      "You should never view your challenges as a disadvantage. Instead, it's important for you to understand that your experience facing and overcoming adversity is actually one of your biggest advantages. \n",
      "-- Michelle Obama\n"
     ]
    }
   ],
   "source": [
    "import requests\n",
    "import json\n",
    "\n",
    "# Fetch data from a REST API\n",
    "r = requests.get(\n",
    "    \"https://quotes.rest/qod.json\")\n",
    "res = r.json()\n",
    "print(json.dumps(res, indent=4))\n",
    "\n",
    "# Extract relevant object and field\n",
    "q = res[\"contents\"][\"quotes\"][0]\n",
    "print(q[\"quote\"], \"\\n--\", q[\"author\"])"
   ]
  },
  {
   "cell_type": "markdown",
   "metadata": {},
   "source": [
    "## Cleaning"
   ]
  },
  {
   "cell_type": "code",
   "execution_count": 4,
   "metadata": {
    "scrolled": true
   },
   "outputs": [
    {
     "name": "stdout",
     "output_type": "stream",
     "text": [
      "<html lang=\"en\" op=\"news\"><head><meta name=\"referrer\" content=\"origin\"><meta name=\"viewport\" content=\"width=device-width, initial-scale=1.0\"><link rel=\"stylesheet\" type=\"text/css\" href=\"news.css?QnkoIDmmf0I46Ms4s8mx\">\n",
      "        <link rel=\"shortcut icon\" href=\"favicon.ico\">\n",
      "          <link rel=\"alternate\" type=\"application/rss+xml\" title=\"RSS\" href=\"rss\">\n",
      "        <title>Hacker News</title></head><body><center><table id=\"hnmain\" border=\"0\" cellpadding=\"0\" cellspacing=\"0\" width=\"85%\" bgcolor=\"#f6f6ef\">\n",
      "        <tr><td bgcolor=\"#ff6600\"><table border=\"0\" cellpadding=\"0\" cellspacing=\"0\" width=\"100%\" style=\"padding:2px\"><tr><td style=\"width:18px;padding-right:4px\"><a href=\"https://news.ycombinator.com\"><img src=\"y18.gif\" width=\"18\" height=\"18\" style=\"border:1px white solid;\"></a></td>\n",
      "                  <td style=\"line-height:12pt; height:10px;\"><span class=\"pagetop\"><b class=\"hnname\"><a href=\"news\">Hacker News</a></b>\n",
      "              <a href=\"newest\">new</a> | <a href=\"front\">past</a> | <a href=\"newcomments\">comments</a> | <a href=\"ask\">ask</a> | <a href=\"show\">show</a> | <a href=\"jobs\">jobs</a> | <a href=\"submit\">submit</a>            </span></td><td style=\"text-align:right;padding-right:4px;\"><span class=\"pagetop\">\n",
      "                              <a href=\"login?goto=news\">login</a>\n",
      "                          </span></td>\n",
      "              </tr></table></td></tr>\n",
      "<tr id=\"pagespace\" title=\"\" style=\"height:10px\"></tr><tr><td><table border=\"0\" cellpadding=\"0\" cellspacing=\"0\" class=\"itemlist\">\n",
      "              <tr class='athing' id='27129858'>\n",
      "      <td align=\"right\" valign=\"top\" class=\"title\"><span class=\"rank\">1.</span></td>      <td valign=\"top\" class=\"votelinks\"><center><a id='up_27129858' href='vote?id=27129858&amp;how=up&amp;goto=news'><div class='votearrow' title='upvote'></div></a></center></td><td class=\"title\"><a href=\"https://workspaceupdates.googleblog.com/2021/05/Google-Docs-Canvas-Based-Rendering-Update.html\" class=\"storylink\">Google Docs will now use canvas based rendering</a><span class=\"sitebit comhead\"> (<a href=\"from?site=googleblog.com\"><span class=\"sitestr\">googleblog.com</span></a>)</span></td></tr><tr><td colspan=\"2\"></td><td class=\"subtext\">\n",
      "        <span class=\"score\" id=\"score_27129858\">312 points</span> by <a href=\"user?id=lewisjoe\" class=\"hnuser\">lewisjoe</a> <span class=\"age\"><a href=\"item?id=27129858\">3 hours ago</a></span> <span id=\"unv_27129858\"></span> | <a href=\"hide?id=27129858&amp;goto=news\">hide</a> | <a href=\"item?id=27129858\">363&nbsp;comments</a>              </td></tr>\n",
      "      <tr class=\"spacer\" style=\"height:5px\"></tr>\n",
      "                <tr class='athing' id='27128994'>\n",
      "      <td align=\"right\" valign=\"top\" class=\"title\"><span class=\"rank\">2.</span></td>      <td valign=\"top\" class=\"votelinks\"><center><a id='up_27128994' href='vote?id=27128994&amp;how=up&amp;goto=news'><div class='votearrow' title='upvote'></div></a></center></td><td class=\"title\"><a href=\"http://blog.erlang.org/My-OTP-24-Highlights/\" class=\"storylink\">Erlang/OTP 24 Highlights</a><span class=\"sitebit comhead\"> (<a href=\"from?site=erlang.org\"><span class=\"sitestr\">erlang.org</span></a>)</span></td></tr><tr><td colspan=\"2\"></td><td class=\"subtext\">\n",
      "        <span class=\"score\" id=\"score_27128994\">282 points</span> by <a href=\"user?id=nifoc\" class=\"hnuser\">nifoc</a> <span class=\"age\"><a href=\"item?id=27128994\">4 hours ago</a></span> <span id=\"unv_27128994\"></span> | <a href=\"hide?id=27128994&amp;goto=news\">hide</a> | <a href=\"item?id=27128994\">43&nbsp;comments</a>              </td></tr>\n",
      "      <tr class=\"spacer\" style=\"height:5px\"></tr>\n",
      "                <tr class='athing' id='27129305'>\n",
      "      <td align=\"right\" valign=\"top\" class=\"title\"><span class=\"rank\">3.</span></td>      <td valign=\"top\" class=\"votelinks\"><center><a id='up_27129305' href='vote?id=27129305&amp;how=up&amp;goto=news'><div class='votearrow' title='upvote'></div></a></center></td><td class=\"title\"><a href=\"https://discuss.haiku-os.org/t/my-haiku-risc-v-port-progress/10663/86?u=return_0e\" class=\"storylink\">Haiku OS ported and running on RISC-V</a><span class=\"sitebit comhead\"> (<a href=\"from?site=haiku-os.org\"><span class=\"sitestr\">haiku-os.org</span></a>)</span></td></tr><tr><td colspan=\"2\"></td><td class=\"subtext\">\n",
      "        <span class=\"score\" id=\"score_27129305\">150 points</span> by <a href=\"user?id=highspeedmobile\" class=\"hnuser\">highspeedmobile</a> <span class=\"age\"><a href=\"item?id=27129305\">4 hours ago</a></span> <span id=\"unv_27129305\"></span> | <a href=\"hide?id=27129305&amp;goto=news\">hide</a> | <a href=\"item?id=27129305\">37&nbsp;comments</a>              </td></tr>\n",
      "      <tr class=\"spacer\" style=\"height:5px\"></tr>\n",
      "                <tr class='athing' id='27130355'>\n",
      "      <td align=\"right\" valign=\"top\" class=\"title\"><span class=\"rank\">4.</span></td>      <td valign=\"top\" class=\"votelinks\"><center><a id='up_27130355' href='vote?id=27130355&amp;how=up&amp;goto=news'><div class='votearrow' title='upvote'></div></a></center></td><td class=\"title\"><a href=\"https://positive.security/blog/send-my\" class=\"storylink\">Emulating AirTags to upload arbitrary data via Apple's FindMy network</a><span class=\"sitebit comhead\"> (<a href=\"from?site=positive.security\"><span class=\"sitestr\">positive.security</span></a>)</span></td></tr><tr><td colspan=\"2\"></td><td class=\"subtext\">\n",
      "        <span class=\"score\" id=\"score_27130355\">234 points</span> by <a href=\"user?id=kerm1t\" class=\"hnuser\">kerm1t</a> <span class=\"age\"><a href=\"item?id=27130355\">2 hours ago</a></span> <span id=\"unv_27130355\"></span> | <a href=\"hide?id=27130355&amp;goto=news\">hide</a> | <a href=\"item?id=27130355\">40&nbsp;comments</a>              </td></tr>\n",
      "      <tr class=\"spacer\" style=\"height:5px\"></tr>\n",
      "                <tr class='athing' id='27128424'>\n",
      "      <td align=\"right\" valign=\"top\" class=\"title\"><span class=\"rank\">5.</span></td>      <td valign=\"top\" class=\"votelinks\"><center><a id='up_27128424' href='vote?id=27128424&amp;how=up&amp;goto=news'><div class='votearrow' title='upvote'></div></a></center></td><td class=\"title\"><a href=\"https://build.mmm.page\" class=\"storylink\">Show HN: Mmm.page – Drag and drop personal website creator</a><span class=\"sitebit comhead\"> (<a href=\"from?site=mmm.page\"><span class=\"sitestr\">mmm.page</span></a>)</span></td></tr><tr><td colspan=\"2\"></td><td class=\"subtext\">\n",
      "        <span class=\"score\" id=\"score_27128424\">341 points</span> by <a href=\"user?id=xhfloz\" class=\"hnuser\">xhfloz</a> <span class=\"age\"><a href=\"item?id=27128424\">6 hours ago</a></span> <span id=\"unv_27128424\"></span> | <a href=\"hide?id=27128424&amp;goto=news\">hide</a> | <a href=\"item?id=27128424\">97&nbsp;comments</a>              </td></tr>\n",
      "      <tr class=\"spacer\" style=\"height:5px\"></tr>\n",
      "                <tr class='athing' id='27128531'>\n",
      "      <td align=\"right\" valign=\"top\" class=\"title\"><span class=\"rank\">6.</span></td>      <td valign=\"top\" class=\"votelinks\"><center><a id='up_27128531' href='vote?id=27128531&amp;how=up&amp;goto=news'><div class='votearrow' title='upvote'></div></a></center></td><td class=\"title\"><a href=\"https://dmitry.gr/?r=05.Projects&amp;proj=30.%20Reverse%20Engineering%20an%20Unknown%20Microcontroller\" class=\"storylink\">Reverse Engineering an Unknown Microcontroller</a><span class=\"sitebit comhead\"> (<a href=\"from?site=dmitry.gr\"><span class=\"sitestr\">dmitry.gr</span></a>)</span></td></tr><tr><td colspan=\"2\"></td><td class=\"subtext\">\n",
      "        <span class=\"score\" id=\"score_27128531\">187 points</span> by <a href=\"user?id=dmitrygr\" class=\"hnuser\">dmitrygr</a> <span class=\"age\"><a href=\"item?id=27128531\">6 hours ago</a></span> <span id=\"unv_27128531\"></span> | <a href=\"hide?id=27128531&amp;goto=news\">hide</a> | <a href=\"item?id=27128531\">23&nbsp;comments</a>              </td></tr>\n",
      "      <tr class=\"spacer\" style=\"height:5px\"></tr>\n",
      "                <tr class='athing' id='27127468'>\n",
      "      <td align=\"right\" valign=\"top\" class=\"title\"><span class=\"rank\">7.</span></td>      <td valign=\"top\" class=\"votelinks\"><center><a id='up_27127468' href='vote?id=27127468&amp;how=up&amp;goto=news'><div class='votearrow' title='upvote'></div></a></center></td><td class=\"title\"><a href=\"https://stackoverflow.blog/2021/05/11/building-a-space-based-isp/\" class=\"storylink\">Building a Space-Based ISP</a><span class=\"sitebit comhead\"> (<a href=\"from?site=stackoverflow.blog\"><span class=\"sitestr\">stackoverflow.blog</span></a>)</span></td></tr><tr><td colspan=\"2\"></td><td class=\"subtext\">\n",
      "        <span class=\"score\" id=\"score_27127468\">14 points</span> by <a href=\"user?id=dinosaurs\" class=\"hnuser\">dinosaurs</a> <span class=\"age\"><a href=\"item?id=27127468\">1 hour ago</a></span> <span id=\"unv_27127468\"></span> | <a href=\"hide?id=27127468&amp;goto=news\">hide</a> | <a href=\"item?id=27127468\">discuss</a>              </td></tr>\n",
      "      <tr class=\"spacer\" style=\"height:5px\"></tr>\n",
      "                <tr class='athing' id='27129518'>\n",
      "      <td align=\"right\" valign=\"top\" class=\"title\"><span class=\"rank\">8.</span></td>      <td valign=\"top\" class=\"votelinks\"><center><a id='up_27129518' href='vote?id=27129518&amp;how=up&amp;goto=news'><div class='votearrow' title='upvote'></div></a></center></td><td class=\"title\"><a href=\"https://jmtirado.net/writing-a-programming-book-in-2021/\" class=\"storylink\">Writing a Programming Book in 2021</a><span class=\"sitebit comhead\"> (<a href=\"from?site=jmtirado.net\"><span class=\"sitestr\">jmtirado.net</span></a>)</span></td></tr><tr><td colspan=\"2\"></td><td class=\"subtext\">\n",
      "        <span class=\"score\" id=\"score_27129518\">75 points</span> by <a href=\"user?id=wilsonfiifi\" class=\"hnuser\">wilsonfiifi</a> <span class=\"age\"><a href=\"item?id=27129518\">3 hours ago</a></span> <span id=\"unv_27129518\"></span> | <a href=\"hide?id=27129518&amp;goto=news\">hide</a> | <a href=\"item?id=27129518\">31&nbsp;comments</a>              </td></tr>\n",
      "      <tr class=\"spacer\" style=\"height:5px\"></tr>\n",
      "                <tr class='athing' id='27128831'>\n",
      "      <td align=\"right\" valign=\"top\" class=\"title\"><span class=\"rank\">9.</span></td>      <td valign=\"top\" class=\"votelinks\"><center><a id='up_27128831' href='vote?id=27128831&amp;how=up&amp;goto=news'><div class='votearrow' title='upvote'></div></a></center></td><td class=\"title\"><a href=\"https://arstechnica.com/cars/2021/05/volvo-and-daimler-bet-on-hydrogen-truck-boom-this-decade/\" class=\"storylink\">Volvo and Daimler bet on hydrogen truck boom this decade</a><span class=\"sitebit comhead\"> (<a href=\"from?site=arstechnica.com\"><span class=\"sitestr\">arstechnica.com</span></a>)</span></td></tr><tr><td colspan=\"2\"></td><td class=\"subtext\">\n",
      "        <span class=\"score\" id=\"score_27128831\">57 points</span> by <a href=\"user?id=samizdis\" class=\"hnuser\">samizdis</a> <span class=\"age\"><a href=\"item?id=27128831\">4 hours ago</a></span> <span id=\"unv_27128831\"></span> | <a href=\"hide?id=27128831&amp;goto=news\">hide</a> | <a href=\"item?id=27128831\">136&nbsp;comments</a>              </td></tr>\n",
      "      <tr class=\"spacer\" style=\"height:5px\"></tr>\n",
      "                <tr class='athing' id='27128869'>\n",
      "      <td align=\"right\" valign=\"top\" class=\"title\"><span class=\"rank\">10.</span></td>      <td valign=\"top\" class=\"votelinks\"><center><a id='up_27128869' href='vote?id=27128869&amp;how=up&amp;goto=news'><div class='votearrow' title='upvote'></div></a></center></td><td class=\"title\"><a href=\"https://madned.substack.com/p/thin-pipe-part-i\" class=\"storylink\">My multi-decade quest for rural broadband</a><span class=\"sitebit comhead\"> (<a href=\"from?site=madned.substack.com\"><span class=\"sitestr\">madned.substack.com</span></a>)</span></td></tr><tr><td colspan=\"2\"></td><td class=\"subtext\">\n",
      "        <span class=\"score\" id=\"score_27128869\">126 points</span> by <a href=\"user?id=mad_ned\" class=\"hnuser\">mad_ned</a> <span class=\"age\"><a href=\"item?id=27128869\">5 hours ago</a></span> <span id=\"unv_27128869\"></span> | <a href=\"hide?id=27128869&amp;goto=news\">hide</a> | <a href=\"item?id=27128869\">69&nbsp;comments</a>              </td></tr>\n",
      "      <tr class=\"spacer\" style=\"height:5px\"></tr>\n",
      "                <tr class='athing' id='27130275'>\n",
      "      <td align=\"right\" valign=\"top\" class=\"title\"><span class=\"rank\">11.</span></td>      <td valign=\"top\" class=\"votelinks\"><center><a id='up_27130275' href='vote?id=27130275&amp;how=up&amp;goto=news'><div class='votearrow' title='upvote'></div></a></center></td><td class=\"title\"><a href=\"https://simpleflying.com/australia-supersonic-flight/\" class=\"storylink\">Australia Joins the Race for Supersonic Flight</a><span class=\"sitebit comhead\"> (<a href=\"from?site=simpleflying.com\"><span class=\"sitestr\">simpleflying.com</span></a>)</span></td></tr><tr><td colspan=\"2\"></td><td class=\"subtext\">\n",
      "        <span class=\"score\" id=\"score_27130275\">33 points</span> by <a href=\"user?id=prostoalex\" class=\"hnuser\">prostoalex</a> <span class=\"age\"><a href=\"item?id=27130275\">2 hours ago</a></span> <span id=\"unv_27130275\"></span> | <a href=\"hide?id=27130275&amp;goto=news\">hide</a> | <a href=\"item?id=27130275\">8&nbsp;comments</a>              </td></tr>\n",
      "      <tr class=\"spacer\" style=\"height:5px\"></tr>\n",
      "                <tr class='athing' id='27128803'>\n",
      "      <td align=\"right\" valign=\"top\" class=\"title\"><span class=\"rank\">12.</span></td>      <td valign=\"top\" class=\"votelinks\"><center><a id='up_27128803' href='vote?id=27128803&amp;how=up&amp;goto=news'><div class='votearrow' title='upvote'></div></a></center></td><td class=\"title\"><a href=\"https://www.checkmyworking.com/cm-web-fonts/\" class=\"storylink\">Using Computer Modern on the web (2013)</a><span class=\"sitebit comhead\"> (<a href=\"from?site=checkmyworking.com\"><span class=\"sitestr\">checkmyworking.com</span></a>)</span></td></tr><tr><td colspan=\"2\"></td><td class=\"subtext\">\n",
      "        <span class=\"score\" id=\"score_27128803\">56 points</span> by <a href=\"user?id=phab\" class=\"hnuser\">phab</a> <span class=\"age\"><a href=\"item?id=27128803\">4 hours ago</a></span> <span id=\"unv_27128803\"></span> | <a href=\"hide?id=27128803&amp;goto=news\">hide</a> | <a href=\"item?id=27128803\">51&nbsp;comments</a>              </td></tr>\n",
      "      <tr class=\"spacer\" style=\"height:5px\"></tr>\n",
      "                <tr class='athing' id='27126092'>\n",
      "      <td align=\"right\" valign=\"top\" class=\"title\"><span class=\"rank\">13.</span></td>      <td valign=\"top\" class=\"votelinks\"><center><a id='up_27126092' href='vote?id=27126092&amp;how=up&amp;goto=news'><div class='votearrow' title='upvote'></div></a></center></td><td class=\"title\"><a href=\"https://intel-isl.github.io/PhotorealismEnhancement/\" class=\"storylink\">Enhancing Photorealism Enhancement</a><span class=\"sitebit comhead\"> (<a href=\"from?site=intel-isl.github.io\"><span class=\"sitestr\">intel-isl.github.io</span></a>)</span></td></tr><tr><td colspan=\"2\"></td><td class=\"subtext\">\n",
      "        <span class=\"score\" id=\"score_27126092\">422 points</span> by <a href=\"user?id=lnyan\" class=\"hnuser\">lnyan</a> <span class=\"age\"><a href=\"item?id=27126092\">13 hours ago</a></span> <span id=\"unv_27126092\"></span> | <a href=\"hide?id=27126092&amp;goto=news\">hide</a> | <a href=\"item?id=27126092\">114&nbsp;comments</a>              </td></tr>\n",
      "      <tr class=\"spacer\" style=\"height:5px\"></tr>\n",
      "                <tr class='athing' id='27129275'>\n",
      "      <td align=\"right\" valign=\"top\" class=\"title\"><span class=\"rank\">14.</span></td>      <td></td><td class=\"title\"><a href=\"https://jobs.lever.co/cover-2/efb72344-405e-40db-8abf-e2a758b2e7c7\" class=\"storylink\" rel=\"nofollow\">Cover (YC W16) Is Hiring</a><span class=\"sitebit comhead\"> (<a href=\"from?site=lever.co\"><span class=\"sitestr\">lever.co</span></a>)</span></td></tr><tr><td colspan=\"2\"></td><td class=\"subtext\">\n",
      "        <span class=\"age\"><a href=\"item?id=27129275\">4 hours ago</a></span> | <a href=\"hide?id=27129275&amp;goto=news\">hide</a>      </td></tr>\n",
      "      <tr class=\"spacer\" style=\"height:5px\"></tr>\n",
      "                <tr class='athing' id='27118965'>\n",
      "      <td align=\"right\" valign=\"top\" class=\"title\"><span class=\"rank\">15.</span></td>      <td valign=\"top\" class=\"votelinks\"><center><a id='up_27118965' href='vote?id=27118965&amp;how=up&amp;goto=news'><div class='votearrow' title='upvote'></div></a></center></td><td class=\"title\"><a href=\"https://www.cambridge.org/core/journals/historical-journal/article/failed-globalization-of-psychedelic-drugs-in-the-early-modern-world/6ADA9DE0F3FAC7E18591C7A96A53AA58\" class=\"storylink\">The Failed Globalization of Psychedelic Drugs in the Early Modern World</a><span class=\"sitebit comhead\"> (<a href=\"from?site=cambridge.org\"><span class=\"sitestr\">cambridge.org</span></a>)</span></td></tr><tr><td colspan=\"2\"></td><td class=\"subtext\">\n",
      "        <span class=\"score\" id=\"score_27118965\">74 points</span> by <a href=\"user?id=benbreen\" class=\"hnuser\">benbreen</a> <span class=\"age\"><a href=\"item?id=27118965\">5 hours ago</a></span> <span id=\"unv_27118965\"></span> | <a href=\"hide?id=27118965&amp;goto=news\">hide</a> | <a href=\"item?id=27118965\">21&nbsp;comments</a>              </td></tr>\n",
      "      <tr class=\"spacer\" style=\"height:5px\"></tr>\n",
      "                <tr class='athing' id='27128603'>\n",
      "      <td align=\"right\" valign=\"top\" class=\"title\"><span class=\"rank\">16.</span></td>      <td valign=\"top\" class=\"votelinks\"><center><a id='up_27128603' href='vote?id=27128603&amp;how=up&amp;goto=news'><div class='votearrow' title='upvote'></div></a></center></td><td class=\"title\"><a href=\"https://csvbox.io\" class=\"storylink\">Show HN: Csvbox.io – CSV import button for a web app, SaaS or API</a><span class=\"sitebit comhead\"> (<a href=\"from?site=csvbox.io\"><span class=\"sitestr\">csvbox.io</span></a>)</span></td></tr><tr><td colspan=\"2\"></td><td class=\"subtext\">\n",
      "        <span class=\"score\" id=\"score_27128603\">84 points</span> by <a href=\"user?id=spreadr\" class=\"hnuser\">spreadr</a> <span class=\"age\"><a href=\"item?id=27128603\">5 hours ago</a></span> <span id=\"unv_27128603\"></span> | <a href=\"hide?id=27128603&amp;goto=news\">hide</a> | <a href=\"item?id=27128603\">58&nbsp;comments</a>              </td></tr>\n",
      "      <tr class=\"spacer\" style=\"height:5px\"></tr>\n",
      "                <tr class='athing' id='27128765'>\n",
      "      <td align=\"right\" valign=\"top\" class=\"title\"><span class=\"rank\">17.</span></td>      <td valign=\"top\" class=\"votelinks\"><center><a id='up_27128765' href='vote?id=27128765&amp;how=up&amp;goto=news'><div class='votearrow' title='upvote'></div></a></center></td><td class=\"title\"><a href=\"https://ban.ai/multics/\" class=\"storylink\">Multics Public Access</a><span class=\"sitebit comhead\"> (<a href=\"from?site=ban.ai\"><span class=\"sitestr\">ban.ai</span></a>)</span></td></tr><tr><td colspan=\"2\"></td><td class=\"subtext\">\n",
      "        <span class=\"score\" id=\"score_27128765\">60 points</span> by <a href=\"user?id=nix23\" class=\"hnuser\">nix23</a> <span class=\"age\"><a href=\"item?id=27128765\">5 hours ago</a></span> <span id=\"unv_27128765\"></span> | <a href=\"hide?id=27128765&amp;goto=news\">hide</a> | <a href=\"item?id=27128765\">17&nbsp;comments</a>              </td></tr>\n",
      "      <tr class=\"spacer\" style=\"height:5px\"></tr>\n",
      "                <tr class='athing' id='27117142'>\n",
      "      <td align=\"right\" valign=\"top\" class=\"title\"><span class=\"rank\">18.</span></td>      <td valign=\"top\" class=\"votelinks\"><center><a id='up_27117142' href='vote?id=27117142&amp;how=up&amp;goto=news'><div class='votearrow' title='upvote'></div></a></center></td><td class=\"title\"><a href=\"https://www.smithsonianmag.com/science-nature/why-do-older-individuals-have-greater-control-their-feelings-180977693/\" class=\"storylink\">Why do older individuals have greater control of their feelings?</a><span class=\"sitebit comhead\"> (<a href=\"from?site=smithsonianmag.com\"><span class=\"sitestr\">smithsonianmag.com</span></a>)</span></td></tr><tr><td colspan=\"2\"></td><td class=\"subtext\">\n",
      "        <span class=\"score\" id=\"score_27117142\">84 points</span> by <a href=\"user?id=pseudolus\" class=\"hnuser\">pseudolus</a> <span class=\"age\"><a href=\"item?id=27117142\">6 hours ago</a></span> <span id=\"unv_27117142\"></span> | <a href=\"hide?id=27117142&amp;goto=news\">hide</a> | <a href=\"item?id=27117142\">117&nbsp;comments</a>              </td></tr>\n",
      "      <tr class=\"spacer\" style=\"height:5px\"></tr>\n",
      "                <tr class='athing' id='27131477'>\n",
      "      <td align=\"right\" valign=\"top\" class=\"title\"><span class=\"rank\">19.</span></td>      <td valign=\"top\" class=\"votelinks\"><center><a id='up_27131477' href='vote?id=27131477&amp;how=up&amp;goto=news'><div class='votearrow' title='upvote'></div></a></center></td><td class=\"title\"><a href=\"https://imgur.com/a/vCO6OWQ\" class=\"storylink\">My iPhone 11 Pro is 50% slower after I updated to iOS 14.5.1</a><span class=\"sitebit comhead\"> (<a href=\"from?site=imgur.com\"><span class=\"sitestr\">imgur.com</span></a>)</span></td></tr><tr><td colspan=\"2\"></td><td class=\"subtext\">\n",
      "        <span class=\"score\" id=\"score_27131477\">23 points</span> by <a href=\"user?id=raspasov\" class=\"hnuser\">raspasov</a> <span class=\"age\"><a href=\"item?id=27131477\">36 minutes ago</a></span> <span id=\"unv_27131477\"></span> | <a href=\"hide?id=27131477&amp;goto=news\">hide</a> | <a href=\"item?id=27131477\">10&nbsp;comments</a>              </td></tr>\n",
      "      <tr class=\"spacer\" style=\"height:5px\"></tr>\n",
      "                <tr class='athing' id='27126939'>\n",
      "      <td align=\"right\" valign=\"top\" class=\"title\"><span class=\"rank\">20.</span></td>      <td valign=\"top\" class=\"votelinks\"><center><a id='up_27126939' href='vote?id=27126939&amp;how=up&amp;goto=news'><div class='votearrow' title='upvote'></div></a></center></td><td class=\"title\"><a href=\"http://humbletoolsmith.com/2020/08/10/the-importance-of-humility-in-software-development/\" class=\"storylink\">The Importance of Humility in Software Development (2020)</a><span class=\"sitebit comhead\"> (<a href=\"from?site=humbletoolsmith.com\"><span class=\"sitestr\">humbletoolsmith.com</span></a>)</span></td></tr><tr><td colspan=\"2\"></td><td class=\"subtext\">\n",
      "        <span class=\"score\" id=\"score_27126939\">228 points</span> by <a href=\"user?id=raptorraver\" class=\"hnuser\">raptorraver</a> <span class=\"age\"><a href=\"item?id=27126939\">10 hours ago</a></span> <span id=\"unv_27126939\"></span> | <a href=\"hide?id=27126939&amp;goto=news\">hide</a> | <a href=\"item?id=27126939\">170&nbsp;comments</a>              </td></tr>\n",
      "      <tr class=\"spacer\" style=\"height:5px\"></tr>\n",
      "                <tr class='athing' id='27114562'>\n",
      "      <td align=\"right\" valign=\"top\" class=\"title\"><span class=\"rank\">21.</span></td>      <td valign=\"top\" class=\"votelinks\"><center><a id='up_27114562' href='vote?id=27114562&amp;how=up&amp;goto=news'><div class='votearrow' title='upvote'></div></a></center></td><td class=\"title\"><a href=\"https://www.historytoday.com/archive/history-matters/feather-her-cap\" class=\"storylink\">A Feather in Her Cap</a><span class=\"sitebit comhead\"> (<a href=\"from?site=historytoday.com\"><span class=\"sitestr\">historytoday.com</span></a>)</span></td></tr><tr><td colspan=\"2\"></td><td class=\"subtext\">\n",
      "        <span class=\"score\" id=\"score_27114562\">14 points</span> by <a href=\"user?id=Vigier\" class=\"hnuser\">Vigier</a> <span class=\"age\"><a href=\"item?id=27114562\">2 hours ago</a></span> <span id=\"unv_27114562\"></span> | <a href=\"hide?id=27114562&amp;goto=news\">hide</a> | <a href=\"item?id=27114562\">1&nbsp;comment</a>              </td></tr>\n",
      "      <tr class=\"spacer\" style=\"height:5px\"></tr>\n",
      "                <tr class='athing' id='27127578'>\n",
      "      <td align=\"right\" valign=\"top\" class=\"title\"><span class=\"rank\">22.</span></td>      <td valign=\"top\" class=\"votelinks\"><center><a id='up_27127578' href='vote?id=27127578&amp;how=up&amp;goto=news'><div class='votearrow' title='upvote'></div></a></center></td><td class=\"title\"><a href=\"https://github.com/Trendyol/mobile-app-automizer\" class=\"storylink\">Show HN: Mobile App Automizer</a><span class=\"sitebit comhead\"> (<a href=\"from?site=github.com/trendyol\"><span class=\"sitestr\">github.com/trendyol</span></a>)</span></td></tr><tr><td colspan=\"2\"></td><td class=\"subtext\">\n",
      "        <span class=\"score\" id=\"score_27127578\">11 points</span> by <a href=\"user?id=sercaneraslan\" class=\"hnuser\">sercaneraslan</a> <span class=\"age\"><a href=\"item?id=27127578\">2 hours ago</a></span> <span id=\"unv_27127578\"></span> | <a href=\"hide?id=27127578&amp;goto=news\">hide</a> | <a href=\"item?id=27127578\">3&nbsp;comments</a>              </td></tr>\n",
      "      <tr class=\"spacer\" style=\"height:5px\"></tr>\n",
      "                <tr class='athing' id='27127403'>\n",
      "      <td align=\"right\" valign=\"top\" class=\"title\"><span class=\"rank\">23.</span></td>      <td valign=\"top\" class=\"votelinks\"><center><a id='up_27127403' href='vote?id=27127403&amp;how=up&amp;goto=news'><div class='votearrow' title='upvote'></div></a></center></td><td class=\"title\"><a href=\"https://dropbox.tech/machine-learning/how-image-search-works-at-dropbox\" class=\"storylink\">How image search works at Dropbox</a><span class=\"sitebit comhead\"> (<a href=\"from?site=dropbox.tech\"><span class=\"sitestr\">dropbox.tech</span></a>)</span></td></tr><tr><td colspan=\"2\"></td><td class=\"subtext\">\n",
      "        <span class=\"score\" id=\"score_27127403\">136 points</span> by <a href=\"user?id=hyzyla\" class=\"hnuser\">hyzyla</a> <span class=\"age\"><a href=\"item?id=27127403\">9 hours ago</a></span> <span id=\"unv_27127403\"></span> | <a href=\"hide?id=27127403&amp;goto=news\">hide</a> | <a href=\"item?id=27127403\">66&nbsp;comments</a>              </td></tr>\n",
      "      <tr class=\"spacer\" style=\"height:5px\"></tr>\n",
      "                <tr class='athing' id='27129927'>\n",
      "      <td align=\"right\" valign=\"top\" class=\"title\"><span class=\"rank\">24.</span></td>      <td valign=\"top\" class=\"votelinks\"><center><a id='up_27129927' href='vote?id=27129927&amp;how=up&amp;goto=news'><div class='votearrow' title='upvote'></div></a></center></td><td class=\"title\"><a href=\"https://www.bloomberg.com/news/articles/2021-05-12/consumer-prices-in-u-s-increase-by-most-since-2009\" class=\"storylink\">Consumer Prices in U.S. Increase by Most Since 2009</a><span class=\"sitebit comhead\"> (<a href=\"from?site=bloomberg.com\"><span class=\"sitestr\">bloomberg.com</span></a>)</span></td></tr><tr><td colspan=\"2\"></td><td class=\"subtext\">\n",
      "        <span class=\"score\" id=\"score_27129927\">81 points</span> by <a href=\"user?id=simonpure\" class=\"hnuser\">simonpure</a> <span class=\"age\"><a href=\"item?id=27129927\">2 hours ago</a></span> <span id=\"unv_27129927\"></span> | <a href=\"hide?id=27129927&amp;goto=news\">hide</a> | <a href=\"item?id=27129927\">75&nbsp;comments</a>              </td></tr>\n",
      "      <tr class=\"spacer\" style=\"height:5px\"></tr>\n",
      "                <tr class='athing' id='27128425'>\n",
      "      <td align=\"right\" valign=\"top\" class=\"title\"><span class=\"rank\">25.</span></td>      <td valign=\"top\" class=\"votelinks\"><center><a id='up_27128425' href='vote?id=27128425&amp;how=up&amp;goto=news'><div class='votearrow' title='upvote'></div></a></center></td><td class=\"title\"><a href=\"https://dspace.mit.edu/handle/1721.1/109000\" class=\"storylink\">Improved distributed algorithms for fundamental graph problems (2017)</a><span class=\"sitebit comhead\"> (<a href=\"from?site=dspace.mit.edu\"><span class=\"sitestr\">dspace.mit.edu</span></a>)</span></td></tr><tr><td colspan=\"2\"></td><td class=\"subtext\">\n",
      "        <span class=\"score\" id=\"score_27128425\">37 points</span> by <a href=\"user?id=eternalban\" class=\"hnuser\">eternalban</a> <span class=\"age\"><a href=\"item?id=27128425\">6 hours ago</a></span> <span id=\"unv_27128425\"></span> | <a href=\"hide?id=27128425&amp;goto=news\">hide</a> | <a href=\"item?id=27128425\">1&nbsp;comment</a>              </td></tr>\n",
      "      <tr class=\"spacer\" style=\"height:5px\"></tr>\n",
      "                <tr class='athing' id='27125742'>\n",
      "      <td align=\"right\" valign=\"top\" class=\"title\"><span class=\"rank\">26.</span></td>      <td valign=\"top\" class=\"votelinks\"><center><a id='up_27125742' href='vote?id=27125742&amp;how=up&amp;goto=news'><div class='votearrow' title='upvote'></div></a></center></td><td class=\"title\"><a href=\"https://arxiv.org/abs/2105.05233\" class=\"storylink\">Diffusion Models Beat GANs on Image Synthesis</a><span class=\"sitebit comhead\"> (<a href=\"from?site=arxiv.org\"><span class=\"sitestr\">arxiv.org</span></a>)</span></td></tr><tr><td colspan=\"2\"></td><td class=\"subtext\">\n",
      "        <span class=\"score\" id=\"score_27125742\">191 points</span> by <a href=\"user?id=lnyan\" class=\"hnuser\">lnyan</a> <span class=\"age\"><a href=\"item?id=27125742\">14 hours ago</a></span> <span id=\"unv_27125742\"></span> | <a href=\"hide?id=27125742&amp;goto=news\">hide</a> | <a href=\"item?id=27125742\">41&nbsp;comments</a>              </td></tr>\n",
      "      <tr class=\"spacer\" style=\"height:5px\"></tr>\n",
      "                <tr class='athing' id='27125916'>\n",
      "      <td align=\"right\" valign=\"top\" class=\"title\"><span class=\"rank\">27.</span></td>      <td valign=\"top\" class=\"votelinks\"><center><a id='up_27125916' href='vote?id=27125916&amp;how=up&amp;goto=news'><div class='votearrow' title='upvote'></div></a></center></td><td class=\"title\"><a href=\"https://apnews.com/article/police-technology-government-and-politics-53e54780aa080decbb78d5b88d4ff44b\" class=\"storylink\">Ransomware gang threatens release of Washington D.C. police records</a><span class=\"sitebit comhead\"> (<a href=\"from?site=apnews.com\"><span class=\"sitestr\">apnews.com</span></a>)</span></td></tr><tr><td colspan=\"2\"></td><td class=\"subtext\">\n",
      "        <span class=\"score\" id=\"score_27125916\">137 points</span> by <a href=\"user?id=danso\" class=\"hnuser\">danso</a> <span class=\"age\"><a href=\"item?id=27125916\">13 hours ago</a></span> <span id=\"unv_27125916\"></span> | <a href=\"hide?id=27125916&amp;goto=news\">hide</a> | <a href=\"item?id=27125916\">151&nbsp;comments</a>              </td></tr>\n",
      "      <tr class=\"spacer\" style=\"height:5px\"></tr>\n",
      "                <tr class='athing' id='27127316'>\n",
      "      <td align=\"right\" valign=\"top\" class=\"title\"><span class=\"rank\">28.</span></td>      <td valign=\"top\" class=\"votelinks\"><center><a id='up_27127316' href='vote?id=27127316&amp;how=up&amp;goto=news'><div class='votearrow' title='upvote'></div></a></center></td><td class=\"title\"><a href=\"https://deno.com/blog/v1.10\" class=\"storylink\">Deno 1.1</a><span class=\"sitebit comhead\"> (<a href=\"from?site=deno.com\"><span class=\"sitestr\">deno.com</span></a>)</span></td></tr><tr><td colspan=\"2\"></td><td class=\"subtext\">\n",
      "        <span class=\"score\" id=\"score_27127316\">243 points</span> by <a href=\"user?id=caspervonb\" class=\"hnuser\">caspervonb</a> <span class=\"age\"><a href=\"item?id=27127316\">9 hours ago</a></span> <span id=\"unv_27127316\"></span> | <a href=\"hide?id=27127316&amp;goto=news\">hide</a> | <a href=\"item?id=27127316\">125&nbsp;comments</a>              </td></tr>\n",
      "      <tr class=\"spacer\" style=\"height:5px\"></tr>\n",
      "                <tr class='athing' id='27116599'>\n",
      "      <td align=\"right\" valign=\"top\" class=\"title\"><span class=\"rank\">29.</span></td>      <td valign=\"top\" class=\"votelinks\"><center><a id='up_27116599' href='vote?id=27116599&amp;how=up&amp;goto=news'><div class='votearrow' title='upvote'></div></a></center></td><td class=\"title\"><a href=\"https://www.visualizingsep.com/#\" class=\"storylink\">Welcome to Visualizing Stanford Encyclopedia of Philosophy</a><span class=\"sitebit comhead\"> (<a href=\"from?site=visualizingsep.com\"><span class=\"sitestr\">visualizingsep.com</span></a>)</span></td></tr><tr><td colspan=\"2\"></td><td class=\"subtext\">\n",
      "        <span class=\"score\" id=\"score_27116599\">110 points</span> by <a href=\"user?id=nabla9\" class=\"hnuser\">nabla9</a> <span class=\"age\"><a href=\"item?id=27116599\">13 hours ago</a></span> <span id=\"unv_27116599\"></span> | <a href=\"hide?id=27116599&amp;goto=news\">hide</a> | <a href=\"item?id=27116599\">13&nbsp;comments</a>              </td></tr>\n",
      "      <tr class=\"spacer\" style=\"height:5px\"></tr>\n",
      "                <tr class='athing' id='27127703'>\n",
      "      <td align=\"right\" valign=\"top\" class=\"title\"><span class=\"rank\">30.</span></td>      <td valign=\"top\" class=\"votelinks\"><center><a id='up_27127703' href='vote?id=27127703&amp;how=up&amp;goto=news'><div class='votearrow' title='upvote'></div></a></center></td><td class=\"title\"><a href=\"https://kmskrishna.me/how-i-could-send-any-text-message-from-indian-government-ids-b61c5b8726c9\" class=\"storylink\">I could send any text message from Indian government IDs</a><span class=\"sitebit comhead\"> (<a href=\"from?site=kmskrishna.me\"><span class=\"sitestr\">kmskrishna.me</span></a>)</span></td></tr><tr><td colspan=\"2\"></td><td class=\"subtext\">\n",
      "        <span class=\"score\" id=\"score_27127703\">110 points</span> by <a href=\"user?id=winchester6788\" class=\"hnuser\">winchester6788</a> <span class=\"age\"><a href=\"item?id=27127703\">8 hours ago</a></span> <span id=\"unv_27127703\"></span> | <a href=\"hide?id=27127703&amp;goto=news\">hide</a> | <a href=\"item?id=27127703\">34&nbsp;comments</a>              </td></tr>\n",
      "      <tr class=\"spacer\" style=\"height:5px\"></tr>\n",
      "            <tr class=\"morespace\" style=\"height:10px\"></tr><tr><td colspan=\"2\"></td><td class=\"title\"><a href=\"news?p=2\" class=\"morelink\" rel=\"next\">More</a></td></tr>\n",
      "  </table>\n",
      "</td></tr>\n",
      "<tr><td><img src=\"s.gif\" height=\"10\" width=\"0\"><table width=\"100%\" cellspacing=\"0\" cellpadding=\"1\"><tr><td bgcolor=\"#ff6600\"></td></tr></table><br><center><span class=\"yclinks\"><a href=\"newsguidelines.html\">Guidelines</a>\n",
      "        | <a href=\"newsfaq.html\">FAQ</a>\n",
      "        | <a href=\"lists\">Lists</a>\n",
      "        | <a href=\"https://github.com/HackerNews/API\">API</a>\n",
      "        | <a href=\"security.html\">Security</a>\n",
      "        | <a href=\"http://www.ycombinator.com/legal/\">Legal</a>\n",
      "        | <a href=\"http://www.ycombinator.com/apply/\">Apply to YC</a>\n",
      "        | <a href=\"mailto:hn@ycombinator.com\">Contact</a></span><br><br><form method=\"get\" action=\"//hn.algolia.com/\">Search:\n",
      "          <input type=\"text\" name=\"q\" value=\"\" size=\"17\" autocorrect=\"off\" spellcheck=\"false\" autocapitalize=\"off\" autocomplete=\"false\"></form>\n",
      "            </center></td></tr>\n",
      "      </table></center></body><script type='text/javascript' src='hn.js?QnkoIDmmf0I46Ms4s8mx'></script></html>\n",
      "\n"
     ]
    }
   ],
   "source": [
    "import requests\n",
    "\n",
    "# Fetch a web page\n",
    "r = requests.get(\"https://news.ycombinator.com\")\n",
    "print(r.text)"
   ]
  },
  {
   "cell_type": "code",
   "execution_count": 5,
   "metadata": {},
   "outputs": [
    {
     "name": "stdout",
     "output_type": "stream",
     "text": [
      "\n",
      "        \n",
      "          \n",
      "        Hacker News\n",
      "        \n",
      "                  Hacker News\n",
      "              new | past | comments | ask | show | jobs | submit            \n",
      "                              login\n",
      "                          \n",
      "              \n",
      "\n",
      "              \n",
      "      1.      Google Docs will now use canvas based rendering (googleblog.com)\n",
      "        312 points by lewisjoe 3 hours ago  | hide | 363&nbsp;comments              \n",
      "      \n",
      "                \n",
      "      2.      Erlang/OTP 24 Highlights (erlang.org)\n",
      "        282 points by nifoc 4 hours ago  | hide | 43&nbsp;comments              \n",
      "      \n",
      "                \n",
      "      3.      Haiku OS ported and running on RISC-V (haiku-os.org)\n",
      "        150 points by highspeedmobile 4 hours ago  | hide | 37&nbsp;comments              \n",
      "      \n",
      "                \n",
      "      4.      Emulating AirTags to upload arbitrary data via Apple's FindMy network (positive.security)\n",
      "        234 points by kerm1t 2 hours ago  | hide | 40&nbsp;comments              \n",
      "      \n",
      "                \n",
      "      5.      Show HN: Mmm.page – Drag and drop personal website creator (mmm.page)\n",
      "        341 points by xhfloz 6 hours ago  | hide | 97&nbsp;comments              \n",
      "      \n",
      "                \n",
      "      6.      Reverse Engineering an Unknown Microcontroller (dmitry.gr)\n",
      "        187 points by dmitrygr 6 hours ago  | hide | 23&nbsp;comments              \n",
      "      \n",
      "                \n",
      "      7.      Building a Space-Based ISP (stackoverflow.blog)\n",
      "        14 points by dinosaurs 1 hour ago  | hide | discuss              \n",
      "      \n",
      "                \n",
      "      8.      Writing a Programming Book in 2021 (jmtirado.net)\n",
      "        75 points by wilsonfiifi 3 hours ago  | hide | 31&nbsp;comments              \n",
      "      \n",
      "                \n",
      "      9.      Volvo and Daimler bet on hydrogen truck boom this decade (arstechnica.com)\n",
      "        57 points by samizdis 4 hours ago  | hide | 136&nbsp;comments              \n",
      "      \n",
      "                \n",
      "      10.      My multi-decade quest for rural broadband (madned.substack.com)\n",
      "        126 points by mad_ned 5 hours ago  | hide | 69&nbsp;comments              \n",
      "      \n",
      "                \n",
      "      11.      Australia Joins the Race for Supersonic Flight (simpleflying.com)\n",
      "        33 points by prostoalex 2 hours ago  | hide | 8&nbsp;comments              \n",
      "      \n",
      "                \n",
      "      12.      Using Computer Modern on the web (2013) (checkmyworking.com)\n",
      "        56 points by phab 4 hours ago  | hide | 51&nbsp;comments              \n",
      "      \n",
      "                \n",
      "      13.      Enhancing Photorealism Enhancement (intel-isl.github.io)\n",
      "        422 points by lnyan 13 hours ago  | hide | 114&nbsp;comments              \n",
      "      \n",
      "                \n",
      "      14.      Cover (YC W16) Is Hiring (lever.co)\n",
      "        4 hours ago | hide      \n",
      "      \n",
      "                \n",
      "      15.      The Failed Globalization of Psychedelic Drugs in the Early Modern World (cambridge.org)\n",
      "        74 points by benbreen 5 hours ago  | hide | 21&nbsp;comments              \n",
      "      \n",
      "                \n",
      "      16.      Show HN: Csvbox.io – CSV import button for a web app, SaaS or API (csvbox.io)\n",
      "        84 points by spreadr 5 hours ago  | hide | 58&nbsp;comments              \n",
      "      \n",
      "                \n",
      "      17.      Multics Public Access (ban.ai)\n",
      "        60 points by nix23 5 hours ago  | hide | 17&nbsp;comments              \n",
      "      \n",
      "                \n",
      "      18.      Why do older individuals have greater control of their feelings? (smithsonianmag.com)\n",
      "        84 points by pseudolus 6 hours ago  | hide | 117&nbsp;comments              \n",
      "      \n",
      "                \n",
      "      19.      My iPhone 11 Pro is 50% slower after I updated to iOS 14.5.1 (imgur.com)\n",
      "        23 points by raspasov 36 minutes ago  | hide | 10&nbsp;comments              \n",
      "      \n",
      "                \n",
      "      20.      The Importance of Humility in Software Development (2020) (humbletoolsmith.com)\n",
      "        228 points by raptorraver 10 hours ago  | hide | 170&nbsp;comments              \n",
      "      \n",
      "                \n",
      "      21.      A Feather in Her Cap (historytoday.com)\n",
      "        14 points by Vigier 2 hours ago  | hide | 1&nbsp;comment              \n",
      "      \n",
      "                \n",
      "      22.      Show HN: Mobile App Automizer (github.com/trendyol)\n",
      "        11 points by sercaneraslan 2 hours ago  | hide | 3&nbsp;comments              \n",
      "      \n",
      "                \n",
      "      23.      How image search works at Dropbox (dropbox.tech)\n",
      "        136 points by hyzyla 9 hours ago  | hide | 66&nbsp;comments              \n",
      "      \n",
      "                \n",
      "      24.      Consumer Prices in U.S. Increase by Most Since 2009 (bloomberg.com)\n",
      "        81 points by simonpure 2 hours ago  | hide | 75&nbsp;comments              \n",
      "      \n",
      "                \n",
      "      25.      Improved distributed algorithms for fundamental graph problems (2017) (dspace.mit.edu)\n",
      "        37 points by eternalban 6 hours ago  | hide | 1&nbsp;comment              \n",
      "      \n",
      "                \n",
      "      26.      Diffusion Models Beat GANs on Image Synthesis (arxiv.org)\n",
      "        191 points by lnyan 14 hours ago  | hide | 41&nbsp;comments              \n",
      "      \n",
      "                \n",
      "      27.      Ransomware gang threatens release of Washington D.C. police records (apnews.com)\n",
      "        137 points by danso 13 hours ago  | hide | 151&nbsp;comments              \n",
      "      \n",
      "                \n",
      "      28.      Deno 1.1 (deno.com)\n",
      "        243 points by caspervonb 9 hours ago  | hide | 125&nbsp;comments              \n",
      "      \n",
      "                \n",
      "      29.      Welcome to Visualizing Stanford Encyclopedia of Philosophy (visualizingsep.com)\n",
      "        110 points by nabla9 13 hours ago  | hide | 13&nbsp;comments              \n",
      "      \n",
      "                \n",
      "      30.      I could send any text message from Indian government IDs (kmskrishna.me)\n",
      "        110 points by winchester6788 8 hours ago  | hide | 34&nbsp;comments              \n",
      "      \n",
      "            More\n",
      "  \n",
      "\n",
      "Guidelines\n",
      "        | FAQ\n",
      "        | Lists\n",
      "        | API\n",
      "        | Security\n",
      "        | Legal\n",
      "        | Apply to YC\n",
      "        | ContactSearch:\n",
      "          \n",
      "            \n",
      "      \n",
      "\n"
     ]
    }
   ],
   "source": [
    "import re\n",
    "\n",
    "# Remove HTML tags using RegEx\n",
    "pattern = re.compile(r'<.*?>')  # tags look like <...>\n",
    "print(pattern.sub('', r.text))  # replace them with blank"
   ]
  },
  {
   "cell_type": "code",
   "execution_count": 6,
   "metadata": {},
   "outputs": [
    {
     "name": "stdout",
     "output_type": "stream",
     "text": [
      "\n",
      "        \n",
      "          \n",
      "        Hacker News\n",
      "        \n",
      "                  Hacker News\n",
      "              new | past | comments | ask | show | jobs | submit            \n",
      "                              login\n",
      "                          \n",
      "              \n",
      "\n",
      "              \n",
      "      1.      Google Docs will now use canvas based rendering (googleblog.com)\n",
      "        312 points by lewisjoe 3 hours ago  | hide | 363 comments              \n",
      "      \n",
      "                \n",
      "      2.      Erlang/OTP 24 Highlights (erlang.org)\n",
      "        282 points by nifoc 4 hours ago  | hide | 43 comments              \n",
      "      \n",
      "                \n",
      "      3.      Haiku OS ported and running on RISC-V (haiku-os.org)\n",
      "        150 points by highspeedmobile 4 hours ago  | hide | 37 comments              \n",
      "      \n",
      "                \n",
      "      4.      Emulating AirTags to upload arbitrary data via Apple's FindMy network (positive.security)\n",
      "        234 points by kerm1t 2 hours ago  | hide | 40 comments              \n",
      "      \n",
      "                \n",
      "      5.      Show HN: Mmm.page – Drag and drop personal website creator (mmm.page)\n",
      "        341 points by xhfloz 6 hours ago  | hide | 97 comments              \n",
      "      \n",
      "                \n",
      "      6.      Reverse Engineering an Unknown Microcontroller (dmitry.gr)\n",
      "        187 points by dmitrygr 6 hours ago  | hide | 23 comments              \n",
      "      \n",
      "                \n",
      "      7.      Building a Space-Based ISP (stackoverflow.blog)\n",
      "        14 points by dinosaurs 1 hour ago  | hide | discuss              \n",
      "      \n",
      "                \n",
      "      8.      Writing a Programming Book in 2021 (jmtirado.net)\n",
      "        75 points by wilsonfiifi 3 hours ago  | hide | 31 comments              \n",
      "      \n",
      "                \n",
      "      9.      Volvo and Daimler bet on hydrogen truck boom this decade (arstechnica.com)\n",
      "        57 points by samizdis 4 hours ago  | hide | 136 comments              \n",
      "      \n",
      "                \n",
      "      10.      My multi-decade quest for rural broadband (madned.substack.com)\n",
      "        126 points by mad_ned 5 hours ago  | hide | 69 comments              \n",
      "      \n",
      "                \n",
      "      11.      Australia Joins the Race for Supersonic Flight (simpleflying.com)\n",
      "        33 points by prostoalex 2 hours ago  | hide | 8 comments              \n",
      "      \n",
      "                \n",
      "      12.      Using Computer Modern on the web (2013) (checkmyworking.com)\n",
      "        56 points by phab 4 hours ago  | hide | 51 comments              \n",
      "      \n",
      "                \n",
      "      13.      Enhancing Photorealism Enhancement (intel-isl.github.io)\n",
      "        422 points by lnyan 13 hours ago  | hide | 114 comments              \n",
      "      \n",
      "                \n",
      "      14.      Cover (YC W16) Is Hiring (lever.co)\n",
      "        4 hours ago | hide      \n",
      "      \n",
      "                \n",
      "      15.      The Failed Globalization of Psychedelic Drugs in the Early Modern World (cambridge.org)\n",
      "        74 points by benbreen 5 hours ago  | hide | 21 comments              \n",
      "      \n",
      "                \n",
      "      16.      Show HN: Csvbox.io – CSV import button for a web app, SaaS or API (csvbox.io)\n",
      "        84 points by spreadr 5 hours ago  | hide | 58 comments              \n",
      "      \n",
      "                \n",
      "      17.      Multics Public Access (ban.ai)\n",
      "        60 points by nix23 5 hours ago  | hide | 17 comments              \n",
      "      \n",
      "                \n",
      "      18.      Why do older individuals have greater control of their feelings? (smithsonianmag.com)\n",
      "        84 points by pseudolus 6 hours ago  | hide | 117 comments              \n",
      "      \n",
      "                \n",
      "      19.      My iPhone 11 Pro is 50% slower after I updated to iOS 14.5.1 (imgur.com)\n",
      "        23 points by raspasov 36 minutes ago  | hide | 10 comments              \n",
      "      \n",
      "                \n",
      "      20.      The Importance of Humility in Software Development (2020) (humbletoolsmith.com)\n",
      "        228 points by raptorraver 10 hours ago  | hide | 170 comments              \n",
      "      \n",
      "                \n",
      "      21.      A Feather in Her Cap (historytoday.com)\n",
      "        14 points by Vigier 2 hours ago  | hide | 1 comment              \n",
      "      \n",
      "                \n",
      "      22.      Show HN: Mobile App Automizer (github.com/trendyol)\n",
      "        11 points by sercaneraslan 2 hours ago  | hide | 3 comments              \n",
      "      \n",
      "                \n",
      "      23.      How image search works at Dropbox (dropbox.tech)\n",
      "        136 points by hyzyla 9 hours ago  | hide | 66 comments              \n",
      "      \n",
      "                \n",
      "      24.      Consumer Prices in U.S. Increase by Most Since 2009 (bloomberg.com)\n",
      "        81 points by simonpure 2 hours ago  | hide | 75 comments              \n",
      "      \n",
      "                \n",
      "      25.      Improved distributed algorithms for fundamental graph problems (2017) (dspace.mit.edu)\n",
      "        37 points by eternalban 6 hours ago  | hide | 1 comment              \n",
      "      \n",
      "                \n",
      "      26.      Diffusion Models Beat GANs on Image Synthesis (arxiv.org)\n",
      "        191 points by lnyan 14 hours ago  | hide | 41 comments              \n",
      "      \n",
      "                \n",
      "      27.      Ransomware gang threatens release of Washington D.C. police records (apnews.com)\n",
      "        137 points by danso 13 hours ago  | hide | 151 comments              \n",
      "      \n",
      "                \n",
      "      28.      Deno 1.1 (deno.com)\n",
      "        243 points by caspervonb 9 hours ago  | hide | 125 comments              \n",
      "      \n",
      "                \n",
      "      29.      Welcome to Visualizing Stanford Encyclopedia of Philosophy (visualizingsep.com)\n",
      "        110 points by nabla9 13 hours ago  | hide | 13 comments              \n",
      "      \n",
      "                \n",
      "      30.      I could send any text message from Indian government IDs (kmskrishna.me)\n",
      "        110 points by winchester6788 8 hours ago  | hide | 34 comments              \n",
      "      \n",
      "            More\n",
      "  \n",
      "\n",
      "Guidelines\n",
      "        | FAQ\n",
      "        | Lists\n",
      "        | API\n",
      "        | Security\n",
      "        | Legal\n",
      "        | Apply to YC\n",
      "        | ContactSearch:\n",
      "          \n",
      "            \n",
      "      \n",
      "\n"
     ]
    }
   ],
   "source": [
    "from bs4 import BeautifulSoup\n",
    "\n",
    "# Remove HTML tags using Beautiful Soup library\n",
    "soup = BeautifulSoup(r.text, \"html5lib\")\n",
    "print(soup.get_text())"
   ]
  },
  {
   "cell_type": "code",
   "execution_count": 7,
   "metadata": {
    "scrolled": true
   },
   "outputs": [
    {
     "data": {
      "text/plain": [
       "<tr class=\"athing\" id=\"27129858\">\n",
       "      <td align=\"right\" class=\"title\" valign=\"top\"><span class=\"rank\">1.</span></td>      <td class=\"votelinks\" valign=\"top\"><center><a href=\"vote?id=27129858&amp;how=up&amp;goto=news\" id=\"up_27129858\"><div class=\"votearrow\" title=\"upvote\"></div></a></center></td><td class=\"title\"><a class=\"storylink\" href=\"https://workspaceupdates.googleblog.com/2021/05/Google-Docs-Canvas-Based-Rendering-Update.html\">Google Docs will now use canvas based rendering</a><span class=\"sitebit comhead\"> (<a href=\"from?site=googleblog.com\"><span class=\"sitestr\">googleblog.com</span></a>)</span></td></tr>"
      ]
     },
     "execution_count": 7,
     "metadata": {},
     "output_type": "execute_result"
    }
   ],
   "source": [
    "# Find all articles\n",
    "summaries = soup.find_all(\"tr\", class_=\"athing\")\n",
    "summaries[0]"
   ]
  },
  {
   "cell_type": "code",
   "execution_count": 8,
   "metadata": {},
   "outputs": [
    {
     "data": {
      "text/plain": [
       "'Google Docs will now use canvas based rendering'"
      ]
     },
     "execution_count": 8,
     "metadata": {},
     "output_type": "execute_result"
    }
   ],
   "source": [
    "# Extract title\n",
    "summaries[0].find(\"a\", class_=\"storylink\").get_text().strip()"
   ]
  },
  {
   "cell_type": "code",
   "execution_count": 9,
   "metadata": {},
   "outputs": [
    {
     "name": "stdout",
     "output_type": "stream",
     "text": [
      "30 Article summaries found. Sample:\n",
      "Google Docs will now use canvas based rendering\n"
     ]
    }
   ],
   "source": [
    "# Find all articles, extract titles\n",
    "articles = []\n",
    "summaries = soup.find_all(\"tr\", class_=\"athing\")\n",
    "for summary in summaries:\n",
    "    title = summary.find(\"a\", class_=\"storylink\").get_text().strip()\n",
    "    articles.append((title))\n",
    "\n",
    "print(len(articles), \"Article summaries found. Sample:\")\n",
    "print(articles[0])"
   ]
  },
  {
   "cell_type": "markdown",
   "metadata": {
    "collapsed": true
   },
   "source": [
    "## Normalization"
   ]
  },
  {
   "cell_type": "markdown",
   "metadata": {},
   "source": [
    "### Case Normalization"
   ]
  },
  {
   "cell_type": "code",
   "execution_count": 10,
   "metadata": {},
   "outputs": [
    {
     "name": "stdout",
     "output_type": "stream",
     "text": [
      "The first time you see The Second Renaissance it may look boring. Look at it at least twice and definitely watch part 2. It will change your view of the matrix. Are the human people the ones who started the war ? Is AI a bad thing ?\n"
     ]
    }
   ],
   "source": [
    "# Sample text\n",
    "text = \"The first time you see The Second Renaissance it may look boring. Look at it at least twice and definitely watch part 2. It will change your view of the matrix. Are the human people the ones who started the war ? Is AI a bad thing ?\"\n",
    "print(text)"
   ]
  },
  {
   "cell_type": "code",
   "execution_count": 11,
   "metadata": {},
   "outputs": [
    {
     "name": "stdout",
     "output_type": "stream",
     "text": [
      "the first time you see the second renaissance it may look boring. look at it at least twice and definitely watch part 2. it will change your view of the matrix. are the human people the ones who started the war ? is ai a bad thing ?\n"
     ]
    }
   ],
   "source": [
    "# Convert to lowercase\n",
    "text = text.lower() \n",
    "print(text)"
   ]
  },
  {
   "cell_type": "markdown",
   "metadata": {},
   "source": [
    "### Punctuation Removal"
   ]
  },
  {
   "cell_type": "code",
   "execution_count": 12,
   "metadata": {},
   "outputs": [
    {
     "name": "stdout",
     "output_type": "stream",
     "text": [
      "the first time you see the second renaissance it may look boring  look at it at least twice and definitely watch part 2  it will change your view of the matrix  are the human people the ones who started the war   is ai a bad thing  \n"
     ]
    }
   ],
   "source": [
    "import re\n",
    "\n",
    "# Remove punctuation characters\n",
    "text = re.sub(r\"[^a-zA-Z0-9]\", \" \", text) \n",
    "print(text)"
   ]
  },
  {
   "cell_type": "markdown",
   "metadata": {},
   "source": [
    "## Tokenization"
   ]
  },
  {
   "cell_type": "code",
   "execution_count": 13,
   "metadata": {},
   "outputs": [
    {
     "name": "stdout",
     "output_type": "stream",
     "text": [
      "['the', 'first', 'time', 'you', 'see', 'the', 'second', 'renaissance', 'it', 'may', 'look', 'boring', 'look', 'at', 'it', 'at', 'least', 'twice', 'and', 'definitely', 'watch', 'part', '2', 'it', 'will', 'change', 'your', 'view', 'of', 'the', 'matrix', 'are', 'the', 'human', 'people', 'the', 'ones', 'who', 'started', 'the', 'war', 'is', 'ai', 'a', 'bad', 'thing']\n"
     ]
    }
   ],
   "source": [
    "# Split text into tokens (words)\n",
    "words = text.split()\n",
    "print(words)"
   ]
  },
  {
   "cell_type": "markdown",
   "metadata": {},
   "source": [
    "### NLTK: Natural Language ToolKit"
   ]
  },
  {
   "cell_type": "code",
   "execution_count": 14,
   "metadata": {},
   "outputs": [],
   "source": [
    "import os\n",
    "import nltk\n",
    "nltk.data.path.append(os.path.join(os.getcwd(), \"nltk_data\"))"
   ]
  },
  {
   "cell_type": "code",
   "execution_count": 15,
   "metadata": {},
   "outputs": [
    {
     "name": "stdout",
     "output_type": "stream",
     "text": [
      "Dr. Smith graduated from the University of Washington. He later started an analytics firm called Lux, which catered to enterprise customers.\n"
     ]
    }
   ],
   "source": [
    "# Another sample text\n",
    "text = \"Dr. Smith graduated from the University of Washington. He later started an analytics firm called Lux, which catered to enterprise customers.\"\n",
    "print(text)"
   ]
  },
  {
   "cell_type": "code",
   "execution_count": 16,
   "metadata": {},
   "outputs": [
    {
     "name": "stdout",
     "output_type": "stream",
     "text": [
      "['Dr.', 'Smith', 'graduated', 'from', 'the', 'University', 'of', 'Washington', '.', 'He', 'later', 'started', 'an', 'analytics', 'firm', 'called', 'Lux', ',', 'which', 'catered', 'to', 'enterprise', 'customers', '.']\n"
     ]
    }
   ],
   "source": [
    "from nltk.tokenize import word_tokenize\n",
    "\n",
    "# Split text into words using NLTK\n",
    "words = word_tokenize(text)\n",
    "print(words)"
   ]
  },
  {
   "cell_type": "code",
   "execution_count": 17,
   "metadata": {},
   "outputs": [
    {
     "name": "stdout",
     "output_type": "stream",
     "text": [
      "['Dr. Smith graduated from the University of Washington.', 'He later started an analytics firm called Lux, which catered to enterprise customers.']\n"
     ]
    }
   ],
   "source": [
    "from nltk.tokenize import sent_tokenize\n",
    "\n",
    "# Split text into sentences\n",
    "sentences = sent_tokenize(text)\n",
    "print(sentences)"
   ]
  },
  {
   "cell_type": "code",
   "execution_count": 18,
   "metadata": {},
   "outputs": [
    {
     "name": "stdout",
     "output_type": "stream",
     "text": [
      "['i', 'me', 'my', 'myself', 'we', 'our', 'ours', 'ourselves', 'you', \"you're\", \"you've\", \"you'll\", \"you'd\", 'your', 'yours', 'yourself', 'yourselves', 'he', 'him', 'his', 'himself', 'she', \"she's\", 'her', 'hers', 'herself', 'it', \"it's\", 'its', 'itself', 'they', 'them', 'their', 'theirs', 'themselves', 'what', 'which', 'who', 'whom', 'this', 'that', \"that'll\", 'these', 'those', 'am', 'is', 'are', 'was', 'were', 'be', 'been', 'being', 'have', 'has', 'had', 'having', 'do', 'does', 'did', 'doing', 'a', 'an', 'the', 'and', 'but', 'if', 'or', 'because', 'as', 'until', 'while', 'of', 'at', 'by', 'for', 'with', 'about', 'against', 'between', 'into', 'through', 'during', 'before', 'after', 'above', 'below', 'to', 'from', 'up', 'down', 'in', 'out', 'on', 'off', 'over', 'under', 'again', 'further', 'then', 'once', 'here', 'there', 'when', 'where', 'why', 'how', 'all', 'any', 'both', 'each', 'few', 'more', 'most', 'other', 'some', 'such', 'no', 'nor', 'not', 'only', 'own', 'same', 'so', 'than', 'too', 'very', 's', 't', 'can', 'will', 'just', 'don', \"don't\", 'should', \"should've\", 'now', 'd', 'll', 'm', 'o', 're', 've', 'y', 'ain', 'aren', \"aren't\", 'couldn', \"couldn't\", 'didn', \"didn't\", 'doesn', \"doesn't\", 'hadn', \"hadn't\", 'hasn', \"hasn't\", 'haven', \"haven't\", 'isn', \"isn't\", 'ma', 'mightn', \"mightn't\", 'mustn', \"mustn't\", 'needn', \"needn't\", 'shan', \"shan't\", 'shouldn', \"shouldn't\", 'wasn', \"wasn't\", 'weren', \"weren't\", 'won', \"won't\", 'wouldn', \"wouldn't\"]\n"
     ]
    }
   ],
   "source": [
    "# List stop words\n",
    "from nltk.corpus import stopwords\n",
    "print(stopwords.words(\"english\"))"
   ]
  },
  {
   "cell_type": "code",
   "execution_count": 19,
   "metadata": {},
   "outputs": [
    {
     "name": "stdout",
     "output_type": "stream",
     "text": [
      "['the', 'first', 'time', 'you', 'see', 'the', 'second', 'renaissance', 'it', 'may', 'look', 'boring', 'look', 'at', 'it', 'at', 'least', 'twice', 'and', 'definitely', 'watch', 'part', '2', 'it', 'will', 'change', 'your', 'view', 'of', 'the', 'matrix', 'are', 'the', 'human', 'people', 'the', 'ones', 'who', 'started', 'the', 'war', 'is', 'ai', 'a', 'bad', 'thing']\n"
     ]
    }
   ],
   "source": [
    "# Reset text\n",
    "text = \"The first time you see The Second Renaissance it may look boring. Look at it at least twice and definitely watch part 2. It will change your view of the matrix. Are the human people the ones who started the war ? Is AI a bad thing ?\"\n",
    "\n",
    "# Normalize it\n",
    "text = re.sub(r\"[^a-zA-Z0-9]\", \" \", text.lower())\n",
    "\n",
    "# Tokenize it\n",
    "words = text.split()\n",
    "print(words)"
   ]
  },
  {
   "cell_type": "code",
   "execution_count": 20,
   "metadata": {},
   "outputs": [
    {
     "name": "stdout",
     "output_type": "stream",
     "text": [
      "['first', 'time', 'see', 'second', 'renaissance', 'may', 'look', 'boring', 'look', 'least', 'twice', 'definitely', 'watch', 'part', '2', 'change', 'view', 'matrix', 'human', 'people', 'ones', 'started', 'war', 'ai', 'bad', 'thing']\n"
     ]
    }
   ],
   "source": [
    "# Remove stop words\n",
    "words = [w for w in words if w not in stopwords.words(\"english\")]\n",
    "print(words)"
   ]
  },
  {
   "cell_type": "markdown",
   "metadata": {},
   "source": [
    "### Sentence Parsing"
   ]
  },
  {
   "cell_type": "code",
   "execution_count": 21,
   "metadata": {},
   "outputs": [
    {
     "name": "stdout",
     "output_type": "stream",
     "text": [
      "(S\n",
      "  (NP I)\n",
      "  (VP\n",
      "    (VP (V shot) (NP (Det an) (N elephant)))\n",
      "    (PP (P in) (NP (Det my) (N pajamas)))))\n",
      "(S\n",
      "  (NP I)\n",
      "  (VP\n",
      "    (V shot)\n",
      "    (NP (Det an) (N elephant) (PP (P in) (NP (Det my) (N pajamas))))))\n"
     ]
    }
   ],
   "source": [
    "import nltk\n",
    "\n",
    "# Define a custom grammar\n",
    "my_grammar = nltk.CFG.fromstring(\"\"\"\n",
    "S -> NP VP\n",
    "PP -> P NP\n",
    "NP -> Det N | Det N PP | 'I'\n",
    "VP -> V NP | VP PP\n",
    "Det -> 'an' | 'my'\n",
    "N -> 'elephant' | 'pajamas'\n",
    "V -> 'shot'\n",
    "P -> 'in'\n",
    "\"\"\")\n",
    "parser = nltk.ChartParser(my_grammar)\n",
    "\n",
    "# Parse a sentence\n",
    "sentence = word_tokenize(\"I shot an elephant in my pajamas\")\n",
    "for tree in parser.parse(sentence):\n",
    "    print(tree)"
   ]
  },
  {
   "cell_type": "code",
   "execution_count": 22,
   "metadata": {},
   "outputs": [],
   "source": [
    "for tree in parser.parse(sentence):\n",
    "    tree.draw()"
   ]
  },
  {
   "cell_type": "markdown",
   "metadata": {},
   "source": [
    "## Stemming & Lemmatization\n",
    "\n",
    "### Stemming"
   ]
  },
  {
   "cell_type": "code",
   "execution_count": 23,
   "metadata": {},
   "outputs": [
    {
     "name": "stdout",
     "output_type": "stream",
     "text": [
      "['first', 'time', 'see', 'second', 'renaiss', 'may', 'look', 'bore', 'look', 'least', 'twice', 'definit', 'watch', 'part', '2', 'chang', 'view', 'matrix', 'human', 'peopl', 'one', 'start', 'war', 'ai', 'bad', 'thing']\n"
     ]
    }
   ],
   "source": [
    "from nltk.stem.porter import PorterStemmer\n",
    "\n",
    "# Reduce words to their stems\n",
    "stemmed = [PorterStemmer().stem(w) for w in words]\n",
    "print(stemmed)"
   ]
  },
  {
   "cell_type": "markdown",
   "metadata": {},
   "source": [
    "### Lemmatization"
   ]
  },
  {
   "cell_type": "code",
   "execution_count": 24,
   "metadata": {},
   "outputs": [
    {
     "name": "stdout",
     "output_type": "stream",
     "text": [
      "['first', 'time', 'see', 'second', 'renaissance', 'may', 'look', 'boring', 'look', 'least', 'twice', 'definitely', 'watch', 'part', '2', 'change', 'view', 'matrix', 'human', 'people', 'one', 'started', 'war', 'ai', 'bad', 'thing']\n"
     ]
    }
   ],
   "source": [
    "from nltk.stem.wordnet import WordNetLemmatizer\n",
    "\n",
    "# Reduce words to their root form\n",
    "lemmed = [WordNetLemmatizer().lemmatize(w) for w in words]\n",
    "print(lemmed)"
   ]
  },
  {
   "cell_type": "code",
   "execution_count": 25,
   "metadata": {},
   "outputs": [
    {
     "name": "stdout",
     "output_type": "stream",
     "text": [
      "['first', 'time', 'see', 'second', 'renaissance', 'may', 'look', 'bore', 'look', 'least', 'twice', 'definitely', 'watch', 'part', '2', 'change', 'view', 'matrix', 'human', 'people', 'one', 'start', 'war', 'ai', 'bad', 'thing']\n"
     ]
    }
   ],
   "source": [
    "# Lemmatize verbs by specifying pos\n",
    "lemmed = [WordNetLemmatizer().lemmatize(w, pos='v') for w in lemmed]\n",
    "print(lemmed)"
   ]
  },
  {
   "cell_type": "code",
   "execution_count": null,
   "metadata": {},
   "outputs": [],
   "source": []
  }
 ],
 "metadata": {
  "kernelspec": {
   "display_name": "Python 3",
   "language": "python",
   "name": "python3"
  },
  "language_info": {
   "codemirror_mode": {
    "name": "ipython",
    "version": 3
   },
   "file_extension": ".py",
   "mimetype": "text/x-python",
   "name": "python",
   "nbconvert_exporter": "python",
   "pygments_lexer": "ipython3",
   "version": "3.8.5"
  }
 },
 "nbformat": 4,
 "nbformat_minor": 2
}
