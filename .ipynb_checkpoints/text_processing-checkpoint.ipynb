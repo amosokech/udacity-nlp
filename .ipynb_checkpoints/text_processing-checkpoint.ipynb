{
 "cells": [
  {
   "cell_type": "markdown",
   "metadata": {},
   "source": [
    "# Text Processing\n",
    "\n",
    "## Capturing Text Data\n",
    "\n",
    "### Plain Text"
   ]
  },
  {
   "cell_type": "code",
   "execution_count": 1,
   "metadata": {},
   "outputs": [
    {
     "name": "stdout",
     "output_type": "stream",
     "text": [
      "Hieroglyphic writing dates from c. 3000 BC, and is composed of hundreds of symbols. A hieroglyph can represent a word, a sound, or a silent determinative; and the same symbol can serve different purposes in different contexts. Hieroglyphs were a formal script, used on stone monuments and in tombs, that could be as detailed as individual works of art.\n",
      "\n"
     ]
    }
   ],
   "source": [
    "import os\n",
    "\n",
    "# Read in a plain text file\n",
    "with open(os.path.join(\"data\", \"hieroglyph.txt\"), \"r\") as f:\n",
    "    text = f.read()\n",
    "    print(text)"
   ]
  },
  {
   "cell_type": "markdown",
   "metadata": {},
   "source": [
    "### Tabular Data"
   ]
  },
  {
   "cell_type": "code",
   "execution_count": 2,
   "metadata": {
    "scrolled": true
   },
   "outputs": [
    {
     "data": {
      "text/html": [
       "<div>\n",
       "<style scoped>\n",
       "    .dataframe tbody tr th:only-of-type {\n",
       "        vertical-align: middle;\n",
       "    }\n",
       "\n",
       "    .dataframe tbody tr th {\n",
       "        vertical-align: top;\n",
       "    }\n",
       "\n",
       "    .dataframe thead th {\n",
       "        text-align: right;\n",
       "    }\n",
       "</style>\n",
       "<table border=\"1\" class=\"dataframe\">\n",
       "  <thead>\n",
       "    <tr style=\"text-align: right;\">\n",
       "      <th></th>\n",
       "      <th>publisher</th>\n",
       "      <th>title</th>\n",
       "    </tr>\n",
       "  </thead>\n",
       "  <tbody>\n",
       "    <tr>\n",
       "      <th>0</th>\n",
       "      <td>Livemint</td>\n",
       "      <td>fed's charles plosser sees high bar for change...</td>\n",
       "    </tr>\n",
       "    <tr>\n",
       "      <th>1</th>\n",
       "      <td>IFA Magazine</td>\n",
       "      <td>us open: stocks fall after fed official hints ...</td>\n",
       "    </tr>\n",
       "    <tr>\n",
       "      <th>2</th>\n",
       "      <td>IFA Magazine</td>\n",
       "      <td>fed risks falling 'behind the curve', charles ...</td>\n",
       "    </tr>\n",
       "    <tr>\n",
       "      <th>3</th>\n",
       "      <td>Moneynews</td>\n",
       "      <td>fed's plosser: nasty weather has curbed job gr...</td>\n",
       "    </tr>\n",
       "    <tr>\n",
       "      <th>4</th>\n",
       "      <td>NASDAQ</td>\n",
       "      <td>plosser: fed may have to accelerate tapering pace</td>\n",
       "    </tr>\n",
       "  </tbody>\n",
       "</table>\n",
       "</div>"
      ],
      "text/plain": [
       "      publisher                                              title\n",
       "0      Livemint  fed's charles plosser sees high bar for change...\n",
       "1  IFA Magazine  us open: stocks fall after fed official hints ...\n",
       "2  IFA Magazine  fed risks falling 'behind the curve', charles ...\n",
       "3     Moneynews  fed's plosser: nasty weather has curbed job gr...\n",
       "4        NASDAQ  plosser: fed may have to accelerate tapering pace"
      ]
     },
     "execution_count": 2,
     "metadata": {},
     "output_type": "execute_result"
    }
   ],
   "source": [
    "import pandas as pd\n",
    "\n",
    "# Extract text column from a dataframe\n",
    "df = pd.read_csv(os.path.join(\"data\", \"news.csv\"))\n",
    "df.head()[['publisher', 'title']]\n",
    "\n",
    "# Convert text column to lowercase\n",
    "df['title'] = df['title'].str.lower()\n",
    "df.head()[['publisher', 'title']]"
   ]
  },
  {
   "cell_type": "markdown",
   "metadata": {},
   "source": [
    "### Online Resource"
   ]
  },
  {
   "cell_type": "code",
   "execution_count": 3,
   "metadata": {
    "scrolled": true
   },
   "outputs": [
    {
     "name": "stdout",
     "output_type": "stream",
     "text": [
      "{\n",
      "    \"success\": {\n",
      "        \"total\": 1\n",
      "    },\n",
      "    \"contents\": {\n",
      "        \"quotes\": [\n",
      "            {\n",
      "                \"quote\": \"You should never view your challenges as a disadvantage. Instead, it's important for you to understand that your experience facing and overcoming adversity is actually one of your biggest advantages.\",\n",
      "                \"length\": \"199\",\n",
      "                \"author\": \"Michelle Obama\",\n",
      "                \"tags\": [\n",
      "                    \"challenge\",\n",
      "                    \"inspire\"\n",
      "                ],\n",
      "                \"category\": \"inspire\",\n",
      "                \"language\": \"en\",\n",
      "                \"date\": \"2021-05-12\",\n",
      "                \"permalink\": \"https://theysaidso.com/quote/michelle-obama-you-should-never-view-your-challenges-as-a-disadvantage-instead-i\",\n",
      "                \"id\": \"Cui7rno9YsYlmQsPHbg5HgeF\",\n",
      "                \"background\": \"https://theysaidso.com/img/qod/qod-inspire.jpg\",\n",
      "                \"title\": \"Inspiring Quote of the day\"\n",
      "            }\n",
      "        ]\n",
      "    },\n",
      "    \"baseurl\": \"https://theysaidso.com\",\n",
      "    \"copyright\": {\n",
      "        \"year\": 2023,\n",
      "        \"url\": \"https://theysaidso.com\"\n",
      "    }\n",
      "}\n",
      "You should never view your challenges as a disadvantage. Instead, it's important for you to understand that your experience facing and overcoming adversity is actually one of your biggest advantages. \n",
      "-- Michelle Obama\n"
     ]
    }
   ],
   "source": [
    "import requests\n",
    "import json\n",
    "\n",
    "# Fetch data from a REST API\n",
    "r = requests.get(\n",
    "    \"https://quotes.rest/qod.json\")\n",
    "res = r.json()\n",
    "print(json.dumps(res, indent=4))\n",
    "\n",
    "# Extract relevant object and field\n",
    "q = res[\"contents\"][\"quotes\"][0]\n",
    "print(q[\"quote\"], \"\\n--\", q[\"author\"])"
   ]
  },
  {
   "cell_type": "markdown",
   "metadata": {},
   "source": [
    "## Cleaning"
   ]
  },
  {
   "cell_type": "code",
   "execution_count": 4,
   "metadata": {
    "scrolled": true
   },
   "outputs": [
    {
     "name": "stdout",
     "output_type": "stream",
     "text": [
      "<html lang=\"en\" op=\"news\"><head><meta name=\"referrer\" content=\"origin\"><meta name=\"viewport\" content=\"width=device-width, initial-scale=1.0\"><link rel=\"stylesheet\" type=\"text/css\" href=\"news.css?QnkoIDmmf0I46Ms4s8mx\">\n",
      "        <link rel=\"shortcut icon\" href=\"favicon.ico\">\n",
      "          <link rel=\"alternate\" type=\"application/rss+xml\" title=\"RSS\" href=\"rss\">\n",
      "        <title>Hacker News</title></head><body><center><table id=\"hnmain\" border=\"0\" cellpadding=\"0\" cellspacing=\"0\" width=\"85%\" bgcolor=\"#f6f6ef\">\n",
      "        <tr><td bgcolor=\"#ff6600\"><table border=\"0\" cellpadding=\"0\" cellspacing=\"0\" width=\"100%\" style=\"padding:2px\"><tr><td style=\"width:18px;padding-right:4px\"><a href=\"https://news.ycombinator.com\"><img src=\"y18.gif\" width=\"18\" height=\"18\" style=\"border:1px white solid;\"></a></td>\n",
      "                  <td style=\"line-height:12pt; height:10px;\"><span class=\"pagetop\"><b class=\"hnname\"><a href=\"news\">Hacker News</a></b>\n",
      "              <a href=\"newest\">new</a> | <a href=\"front\">past</a> | <a href=\"newcomments\">comments</a> | <a href=\"ask\">ask</a> | <a href=\"show\">show</a> | <a href=\"jobs\">jobs</a> | <a href=\"submit\">submit</a>            </span></td><td style=\"text-align:right;padding-right:4px;\"><span class=\"pagetop\">\n",
      "                              <a href=\"login?goto=news\">login</a>\n",
      "                          </span></td>\n",
      "              </tr></table></td></tr>\n",
      "<tr id=\"pagespace\" title=\"\" style=\"height:10px\"></tr><tr><td><table border=\"0\" cellpadding=\"0\" cellspacing=\"0\" class=\"itemlist\">\n",
      "              <tr class='athing' id='27128994'>\n",
      "      <td align=\"right\" valign=\"top\" class=\"title\"><span class=\"rank\">1.</span></td>      <td valign=\"top\" class=\"votelinks\"><center><a id='up_27128994' href='vote?id=27128994&amp;how=up&amp;goto=news'><div class='votearrow' title='upvote'></div></a></center></td><td class=\"title\"><a href=\"http://blog.erlang.org/My-OTP-24-Highlights/\" class=\"storylink\">Erlang/OTP 24 Highlights</a><span class=\"sitebit comhead\"> (<a href=\"from?site=erlang.org\"><span class=\"sitestr\">erlang.org</span></a>)</span></td></tr><tr><td colspan=\"2\"></td><td class=\"subtext\">\n",
      "        <span class=\"score\" id=\"score_27128994\">91 points</span> by <a href=\"user?id=nifoc\" class=\"hnuser\">nifoc</a> <span class=\"age\"><a href=\"item?id=27128994\">1 hour ago</a></span> <span id=\"unv_27128994\"></span> | <a href=\"hide?id=27128994&amp;goto=news\">hide</a> | <a href=\"item?id=27128994\">5&nbsp;comments</a>              </td></tr>\n",
      "      <tr class=\"spacer\" style=\"height:5px\"></tr>\n",
      "                <tr class='athing' id='27128531'>\n",
      "      <td align=\"right\" valign=\"top\" class=\"title\"><span class=\"rank\">2.</span></td>      <td valign=\"top\" class=\"votelinks\"><center><a id='up_27128531' href='vote?id=27128531&amp;how=up&amp;goto=news'><div class='votearrow' title='upvote'></div></a></center></td><td class=\"title\"><a href=\"https://dmitry.gr/?r=05.Projects&amp;proj=30.%20Reverse%20Engineering%20an%20Unknown%20Microcontroller\" class=\"storylink\">Reverse Engineering an Unknown Microcontroller</a><span class=\"sitebit comhead\"> (<a href=\"from?site=dmitry.gr\"><span class=\"sitestr\">dmitry.gr</span></a>)</span></td></tr><tr><td colspan=\"2\"></td><td class=\"subtext\">\n",
      "        <span class=\"score\" id=\"score_27128531\">88 points</span> by <a href=\"user?id=dmitrygr\" class=\"hnuser\">dmitrygr</a> <span class=\"age\"><a href=\"item?id=27128531\">2 hours ago</a></span> <span id=\"unv_27128531\"></span> | <a href=\"hide?id=27128531&amp;goto=news\">hide</a> | <a href=\"item?id=27128531\">11&nbsp;comments</a>              </td></tr>\n",
      "      <tr class=\"spacer\" style=\"height:5px\"></tr>\n",
      "                <tr class='athing' id='27128424'>\n",
      "      <td align=\"right\" valign=\"top\" class=\"title\"><span class=\"rank\">3.</span></td>      <td valign=\"top\" class=\"votelinks\"><center><a id='up_27128424' href='vote?id=27128424&amp;how=up&amp;goto=news'><div class='votearrow' title='upvote'></div></a></center></td><td class=\"title\"><a href=\"https://build.mmm.page\" class=\"storylink\">Show HN: Mmm.page – Drag and drop personal website creator</a><span class=\"sitebit comhead\"> (<a href=\"from?site=mmm.page\"><span class=\"sitestr\">mmm.page</span></a>)</span></td></tr><tr><td colspan=\"2\"></td><td class=\"subtext\">\n",
      "        <span class=\"score\" id=\"score_27128424\">158 points</span> by <a href=\"user?id=xhfloz\" class=\"hnuser\">xhfloz</a> <span class=\"age\"><a href=\"item?id=27128424\">2 hours ago</a></span> <span id=\"unv_27128424\"></span> | <a href=\"hide?id=27128424&amp;goto=news\">hide</a> | <a href=\"item?id=27128424\">50&nbsp;comments</a>              </td></tr>\n",
      "      <tr class=\"spacer\" style=\"height:5px\"></tr>\n",
      "                <tr class='athing' id='27128803'>\n",
      "      <td align=\"right\" valign=\"top\" class=\"title\"><span class=\"rank\">4.</span></td>      <td valign=\"top\" class=\"votelinks\"><center><a id='up_27128803' href='vote?id=27128803&amp;how=up&amp;goto=news'><div class='votearrow' title='upvote'></div></a></center></td><td class=\"title\"><a href=\"https://www.checkmyworking.com/cm-web-fonts/\" class=\"storylink\">Computer Modern on the Web</a><span class=\"sitebit comhead\"> (<a href=\"from?site=checkmyworking.com\"><span class=\"sitestr\">checkmyworking.com</span></a>)</span></td></tr><tr><td colspan=\"2\"></td><td class=\"subtext\">\n",
      "        <span class=\"score\" id=\"score_27128803\">12 points</span> by <a href=\"user?id=phab\" class=\"hnuser\">phab</a> <span class=\"age\"><a href=\"item?id=27128803\">46 minutes ago</a></span> <span id=\"unv_27128803\"></span> | <a href=\"hide?id=27128803&amp;goto=news\">hide</a> | <a href=\"item?id=27128803\">1&nbsp;comment</a>              </td></tr>\n",
      "      <tr class=\"spacer\" style=\"height:5px\"></tr>\n",
      "                <tr class='athing' id='27128765'>\n",
      "      <td align=\"right\" valign=\"top\" class=\"title\"><span class=\"rank\">5.</span></td>      <td valign=\"top\" class=\"votelinks\"><center><a id='up_27128765' href='vote?id=27128765&amp;how=up&amp;goto=news'><div class='votearrow' title='upvote'></div></a></center></td><td class=\"title\"><a href=\"https://ban.ai/multics/\" class=\"storylink\">Multics Public Access</a><span class=\"sitebit comhead\"> (<a href=\"from?site=ban.ai\"><span class=\"sitestr\">ban.ai</span></a>)</span></td></tr><tr><td colspan=\"2\"></td><td class=\"subtext\">\n",
      "        <span class=\"score\" id=\"score_27128765\">23 points</span> by <a href=\"user?id=nix23\" class=\"hnuser\">nix23</a> <span class=\"age\"><a href=\"item?id=27128765\">1 hour ago</a></span> <span id=\"unv_27128765\"></span> | <a href=\"hide?id=27128765&amp;goto=news\">hide</a> | <a href=\"item?id=27128765\">6&nbsp;comments</a>              </td></tr>\n",
      "      <tr class=\"spacer\" style=\"height:5px\"></tr>\n",
      "                <tr class='athing' id='27126092'>\n",
      "      <td align=\"right\" valign=\"top\" class=\"title\"><span class=\"rank\">6.</span></td>      <td valign=\"top\" class=\"votelinks\"><center><a id='up_27126092' href='vote?id=27126092&amp;how=up&amp;goto=news'><div class='votearrow' title='upvote'></div></a></center></td><td class=\"title\"><a href=\"https://intel-isl.github.io/PhotorealismEnhancement/\" class=\"storylink\">Enhancing Photorealism Enhancement</a><span class=\"sitebit comhead\"> (<a href=\"from?site=intel-isl.github.io\"><span class=\"sitestr\">intel-isl.github.io</span></a>)</span></td></tr><tr><td colspan=\"2\"></td><td class=\"subtext\">\n",
      "        <span class=\"score\" id=\"score_27126092\">317 points</span> by <a href=\"user?id=lnyan\" class=\"hnuser\">lnyan</a> <span class=\"age\"><a href=\"item?id=27126092\">9 hours ago</a></span> <span id=\"unv_27126092\"></span> | <a href=\"hide?id=27126092&amp;goto=news\">hide</a> | <a href=\"item?id=27126092\">88&nbsp;comments</a>              </td></tr>\n",
      "      <tr class=\"spacer\" style=\"height:5px\"></tr>\n",
      "                <tr class='athing' id='27129275'>\n",
      "      <td align=\"right\" valign=\"top\" class=\"title\"><span class=\"rank\">7.</span></td>      <td></td><td class=\"title\"><a href=\"https://jobs.lever.co/cover-2/efb72344-405e-40db-8abf-e2a758b2e7c7\" class=\"storylink\" rel=\"nofollow\">Cover (YC W16) Is Hiring</a><span class=\"sitebit comhead\"> (<a href=\"from?site=lever.co\"><span class=\"sitestr\">lever.co</span></a>)</span></td></tr><tr><td colspan=\"2\"></td><td class=\"subtext\">\n",
      "        <span class=\"age\"><a href=\"item?id=27129275\">35 minutes ago</a></span> | <a href=\"hide?id=27129275&amp;goto=news\">hide</a>      </td></tr>\n",
      "      <tr class=\"spacer\" style=\"height:5px\"></tr>\n",
      "                <tr class='athing' id='27118965'>\n",
      "      <td align=\"right\" valign=\"top\" class=\"title\"><span class=\"rank\">8.</span></td>      <td valign=\"top\" class=\"votelinks\"><center><a id='up_27118965' href='vote?id=27118965&amp;how=up&amp;goto=news'><div class='votearrow' title='upvote'></div></a></center></td><td class=\"title\"><a href=\"https://www.cambridge.org/core/journals/historical-journal/article/failed-globalization-of-psychedelic-drugs-in-the-early-modern-world/6ADA9DE0F3FAC7E18591C7A96A53AA58\" class=\"storylink\">The Failed Globalization of Psychedelic Drugs in the Early Modern World</a><span class=\"sitebit comhead\"> (<a href=\"from?site=cambridge.org\"><span class=\"sitestr\">cambridge.org</span></a>)</span></td></tr><tr><td colspan=\"2\"></td><td class=\"subtext\">\n",
      "        <span class=\"score\" id=\"score_27118965\">15 points</span> by <a href=\"user?id=benbreen\" class=\"hnuser\">benbreen</a> <span class=\"age\"><a href=\"item?id=27118965\">1 hour ago</a></span> <span id=\"unv_27118965\"></span> | <a href=\"hide?id=27118965&amp;goto=news\">hide</a> | <a href=\"item?id=27118965\">1&nbsp;comment</a>              </td></tr>\n",
      "      <tr class=\"spacer\" style=\"height:5px\"></tr>\n",
      "                <tr class='athing' id='27128831'>\n",
      "      <td align=\"right\" valign=\"top\" class=\"title\"><span class=\"rank\">9.</span></td>      <td valign=\"top\" class=\"votelinks\"><center><a id='up_27128831' href='vote?id=27128831&amp;how=up&amp;goto=news'><div class='votearrow' title='upvote'></div></a></center></td><td class=\"title\"><a href=\"https://arstechnica.com/cars/2021/05/volvo-and-daimler-bet-on-hydrogen-truck-boom-this-decade/\" class=\"storylink\" rel=\"nofollow\">Volvo and Daimler bet on hydrogen truck boom this decade</a><span class=\"sitebit comhead\"> (<a href=\"from?site=arstechnica.com\"><span class=\"sitestr\">arstechnica.com</span></a>)</span></td></tr><tr><td colspan=\"2\"></td><td class=\"subtext\">\n",
      "        <span class=\"score\" id=\"score_27128831\">9 points</span> by <a href=\"user?id=samizdis\" class=\"hnuser\">samizdis</a> <span class=\"age\"><a href=\"item?id=27128831\">47 minutes ago</a></span> <span id=\"unv_27128831\"></span> | <a href=\"hide?id=27128831&amp;goto=news\">hide</a> | <a href=\"item?id=27128831\">15&nbsp;comments</a>              </td></tr>\n",
      "      <tr class=\"spacer\" style=\"height:5px\"></tr>\n",
      "                <tr class='athing' id='27127403'>\n",
      "      <td align=\"right\" valign=\"top\" class=\"title\"><span class=\"rank\">10.</span></td>      <td valign=\"top\" class=\"votelinks\"><center><a id='up_27127403' href='vote?id=27127403&amp;how=up&amp;goto=news'><div class='votearrow' title='upvote'></div></a></center></td><td class=\"title\"><a href=\"https://dropbox.tech/machine-learning/how-image-search-works-at-dropbox\" class=\"storylink\">How image search works at Dropbox</a><span class=\"sitebit comhead\"> (<a href=\"from?site=dropbox.tech\"><span class=\"sitestr\">dropbox.tech</span></a>)</span></td></tr><tr><td colspan=\"2\"></td><td class=\"subtext\">\n",
      "        <span class=\"score\" id=\"score_27127403\">86 points</span> by <a href=\"user?id=hyzyla\" class=\"hnuser\">hyzyla</a> <span class=\"age\"><a href=\"item?id=27127403\">5 hours ago</a></span> <span id=\"unv_27127403\"></span> | <a href=\"hide?id=27127403&amp;goto=news\">hide</a> | <a href=\"item?id=27127403\">38&nbsp;comments</a>              </td></tr>\n",
      "      <tr class=\"spacer\" style=\"height:5px\"></tr>\n",
      "                <tr class='athing' id='27129234'>\n",
      "      <td align=\"right\" valign=\"top\" class=\"title\"><span class=\"rank\">11.</span></td>      <td valign=\"top\" class=\"votelinks\"><center><a id='up_27129234' href='vote?id=27129234&amp;how=up&amp;goto=news'><div class='votearrow' title='upvote'></div></a></center></td><td class=\"title\"><a href=\"https://shkspr.mobi/blog/2021/05/if-gender-female/\" class=\"storylink\" rel=\"nofollow\">If ( gender == “female” && married == True and& age =30) { hasChildren = True; }</a><span class=\"sitebit comhead\"> (<a href=\"from?site=shkspr.mobi\"><span class=\"sitestr\">shkspr.mobi</span></a>)</span></td></tr><tr><td colspan=\"2\"></td><td class=\"subtext\">\n",
      "        <span class=\"score\" id=\"score_27129234\">8 points</span> by <a href=\"user?id=edent\" class=\"hnuser\">edent</a> <span class=\"age\"><a href=\"item?id=27129234\">41 minutes ago</a></span> <span id=\"unv_27129234\"></span> | <a href=\"hide?id=27129234&amp;goto=news\">hide</a> | <a href=\"item?id=27129234\">8&nbsp;comments</a>              </td></tr>\n",
      "      <tr class=\"spacer\" style=\"height:5px\"></tr>\n",
      "                <tr class='athing' id='27125742'>\n",
      "      <td align=\"right\" valign=\"top\" class=\"title\"><span class=\"rank\">12.</span></td>      <td valign=\"top\" class=\"votelinks\"><center><a id='up_27125742' href='vote?id=27125742&amp;how=up&amp;goto=news'><div class='votearrow' title='upvote'></div></a></center></td><td class=\"title\"><a href=\"https://arxiv.org/abs/2105.05233\" class=\"storylink\">Diffusion Models Beat GANs on Image Synthesis</a><span class=\"sitebit comhead\"> (<a href=\"from?site=arxiv.org\"><span class=\"sitestr\">arxiv.org</span></a>)</span></td></tr><tr><td colspan=\"2\"></td><td class=\"subtext\">\n",
      "        <span class=\"score\" id=\"score_27125742\">171 points</span> by <a href=\"user?id=lnyan\" class=\"hnuser\">lnyan</a> <span class=\"age\"><a href=\"item?id=27125742\">10 hours ago</a></span> <span id=\"unv_27125742\"></span> | <a href=\"hide?id=27125742&amp;goto=news\">hide</a> | <a href=\"item?id=27125742\">36&nbsp;comments</a>              </td></tr>\n",
      "      <tr class=\"spacer\" style=\"height:5px\"></tr>\n",
      "                <tr class='athing' id='27128869'>\n",
      "      <td align=\"right\" valign=\"top\" class=\"title\"><span class=\"rank\">13.</span></td>      <td valign=\"top\" class=\"votelinks\"><center><a id='up_27128869' href='vote?id=27128869&amp;how=up&amp;goto=news'><div class='votearrow' title='upvote'></div></a></center></td><td class=\"title\"><a href=\"https://madned.substack.com/p/thin-pipe-part-ii\" class=\"storylink\" rel=\"nofollow\">My perilous foray into small-town politics in search of Municipal Broadband</a><span class=\"sitebit comhead\"> (<a href=\"from?site=madned.substack.com\"><span class=\"sitestr\">madned.substack.com</span></a>)</span></td></tr><tr><td colspan=\"2\"></td><td class=\"subtext\">\n",
      "        <span class=\"score\" id=\"score_27128869\">19 points</span> by <a href=\"user?id=mad_ned\" class=\"hnuser\">mad_ned</a> <span class=\"age\"><a href=\"item?id=27128869\">1 hour ago</a></span> <span id=\"unv_27128869\"></span> | <a href=\"hide?id=27128869&amp;goto=news\">hide</a> | <a href=\"item?id=27128869\">1&nbsp;comment</a>              </td></tr>\n",
      "      <tr class=\"spacer\" style=\"height:5px\"></tr>\n",
      "                <tr class='athing' id='27127316'>\n",
      "      <td align=\"right\" valign=\"top\" class=\"title\"><span class=\"rank\">14.</span></td>      <td valign=\"top\" class=\"votelinks\"><center><a id='up_27127316' href='vote?id=27127316&amp;how=up&amp;goto=news'><div class='votearrow' title='upvote'></div></a></center></td><td class=\"title\"><a href=\"https://deno.com/blog/v1.10\" class=\"storylink\">Deno 1.1</a><span class=\"sitebit comhead\"> (<a href=\"from?site=deno.com\"><span class=\"sitestr\">deno.com</span></a>)</span></td></tr><tr><td colspan=\"2\"></td><td class=\"subtext\">\n",
      "        <span class=\"score\" id=\"score_27127316\">180 points</span> by <a href=\"user?id=caspervonb\" class=\"hnuser\">caspervonb</a> <span class=\"age\"><a href=\"item?id=27127316\">6 hours ago</a></span> <span id=\"unv_27127316\"></span> | <a href=\"hide?id=27127316&amp;goto=news\">hide</a> | <a href=\"item?id=27127316\">75&nbsp;comments</a>              </td></tr>\n",
      "      <tr class=\"spacer\" style=\"height:5px\"></tr>\n",
      "                <tr class='athing' id='27124671'>\n",
      "      <td align=\"right\" valign=\"top\" class=\"title\"><span class=\"rank\">15.</span></td>      <td valign=\"top\" class=\"votelinks\"><center><a id='up_27124671' href='vote?id=27124671&amp;how=up&amp;goto=news'><div class='votearrow' title='upvote'></div></a></center></td><td class=\"title\"><a href=\"https://www.airgradient.com/diy/\" class=\"storylink\">AirGradient: DIY Air Quality Monitoring with Open-Source Hardware & Firmware</a><span class=\"sitebit comhead\"> (<a href=\"from?site=airgradient.com\"><span class=\"sitestr\">airgradient.com</span></a>)</span></td></tr><tr><td colspan=\"2\"></td><td class=\"subtext\">\n",
      "        <span class=\"score\" id=\"score_27124671\">263 points</span> by <a href=\"user?id=walterbell\" class=\"hnuser\">walterbell</a> <span class=\"age\"><a href=\"item?id=27124671\">13 hours ago</a></span> <span id=\"unv_27124671\"></span> | <a href=\"hide?id=27124671&amp;goto=news\">hide</a> | <a href=\"item?id=27124671\">62&nbsp;comments</a>              </td></tr>\n",
      "      <tr class=\"spacer\" style=\"height:5px\"></tr>\n",
      "                <tr class='athing' id='27128425'>\n",
      "      <td align=\"right\" valign=\"top\" class=\"title\"><span class=\"rank\">16.</span></td>      <td valign=\"top\" class=\"votelinks\"><center><a id='up_27128425' href='vote?id=27128425&amp;how=up&amp;goto=news'><div class='votearrow' title='upvote'></div></a></center></td><td class=\"title\"><a href=\"https://dspace.mit.edu/handle/1721.1/109000\" class=\"storylink\">Improved distributed algorithms for fundamental graph problems (2017)</a><span class=\"sitebit comhead\"> (<a href=\"from?site=dspace.mit.edu\"><span class=\"sitestr\">dspace.mit.edu</span></a>)</span></td></tr><tr><td colspan=\"2\"></td><td class=\"subtext\">\n",
      "        <span class=\"score\" id=\"score_27128425\">8 points</span> by <a href=\"user?id=eternalban\" class=\"hnuser\">eternalban</a> <span class=\"age\"><a href=\"item?id=27128425\">2 hours ago</a></span> <span id=\"unv_27128425\"></span> | <a href=\"hide?id=27128425&amp;goto=news\">hide</a> | <a href=\"item?id=27128425\">discuss</a>              </td></tr>\n",
      "      <tr class=\"spacer\" style=\"height:5px\"></tr>\n",
      "                <tr class='athing' id='27127703'>\n",
      "      <td align=\"right\" valign=\"top\" class=\"title\"><span class=\"rank\">17.</span></td>      <td valign=\"top\" class=\"votelinks\"><center><a id='up_27127703' href='vote?id=27127703&amp;how=up&amp;goto=news'><div class='votearrow' title='upvote'></div></a></center></td><td class=\"title\"><a href=\"https://kmskrishna.me/how-i-could-send-any-text-message-from-indian-government-ids-b61c5b8726c9\" class=\"storylink\">I could send any text message from Indian government IDs</a><span class=\"sitebit comhead\"> (<a href=\"from?site=kmskrishna.me\"><span class=\"sitestr\">kmskrishna.me</span></a>)</span></td></tr><tr><td colspan=\"2\"></td><td class=\"subtext\">\n",
      "        <span class=\"score\" id=\"score_27127703\">62 points</span> by <a href=\"user?id=winchester6788\" class=\"hnuser\">winchester6788</a> <span class=\"age\"><a href=\"item?id=27127703\">5 hours ago</a></span> <span id=\"unv_27127703\"></span> | <a href=\"hide?id=27127703&amp;goto=news\">hide</a> | <a href=\"item?id=27127703\">16&nbsp;comments</a>              </td></tr>\n",
      "      <tr class=\"spacer\" style=\"height:5px\"></tr>\n",
      "                <tr class='athing' id='27125847'>\n",
      "      <td align=\"right\" valign=\"top\" class=\"title\"><span class=\"rank\">18.</span></td>      <td valign=\"top\" class=\"votelinks\"><center><a id='up_27125847' href='vote?id=27125847&amp;how=up&amp;goto=news'><div class='votearrow' title='upvote'></div></a></center></td><td class=\"title\"><a href=\"https://www.nytimes.com/2021/05/11/science/seeds-germinated-michigan-state.html\" class=\"storylink\">One of the World’s Longest-Running Experiments Sends Up Sprouts</a><span class=\"sitebit comhead\"> (<a href=\"from?site=nytimes.com\"><span class=\"sitestr\">nytimes.com</span></a>)</span></td></tr><tr><td colspan=\"2\"></td><td class=\"subtext\">\n",
      "        <span class=\"score\" id=\"score_27125847\">87 points</span> by <a href=\"user?id=elijahparker\" class=\"hnuser\">elijahparker</a> <span class=\"age\"><a href=\"item?id=27125847\">9 hours ago</a></span> <span id=\"unv_27125847\"></span> | <a href=\"hide?id=27125847&amp;goto=news\">hide</a> | <a href=\"item?id=27125847\">42&nbsp;comments</a>              </td></tr>\n",
      "      <tr class=\"spacer\" style=\"height:5px\"></tr>\n",
      "                <tr class='athing' id='27125916'>\n",
      "      <td align=\"right\" valign=\"top\" class=\"title\"><span class=\"rank\">19.</span></td>      <td valign=\"top\" class=\"votelinks\"><center><a id='up_27125916' href='vote?id=27125916&amp;how=up&amp;goto=news'><div class='votearrow' title='upvote'></div></a></center></td><td class=\"title\"><a href=\"https://apnews.com/article/police-technology-government-and-politics-53e54780aa080decbb78d5b88d4ff44b\" class=\"storylink\">Ransomware gang threatens release of Washington D.C. police records</a><span class=\"sitebit comhead\"> (<a href=\"from?site=apnews.com\"><span class=\"sitestr\">apnews.com</span></a>)</span></td></tr><tr><td colspan=\"2\"></td><td class=\"subtext\">\n",
      "        <span class=\"score\" id=\"score_27125916\">98 points</span> by <a href=\"user?id=danso\" class=\"hnuser\">danso</a> <span class=\"age\"><a href=\"item?id=27125916\">10 hours ago</a></span> <span id=\"unv_27125916\"></span> | <a href=\"hide?id=27125916&amp;goto=news\">hide</a> | <a href=\"item?id=27125916\">78&nbsp;comments</a>              </td></tr>\n",
      "      <tr class=\"spacer\" style=\"height:5px\"></tr>\n",
      "                <tr class='athing' id='27115009'>\n",
      "      <td align=\"right\" valign=\"top\" class=\"title\"><span class=\"rank\">20.</span></td>      <td valign=\"top\" class=\"votelinks\"><center><a id='up_27115009' href='vote?id=27115009&amp;how=up&amp;goto=news'><div class='votearrow' title='upvote'></div></a></center></td><td class=\"title\"><a href=\"https://blog.compiler.ai/2021/05/06/verification-is-tcbpb-reduction/\" class=\"storylink\">Verification = TCB/PB Reduction</a><span class=\"sitebit comhead\"> (<a href=\"from?site=compiler.ai\"><span class=\"sitestr\">compiler.ai</span></a>)</span></td></tr><tr><td colspan=\"2\"></td><td class=\"subtext\">\n",
      "        <span class=\"score\" id=\"score_27115009\">19 points</span> by <a href=\"user?id=ingve\" class=\"hnuser\">ingve</a> <span class=\"age\"><a href=\"item?id=27115009\">4 hours ago</a></span> <span id=\"unv_27115009\"></span> | <a href=\"hide?id=27115009&amp;goto=news\">hide</a> | <a href=\"item?id=27115009\">1&nbsp;comment</a>              </td></tr>\n",
      "      <tr class=\"spacer\" style=\"height:5px\"></tr>\n",
      "                <tr class='athing' id='27116599'>\n",
      "      <td align=\"right\" valign=\"top\" class=\"title\"><span class=\"rank\">21.</span></td>      <td valign=\"top\" class=\"votelinks\"><center><a id='up_27116599' href='vote?id=27116599&amp;how=up&amp;goto=news'><div class='votearrow' title='upvote'></div></a></center></td><td class=\"title\"><a href=\"https://www.visualizingsep.com/#\" class=\"storylink\">Welcome to Visualizing Stanford Encyclopedia of Philosophy</a><span class=\"sitebit comhead\"> (<a href=\"from?site=visualizingsep.com\"><span class=\"sitestr\">visualizingsep.com</span></a>)</span></td></tr><tr><td colspan=\"2\"></td><td class=\"subtext\">\n",
      "        <span class=\"score\" id=\"score_27116599\">72 points</span> by <a href=\"user?id=nabla9\" class=\"hnuser\">nabla9</a> <span class=\"age\"><a href=\"item?id=27116599\">9 hours ago</a></span> <span id=\"unv_27116599\"></span> | <a href=\"hide?id=27116599&amp;goto=news\">hide</a> | <a href=\"item?id=27116599\">7&nbsp;comments</a>              </td></tr>\n",
      "      <tr class=\"spacer\" style=\"height:5px\"></tr>\n",
      "                <tr class='athing' id='27128164'>\n",
      "      <td align=\"right\" valign=\"top\" class=\"title\"><span class=\"rank\">22.</span></td>      <td valign=\"top\" class=\"votelinks\"><center><a id='up_27128164' href='vote?id=27128164&amp;how=up&amp;goto=news'><div class='votearrow' title='upvote'></div></a></center></td><td class=\"title\"><a href=\"https://guix.gnu.org/en/blog/2021/gnu-guix-1.3.0-released/\" class=\"storylink\">Guix 1.3</a><span class=\"sitebit comhead\"> (<a href=\"from?site=gnu.org\"><span class=\"sitestr\">gnu.org</span></a>)</span></td></tr><tr><td colspan=\"2\"></td><td class=\"subtext\">\n",
      "        <span class=\"score\" id=\"score_27128164\">86 points</span> by <a href=\"user?id=rekado\" class=\"hnuser\">rekado</a> <span class=\"age\"><a href=\"item?id=27128164\">3 hours ago</a></span> <span id=\"unv_27128164\"></span> | <a href=\"hide?id=27128164&amp;goto=news\">hide</a> | <a href=\"item?id=27128164\">32&nbsp;comments</a>              </td></tr>\n",
      "      <tr class=\"spacer\" style=\"height:5px\"></tr>\n",
      "                <tr class='athing' id='27127694'>\n",
      "      <td align=\"right\" valign=\"top\" class=\"title\"><span class=\"rank\">23.</span></td>      <td valign=\"top\" class=\"votelinks\"><center><a id='up_27127694' href='vote?id=27127694&amp;how=up&amp;goto=news'><div class='votearrow' title='upvote'></div></a></center></td><td class=\"title\"><a href=\"https://openvisionapi.com\" class=\"storylink\">Open source computer vision API</a><span class=\"sitebit comhead\"> (<a href=\"from?site=openvisionapi.com\"><span class=\"sitestr\">openvisionapi.com</span></a>)</span></td></tr><tr><td colspan=\"2\"></td><td class=\"subtext\">\n",
      "        <span class=\"score\" id=\"score_27127694\">33 points</span> by <a href=\"user?id=pythops\" class=\"hnuser\">pythops</a> <span class=\"age\"><a href=\"item?id=27127694\">5 hours ago</a></span> <span id=\"unv_27127694\"></span> | <a href=\"hide?id=27127694&amp;goto=news\">hide</a> | <a href=\"item?id=27127694\">5&nbsp;comments</a>              </td></tr>\n",
      "      <tr class=\"spacer\" style=\"height:5px\"></tr>\n",
      "                <tr class='athing' id='27115450'>\n",
      "      <td align=\"right\" valign=\"top\" class=\"title\"><span class=\"rank\">24.</span></td>      <td valign=\"top\" class=\"votelinks\"><center><a id='up_27115450' href='vote?id=27115450&amp;how=up&amp;goto=news'><div class='votearrow' title='upvote'></div></a></center></td><td class=\"title\"><a href=\"https://jcallaghan.com/2020/03/can-you-iot-an-airwick-air-freshener/\" class=\"storylink\">Can you IoT an Airwick air freshener? (2020)</a><span class=\"sitebit comhead\"> (<a href=\"from?site=jcallaghan.com\"><span class=\"sitestr\">jcallaghan.com</span></a>)</span></td></tr><tr><td colspan=\"2\"></td><td class=\"subtext\">\n",
      "        <span class=\"score\" id=\"score_27115450\">19 points</span> by <a href=\"user?id=1_player\" class=\"hnuser\">1_player</a> <span class=\"age\"><a href=\"item?id=27115450\">5 hours ago</a></span> <span id=\"unv_27115450\"></span> | <a href=\"hide?id=27115450&amp;goto=news\">hide</a> | <a href=\"item?id=27115450\">21&nbsp;comments</a>              </td></tr>\n",
      "      <tr class=\"spacer\" style=\"height:5px\"></tr>\n",
      "                <tr class='athing' id='27124852'>\n",
      "      <td align=\"right\" valign=\"top\" class=\"title\"><span class=\"rank\">25.</span></td>      <td valign=\"top\" class=\"votelinks\"><center><a id='up_27124852' href='vote?id=27124852&amp;how=up&amp;goto=news'><div class='votearrow' title='upvote'></div></a></center></td><td class=\"title\"><a href=\"https://lithub.com/the-obsessive-scholar-who-rescued-icelands-ancient-literary-legacy/\" class=\"storylink\">An obsessive scholar who rescued Iceland’s ancient literary legacy</a><span class=\"sitebit comhead\"> (<a href=\"from?site=lithub.com\"><span class=\"sitestr\">lithub.com</span></a>)</span></td></tr><tr><td colspan=\"2\"></td><td class=\"subtext\">\n",
      "        <span class=\"score\" id=\"score_27124852\">72 points</span> by <a href=\"user?id=drdee\" class=\"hnuser\">drdee</a> <span class=\"age\"><a href=\"item?id=27124852\">10 hours ago</a></span> <span id=\"unv_27124852\"></span> | <a href=\"hide?id=27124852&amp;goto=news\">hide</a> | <a href=\"item?id=27124852\">6&nbsp;comments</a>              </td></tr>\n",
      "      <tr class=\"spacer\" style=\"height:5px\"></tr>\n",
      "                <tr class='athing' id='27121332'>\n",
      "      <td align=\"right\" valign=\"top\" class=\"title\"><span class=\"rank\">26.</span></td>      <td valign=\"top\" class=\"votelinks\"><center><a id='up_27121332' href='vote?id=27121332&amp;how=up&amp;goto=news'><div class='votearrow' title='upvote'></div></a></center></td><td class=\"title\"><a href=\"https://www.euronews.com/2021/05/11/germany-bans-facebook-from-handling-whatsapp-data-over-privacy-concerns\" class=\"storylink\">Germany bans Facebook from handling WhatsApp data over privacy concerns</a><span class=\"sitebit comhead\"> (<a href=\"from?site=euronews.com\"><span class=\"sitestr\">euronews.com</span></a>)</span></td></tr><tr><td colspan=\"2\"></td><td class=\"subtext\">\n",
      "        <span class=\"score\" id=\"score_27121332\">586 points</span> by <a href=\"user?id=giuliomagnifico\" class=\"hnuser\">giuliomagnifico</a> <span class=\"age\"><a href=\"item?id=27121332\">18 hours ago</a></span> <span id=\"unv_27121332\"></span> | <a href=\"hide?id=27121332&amp;goto=news\">hide</a> | <a href=\"item?id=27121332\">129&nbsp;comments</a>              </td></tr>\n",
      "      <tr class=\"spacer\" style=\"height:5px\"></tr>\n",
      "                <tr class='athing' id='27126939'>\n",
      "      <td align=\"right\" valign=\"top\" class=\"title\"><span class=\"rank\">27.</span></td>      <td valign=\"top\" class=\"votelinks\"><center><a id='up_27126939' href='vote?id=27126939&amp;how=up&amp;goto=news'><div class='votearrow' title='upvote'></div></a></center></td><td class=\"title\"><a href=\"http://humbletoolsmith.com/2020/08/10/the-importance-of-humility-in-software-development/\" class=\"storylink\">The Importance of Humility in Software Development (2020)</a><span class=\"sitebit comhead\"> (<a href=\"from?site=humbletoolsmith.com\"><span class=\"sitestr\">humbletoolsmith.com</span></a>)</span></td></tr><tr><td colspan=\"2\"></td><td class=\"subtext\">\n",
      "        <span class=\"score\" id=\"score_27126939\">187 points</span> by <a href=\"user?id=raptorraver\" class=\"hnuser\">raptorraver</a> <span class=\"age\"><a href=\"item?id=27126939\">7 hours ago</a></span> <span id=\"unv_27126939\"></span> | <a href=\"hide?id=27126939&amp;goto=news\">hide</a> | <a href=\"item?id=27126939\">141&nbsp;comments</a>              </td></tr>\n",
      "      <tr class=\"spacer\" style=\"height:5px\"></tr>\n",
      "                <tr class='athing' id='27121918'>\n",
      "      <td align=\"right\" valign=\"top\" class=\"title\"><span class=\"rank\">28.</span></td>      <td valign=\"top\" class=\"votelinks\"><center><a id='up_27121918' href='vote?id=27121918&amp;how=up&amp;goto=news'><div class='votearrow' title='upvote'></div></a></center></td><td class=\"title\"><a href=\"https://www.fragattacks.com/\" class=\"storylink\">FragAttacks: new security vulnerabilities that affect wi-fi devices</a><span class=\"sitebit comhead\"> (<a href=\"from?site=fragattacks.com\"><span class=\"sitestr\">fragattacks.com</span></a>)</span></td></tr><tr><td colspan=\"2\"></td><td class=\"subtext\">\n",
      "        <span class=\"score\" id=\"score_27121918\">540 points</span> by <a href=\"user?id=sylvainkalache\" class=\"hnuser\">sylvainkalache</a> <span class=\"age\"><a href=\"item?id=27121918\">17 hours ago</a></span> <span id=\"unv_27121918\"></span> | <a href=\"hide?id=27121918&amp;goto=news\">hide</a> | <a href=\"item?id=27121918\">202&nbsp;comments</a>              </td></tr>\n",
      "      <tr class=\"spacer\" style=\"height:5px\"></tr>\n",
      "                <tr class='athing' id='27114740'>\n",
      "      <td align=\"right\" valign=\"top\" class=\"title\"><span class=\"rank\">29.</span></td>      <td valign=\"top\" class=\"votelinks\"><center><a id='up_27114740' href='vote?id=27114740&amp;how=up&amp;goto=news'><div class='votearrow' title='upvote'></div></a></center></td><td class=\"title\"><a href=\"http://flatcam.org/\" class=\"storylink\">FlatCAM: Free and Open-Source PCB Cam</a><span class=\"sitebit comhead\"> (<a href=\"from?site=flatcam.org\"><span class=\"sitestr\">flatcam.org</span></a>)</span></td></tr><tr><td colspan=\"2\"></td><td class=\"subtext\">\n",
      "        <span class=\"score\" id=\"score_27114740\">61 points</span> by <a href=\"user?id=danboarder\" class=\"hnuser\">danboarder</a> <span class=\"age\"><a href=\"item?id=27114740\">11 hours ago</a></span> <span id=\"unv_27114740\"></span> | <a href=\"hide?id=27114740&amp;goto=news\">hide</a> | <a href=\"item?id=27114740\">26&nbsp;comments</a>              </td></tr>\n",
      "      <tr class=\"spacer\" style=\"height:5px\"></tr>\n",
      "                <tr class='athing' id='27118794'>\n",
      "      <td align=\"right\" valign=\"top\" class=\"title\"><span class=\"rank\">30.</span></td>      <td valign=\"top\" class=\"votelinks\"><center><a id='up_27118794' href='vote?id=27118794&amp;how=up&amp;goto=news'><div class='votearrow' title='upvote'></div></a></center></td><td class=\"title\"><a href=\"item?id=27118794\" class=\"storylink\">Launch HN: UPchieve (YC W21 Nonprofit) – Live tutoring for low-income students</a></td></tr><tr><td colspan=\"2\"></td><td class=\"subtext\">\n",
      "        <span class=\"score\" id=\"score_27118794\">145 points</span> by <a href=\"user?id=alymurray\" class=\"hnuser\">alymurray</a> <span class=\"age\"><a href=\"item?id=27118794\">21 hours ago</a></span> <span id=\"unv_27118794\"></span> | <a href=\"hide?id=27118794&amp;goto=news\">hide</a> | <a href=\"item?id=27118794\">60&nbsp;comments</a>              </td></tr>\n",
      "      <tr class=\"spacer\" style=\"height:5px\"></tr>\n",
      "            <tr class=\"morespace\" style=\"height:10px\"></tr><tr><td colspan=\"2\"></td><td class=\"title\"><a href=\"news?p=2\" class=\"morelink\" rel=\"next\">More</a></td></tr>\n",
      "  </table>\n",
      "</td></tr>\n",
      "<tr><td><img src=\"s.gif\" height=\"10\" width=\"0\"><table width=\"100%\" cellspacing=\"0\" cellpadding=\"1\"><tr><td bgcolor=\"#ff6600\"></td></tr></table><br><center><span class=\"yclinks\"><a href=\"newsguidelines.html\">Guidelines</a>\n",
      "        | <a href=\"newsfaq.html\">FAQ</a>\n",
      "        | <a href=\"lists\">Lists</a>\n",
      "        | <a href=\"https://github.com/HackerNews/API\">API</a>\n",
      "        | <a href=\"security.html\">Security</a>\n",
      "        | <a href=\"http://www.ycombinator.com/legal/\">Legal</a>\n",
      "        | <a href=\"http://www.ycombinator.com/apply/\">Apply to YC</a>\n",
      "        | <a href=\"mailto:hn@ycombinator.com\">Contact</a></span><br><br><form method=\"get\" action=\"//hn.algolia.com/\">Search:\n",
      "          <input type=\"text\" name=\"q\" value=\"\" size=\"17\" autocorrect=\"off\" spellcheck=\"false\" autocapitalize=\"off\" autocomplete=\"false\"></form>\n",
      "            </center></td></tr>\n",
      "      </table></center></body><script type='text/javascript' src='hn.js?QnkoIDmmf0I46Ms4s8mx'></script></html>\n",
      "\n"
     ]
    }
   ],
   "source": [
    "import requests\n",
    "\n",
    "# Fetch a web page\n",
    "r = requests.get(\"https://news.ycombinator.com\")\n",
    "print(r.text)"
   ]
  },
  {
   "cell_type": "code",
   "execution_count": 6,
   "metadata": {},
   "outputs": [
    {
     "name": "stdout",
     "output_type": "stream",
     "text": [
      "\n",
      "        \n",
      "          \n",
      "        Hacker News\n",
      "        \n",
      "                  Hacker News\n",
      "              new | past | comments | ask | show | jobs | submit            \n",
      "                              login\n",
      "                          \n",
      "              \n",
      "\n",
      "              \n",
      "      1.      Crazy New Ideas (paulgraham.com)\n",
      "        285 points by razin 3 hours ago  | hide | 285&nbsp;comments              \n",
      "      \n",
      "                \n",
      "      2.      IBM Creates First 2nm Chip (anandtech.com)\n",
      "        297 points by 0-_-0 5 hours ago  | hide | 115&nbsp;comments              \n",
      "      \n",
      "                \n",
      "      3.      Why I Work on Ads (jefftk.com)\n",
      "        146 points by benjaminjosephw 2 hours ago  | hide | 195&nbsp;comments              \n",
      "      \n",
      "                \n",
      "      4.      DIY Boat Monitoring System (l-36.com)\n",
      "        56 points by fnord77 2 hours ago  | hide | 9&nbsp;comments              \n",
      "      \n",
      "                \n",
      "      5.      ARM vs. RISC-V Vector Extensions (erik-engheim.medium.com)\n",
      "        19 points by zdw 1 hour ago  | hide | 1&nbsp;comment              \n",
      "      \n",
      "                \n",
      "      6.      Starting a Crypto Project (twitter.com/jonsyu)\n",
      "        123 points by grey-area 3 hours ago  | hide | 76&nbsp;comments              \n",
      "      \n",
      "                \n",
      "      7.      LiveLeak shuts down after 15 years online (techstartups.com)\n",
      "        833 points by ro_bit 13 hours ago  | hide | 539&nbsp;comments              \n",
      "      \n",
      "                \n",
      "      8.      A simpler and safer future – without passwords (blog.google)\n",
      "        11 points by grappler 39 minutes ago  | hide | 4&nbsp;comments              \n",
      "      \n",
      "                \n",
      "      9.      Teens in '80s Czechoslovakia swapped tapes of text adventure protest games (if50.substack.com)\n",
      "        5 points by aaronareed 31 minutes ago  | hide | discuss              \n",
      "      \n",
      "                \n",
      "      10.      Gleam 0.15 (gleam.run)\n",
      "        127 points by lpil 4 hours ago  | hide | 29&nbsp;comments              \n",
      "      \n",
      "                \n",
      "      11.      Intent to issue €2.5M fine to Disqus over GDPR breaches (datatilsynet.no)\n",
      "        100 points by hgo 6 hours ago  | hide | 61&nbsp;comments              \n",
      "      \n",
      "                \n",
      "      12.      How Cities Will Fossilise (bbc.com)\n",
      "        50 points by astdb 4 hours ago  | hide | 37&nbsp;comments              \n",
      "      \n",
      "                \n",
      "      13.      Tesorio Is Hiring a Data Architect, Senior DevOps, Senior Data Scientist (tesorio.com)\n",
      "        3 hours ago | hide      \n",
      "      \n",
      "                \n",
      "      14.      Nuclear reactions are smoldering again at Chernobyl (sciencemag.org)\n",
      "        119 points by yosito 1 hour ago  | hide | 89&nbsp;comments              \n",
      "      \n",
      "                \n",
      "      15.      Persuading the Body to Regenerate Its Limbs (newyorker.com)\n",
      "        16 points by airstrike 2 hours ago  | hide | 2&nbsp;comments              \n",
      "      \n",
      "                \n",
      "      16.      Réunion: the postmen of the peaks (theguardian.com)\n",
      "        23 points by ciconia 2 hours ago  | hide | 7&nbsp;comments              \n",
      "      \n",
      "                \n",
      "      17.      Catala: A Programming Language for the Law (arxiv.org)\n",
      "        161 points by todsacerdoti 8 hours ago  | hide | 94&nbsp;comments              \n",
      "      \n",
      "                \n",
      "      18.      Pyston v2.2: faster and open source (pyston.org)\n",
      "        211 points by chenzhekl 11 hours ago  | hide | 78&nbsp;comments              \n",
      "      \n",
      "                \n",
      "      19.      The benefits of locality in random access (lemire.me)\n",
      "        7 points by ingve 1 hour ago  | hide | discuss              \n",
      "      \n",
      "                \n",
      "      20.      Branch predictor: How many “if”s are too many? Including x86 and M1 benchmarks (cloudflare.com)\n",
      "        60 points by majke 2 hours ago  | hide | 8&nbsp;comments              \n",
      "      \n",
      "                \n",
      "      21.      Thunderbird, RNP, and the Importance of a Good API (sequoia-pgp.org)\n",
      "        4 points by teythoon 41 minutes ago  | hide | discuss              \n",
      "      \n",
      "                \n",
      "      22.      Stack Overflow switches to system fonts on May 10, 2021 (stackexchange.com)\n",
      "        21 points by sandebert 49 minutes ago  | hide | 5&nbsp;comments              \n",
      "      \n",
      "                \n",
      "      23.      The Case of the 50ms request (wizardzines.com)\n",
      "        226 points by stochastimus 11 hours ago  | hide | 64&nbsp;comments              \n",
      "      \n",
      "                \n",
      "      24.      Six years of professional Clojure development (falkoriemenschneider.de)\n",
      "        132 points by yogthos 9 hours ago  | hide | 110&nbsp;comments              \n",
      "      \n",
      "                \n",
      "      25.      SpiderMonkey JavaScript/WebAssembly Engine (spidermonkey.dev)\n",
      "        53 points by twapi 7 hours ago  | hide | 13&nbsp;comments              \n",
      "      \n",
      "                \n",
      "      26.      Ask HN: How to attract perm Snr Engs when the contract market is so lucrative?\n",
      "        94 points by _0o6v 4 hours ago  | hide | 238&nbsp;comments              \n",
      "      \n",
      "                \n",
      "      27.      Clubhouse downloads are falling off a cliff (businessinsider.in)\n",
      "        35 points by gmays 2 hours ago  | hide | 30&nbsp;comments              \n",
      "      \n",
      "                \n",
      "      28.      The AskHistorians subreddit banned Holocaust deniers (2018) (slate.com)\n",
      "        28 points by Tomte 55 minutes ago  | hide | 16&nbsp;comments              \n",
      "      \n",
      "                \n",
      "      29.      Study finds using Night Shift doesn’t improve sleep (arstechnica.com)\n",
      "        83 points by mpweiher 4 hours ago  | hide | 41&nbsp;comments              \n",
      "      \n",
      "                \n",
      "      30.      The Florida Deplatforming Law Is Unconstitutional (eff.org)\n",
      "        11 points by glitcher 32 minutes ago  | hide | 4&nbsp;comments              \n",
      "      \n",
      "            More\n",
      "  \n",
      "\n",
      "Guidelines\n",
      "        | FAQ\n",
      "        | Lists\n",
      "        | API\n",
      "        | Security\n",
      "        | Legal\n",
      "        | Apply to YC\n",
      "        | ContactSearch:\n",
      "          \n",
      "            \n",
      "      \n",
      "\n"
     ]
    }
   ],
   "source": [
    "import re\n",
    "\n",
    "# Remove HTML tags using RegEx\n",
    "pattern = re.compile(r'<.*?>')  # tags look like <...>\n",
    "print(pattern.sub('', r.text))  # replace them with blank"
   ]
  },
  {
   "cell_type": "code",
   "execution_count": 7,
   "metadata": {},
   "outputs": [
    {
     "name": "stdout",
     "output_type": "stream",
     "text": [
      "\n",
      "        \n",
      "          \n",
      "        Hacker News\n",
      "        \n",
      "                  Hacker News\n",
      "              new | past | comments | ask | show | jobs | submit            \n",
      "                              login\n",
      "                          \n",
      "              \n",
      "\n",
      "              \n",
      "      1.      Crazy New Ideas (paulgraham.com)\n",
      "        285 points by razin 3 hours ago  | hide | 285 comments              \n",
      "      \n",
      "                \n",
      "      2.      IBM Creates First 2nm Chip (anandtech.com)\n",
      "        297 points by 0-_-0 5 hours ago  | hide | 115 comments              \n",
      "      \n",
      "                \n",
      "      3.      Why I Work on Ads (jefftk.com)\n",
      "        146 points by benjaminjosephw 2 hours ago  | hide | 195 comments              \n",
      "      \n",
      "                \n",
      "      4.      DIY Boat Monitoring System (l-36.com)\n",
      "        56 points by fnord77 2 hours ago  | hide | 9 comments              \n",
      "      \n",
      "                \n",
      "      5.      ARM vs. RISC-V Vector Extensions (erik-engheim.medium.com)\n",
      "        19 points by zdw 1 hour ago  | hide | 1 comment              \n",
      "      \n",
      "                \n",
      "      6.      Starting a Crypto Project (twitter.com/jonsyu)\n",
      "        123 points by grey-area 3 hours ago  | hide | 76 comments              \n",
      "      \n",
      "                \n",
      "      7.      LiveLeak shuts down after 15 years online (techstartups.com)\n",
      "        833 points by ro_bit 13 hours ago  | hide | 539 comments              \n",
      "      \n",
      "                \n",
      "      8.      A simpler and safer future – without passwords (blog.google)\n",
      "        11 points by grappler 39 minutes ago  | hide | 4 comments              \n",
      "      \n",
      "                \n",
      "      9.      Teens in '80s Czechoslovakia swapped tapes of text adventure protest games (if50.substack.com)\n",
      "        5 points by aaronareed 31 minutes ago  | hide | discuss              \n",
      "      \n",
      "                \n",
      "      10.      Gleam 0.15 (gleam.run)\n",
      "        127 points by lpil 4 hours ago  | hide | 29 comments              \n",
      "      \n",
      "                \n",
      "      11.      Intent to issue €2.5M fine to Disqus over GDPR breaches (datatilsynet.no)\n",
      "        100 points by hgo 6 hours ago  | hide | 61 comments              \n",
      "      \n",
      "                \n",
      "      12.      How Cities Will Fossilise (bbc.com)\n",
      "        50 points by astdb 4 hours ago  | hide | 37 comments              \n",
      "      \n",
      "                \n",
      "      13.      Tesorio Is Hiring a Data Architect, Senior DevOps, Senior Data Scientist (tesorio.com)\n",
      "        3 hours ago | hide      \n",
      "      \n",
      "                \n",
      "      14.      Nuclear reactions are smoldering again at Chernobyl (sciencemag.org)\n",
      "        119 points by yosito 1 hour ago  | hide | 89 comments              \n",
      "      \n",
      "                \n",
      "      15.      Persuading the Body to Regenerate Its Limbs (newyorker.com)\n",
      "        16 points by airstrike 2 hours ago  | hide | 2 comments              \n",
      "      \n",
      "                \n",
      "      16.      Réunion: the postmen of the peaks (theguardian.com)\n",
      "        23 points by ciconia 2 hours ago  | hide | 7 comments              \n",
      "      \n",
      "                \n",
      "      17.      Catala: A Programming Language for the Law (arxiv.org)\n",
      "        161 points by todsacerdoti 8 hours ago  | hide | 94 comments              \n",
      "      \n",
      "                \n",
      "      18.      Pyston v2.2: faster and open source (pyston.org)\n",
      "        211 points by chenzhekl 11 hours ago  | hide | 78 comments              \n",
      "      \n",
      "                \n",
      "      19.      The benefits of locality in random access (lemire.me)\n",
      "        7 points by ingve 1 hour ago  | hide | discuss              \n",
      "      \n",
      "                \n",
      "      20.      Branch predictor: How many “if”s are too many? Including x86 and M1 benchmarks (cloudflare.com)\n",
      "        60 points by majke 2 hours ago  | hide | 8 comments              \n",
      "      \n",
      "                \n",
      "      21.      Thunderbird, RNP, and the Importance of a Good API (sequoia-pgp.org)\n",
      "        4 points by teythoon 41 minutes ago  | hide | discuss              \n",
      "      \n",
      "                \n",
      "      22.      Stack Overflow switches to system fonts on May 10, 2021 (stackexchange.com)\n",
      "        21 points by sandebert 49 minutes ago  | hide | 5 comments              \n",
      "      \n",
      "                \n",
      "      23.      The Case of the 50ms request (wizardzines.com)\n",
      "        226 points by stochastimus 11 hours ago  | hide | 64 comments              \n",
      "      \n",
      "                \n",
      "      24.      Six years of professional Clojure development (falkoriemenschneider.de)\n",
      "        132 points by yogthos 9 hours ago  | hide | 110 comments              \n",
      "      \n",
      "                \n",
      "      25.      SpiderMonkey JavaScript/WebAssembly Engine (spidermonkey.dev)\n",
      "        53 points by twapi 7 hours ago  | hide | 13 comments              \n",
      "      \n",
      "                \n",
      "      26.      Ask HN: How to attract perm Snr Engs when the contract market is so lucrative?\n",
      "        94 points by _0o6v 4 hours ago  | hide | 238 comments              \n",
      "      \n",
      "                \n",
      "      27.      Clubhouse downloads are falling off a cliff (businessinsider.in)\n",
      "        35 points by gmays 2 hours ago  | hide | 30 comments              \n",
      "      \n",
      "                \n",
      "      28.      The AskHistorians subreddit banned Holocaust deniers (2018) (slate.com)\n",
      "        28 points by Tomte 55 minutes ago  | hide | 16 comments              \n",
      "      \n",
      "                \n",
      "      29.      Study finds using Night Shift doesn’t improve sleep (arstechnica.com)\n",
      "        83 points by mpweiher 4 hours ago  | hide | 41 comments              \n",
      "      \n",
      "                \n",
      "      30.      The Florida Deplatforming Law Is Unconstitutional (eff.org)\n",
      "        11 points by glitcher 32 minutes ago  | hide | 4 comments              \n",
      "      \n",
      "            More\n",
      "  \n",
      "\n",
      "Guidelines\n",
      "        | FAQ\n",
      "        | Lists\n",
      "        | API\n",
      "        | Security\n",
      "        | Legal\n",
      "        | Apply to YC\n",
      "        | ContactSearch:\n",
      "          \n",
      "            \n",
      "      \n",
      "\n"
     ]
    }
   ],
   "source": [
    "from bs4 import BeautifulSoup\n",
    "\n",
    "# Remove HTML tags using Beautiful Soup library\n",
    "soup = BeautifulSoup(r.text, \"html5lib\")\n",
    "print(soup.get_text())"
   ]
  },
  {
   "cell_type": "code",
   "execution_count": 8,
   "metadata": {
    "scrolled": true
   },
   "outputs": [
    {
     "data": {
      "text/plain": [
       "<tr class=\"athing\" id=\"27061789\">\n",
       "      <td align=\"right\" class=\"title\" valign=\"top\"><span class=\"rank\">1.</span></td>      <td class=\"votelinks\" valign=\"top\"><center><a href=\"vote?id=27061789&amp;how=up&amp;goto=news\" id=\"up_27061789\"><div class=\"votearrow\" title=\"upvote\"></div></a></center></td><td class=\"title\"><a class=\"storylink\" href=\"http://paulgraham.com/newideas.html\">Crazy New Ideas</a><span class=\"sitebit comhead\"> (<a href=\"from?site=paulgraham.com\"><span class=\"sitestr\">paulgraham.com</span></a>)</span></td></tr>"
      ]
     },
     "execution_count": 8,
     "metadata": {},
     "output_type": "execute_result"
    }
   ],
   "source": [
    "# Find all articles\n",
    "summaries = soup.find_all(\"tr\", class_=\"athing\")\n",
    "summaries[0]"
   ]
  },
  {
   "cell_type": "code",
   "execution_count": 9,
   "metadata": {},
   "outputs": [
    {
     "data": {
      "text/plain": [
       "'Crazy New Ideas'"
      ]
     },
     "execution_count": 9,
     "metadata": {},
     "output_type": "execute_result"
    }
   ],
   "source": [
    "# Extract title\n",
    "summaries[0].find(\"a\", class_=\"storylink\").get_text().strip()"
   ]
  },
  {
   "cell_type": "code",
   "execution_count": 10,
   "metadata": {},
   "outputs": [
    {
     "name": "stdout",
     "output_type": "stream",
     "text": [
      "30 Article summaries found. Sample:\n",
      "Crazy New Ideas\n"
     ]
    }
   ],
   "source": [
    "# Find all articles, extract titles\n",
    "articles = []\n",
    "summaries = soup.find_all(\"tr\", class_=\"athing\")\n",
    "for summary in summaries:\n",
    "    title = summary.find(\"a\", class_=\"storylink\").get_text().strip()\n",
    "    articles.append((title))\n",
    "\n",
    "print(len(articles), \"Article summaries found. Sample:\")\n",
    "print(articles[0])"
   ]
  },
  {
   "cell_type": "markdown",
   "metadata": {
    "collapsed": true
   },
   "source": [
    "## Normalization"
   ]
  },
  {
   "cell_type": "markdown",
   "metadata": {},
   "source": [
    "### Case Normalization"
   ]
  },
  {
   "cell_type": "code",
   "execution_count": 11,
   "metadata": {},
   "outputs": [
    {
     "name": "stdout",
     "output_type": "stream",
     "text": [
      "The first time you see The Second Renaissance it may look boring. Look at it at least twice and definitely watch part 2. It will change your view of the matrix. Are the human people the ones who started the war ? Is AI a bad thing ?\n"
     ]
    }
   ],
   "source": [
    "# Sample text\n",
    "text = \"The first time you see The Second Renaissance it may look boring. Look at it at least twice and definitely watch part 2. It will change your view of the matrix. Are the human people the ones who started the war ? Is AI a bad thing ?\"\n",
    "print(text)"
   ]
  },
  {
   "cell_type": "code",
   "execution_count": 12,
   "metadata": {},
   "outputs": [
    {
     "name": "stdout",
     "output_type": "stream",
     "text": [
      "the first time you see the second renaissance it may look boring. look at it at least twice and definitely watch part 2. it will change your view of the matrix. are the human people the ones who started the war ? is ai a bad thing ?\n"
     ]
    }
   ],
   "source": [
    "# Convert to lowercase\n",
    "text = text.lower() \n",
    "print(text)"
   ]
  },
  {
   "cell_type": "markdown",
   "metadata": {},
   "source": [
    "### Punctuation Removal"
   ]
  },
  {
   "cell_type": "code",
   "execution_count": 13,
   "metadata": {},
   "outputs": [
    {
     "name": "stdout",
     "output_type": "stream",
     "text": [
      "the first time you see the second renaissance it may look boring  look at it at least twice and definitely watch part 2  it will change your view of the matrix  are the human people the ones who started the war   is ai a bad thing  \n"
     ]
    }
   ],
   "source": [
    "import re\n",
    "\n",
    "# Remove punctuation characters\n",
    "text = re.sub(r\"[^a-zA-Z0-9]\", \" \", text) \n",
    "print(text)"
   ]
  },
  {
   "cell_type": "markdown",
   "metadata": {},
   "source": [
    "## Tokenization"
   ]
  },
  {
   "cell_type": "code",
   "execution_count": 14,
   "metadata": {},
   "outputs": [
    {
     "name": "stdout",
     "output_type": "stream",
     "text": [
      "['the', 'first', 'time', 'you', 'see', 'the', 'second', 'renaissance', 'it', 'may', 'look', 'boring', 'look', 'at', 'it', 'at', 'least', 'twice', 'and', 'definitely', 'watch', 'part', '2', 'it', 'will', 'change', 'your', 'view', 'of', 'the', 'matrix', 'are', 'the', 'human', 'people', 'the', 'ones', 'who', 'started', 'the', 'war', 'is', 'ai', 'a', 'bad', 'thing']\n"
     ]
    }
   ],
   "source": [
    "# Split text into tokens (words)\n",
    "words = text.split()\n",
    "print(words)"
   ]
  },
  {
   "cell_type": "markdown",
   "metadata": {},
   "source": [
    "### NLTK: Natural Language ToolKit"
   ]
  },
  {
   "cell_type": "code",
   "execution_count": 15,
   "metadata": {},
   "outputs": [],
   "source": [
    "import os\n",
    "import nltk\n",
    "nltk.data.path.append(os.path.join(os.getcwd(), \"nltk_data\"))"
   ]
  },
  {
   "cell_type": "code",
   "execution_count": 16,
   "metadata": {},
   "outputs": [
    {
     "name": "stdout",
     "output_type": "stream",
     "text": [
      "Dr. Smith graduated from the University of Washington. He later started an analytics firm called Lux, which catered to enterprise customers.\n"
     ]
    }
   ],
   "source": [
    "# Another sample text\n",
    "text = \"Dr. Smith graduated from the University of Washington. He later started an analytics firm called Lux, which catered to enterprise customers.\"\n",
    "print(text)"
   ]
  },
  {
   "cell_type": "code",
   "execution_count": 17,
   "metadata": {},
   "outputs": [
    {
     "name": "stdout",
     "output_type": "stream",
     "text": [
      "['Dr.', 'Smith', 'graduated', 'from', 'the', 'University', 'of', 'Washington', '.', 'He', 'later', 'started', 'an', 'analytics', 'firm', 'called', 'Lux', ',', 'which', 'catered', 'to', 'enterprise', 'customers', '.']\n"
     ]
    }
   ],
   "source": [
    "from nltk.tokenize import word_tokenize\n",
    "\n",
    "# Split text into words using NLTK\n",
    "words = word_tokenize(text)\n",
    "print(words)"
   ]
  },
  {
   "cell_type": "code",
   "execution_count": 18,
   "metadata": {},
   "outputs": [
    {
     "name": "stdout",
     "output_type": "stream",
     "text": [
      "['Dr. Smith graduated from the University of Washington.', 'He later started an analytics firm called Lux, which catered to enterprise customers.']\n"
     ]
    }
   ],
   "source": [
    "from nltk.tokenize import sent_tokenize\n",
    "\n",
    "# Split text into sentences\n",
    "sentences = sent_tokenize(text)\n",
    "print(sentences)"
   ]
  },
  {
   "cell_type": "code",
   "execution_count": 19,
   "metadata": {},
   "outputs": [
    {
     "name": "stdout",
     "output_type": "stream",
     "text": [
      "['i', 'me', 'my', 'myself', 'we', 'our', 'ours', 'ourselves', 'you', \"you're\", \"you've\", \"you'll\", \"you'd\", 'your', 'yours', 'yourself', 'yourselves', 'he', 'him', 'his', 'himself', 'she', \"she's\", 'her', 'hers', 'herself', 'it', \"it's\", 'its', 'itself', 'they', 'them', 'their', 'theirs', 'themselves', 'what', 'which', 'who', 'whom', 'this', 'that', \"that'll\", 'these', 'those', 'am', 'is', 'are', 'was', 'were', 'be', 'been', 'being', 'have', 'has', 'had', 'having', 'do', 'does', 'did', 'doing', 'a', 'an', 'the', 'and', 'but', 'if', 'or', 'because', 'as', 'until', 'while', 'of', 'at', 'by', 'for', 'with', 'about', 'against', 'between', 'into', 'through', 'during', 'before', 'after', 'above', 'below', 'to', 'from', 'up', 'down', 'in', 'out', 'on', 'off', 'over', 'under', 'again', 'further', 'then', 'once', 'here', 'there', 'when', 'where', 'why', 'how', 'all', 'any', 'both', 'each', 'few', 'more', 'most', 'other', 'some', 'such', 'no', 'nor', 'not', 'only', 'own', 'same', 'so', 'than', 'too', 'very', 's', 't', 'can', 'will', 'just', 'don', \"don't\", 'should', \"should've\", 'now', 'd', 'll', 'm', 'o', 're', 've', 'y', 'ain', 'aren', \"aren't\", 'couldn', \"couldn't\", 'didn', \"didn't\", 'doesn', \"doesn't\", 'hadn', \"hadn't\", 'hasn', \"hasn't\", 'haven', \"haven't\", 'isn', \"isn't\", 'ma', 'mightn', \"mightn't\", 'mustn', \"mustn't\", 'needn', \"needn't\", 'shan', \"shan't\", 'shouldn', \"shouldn't\", 'wasn', \"wasn't\", 'weren', \"weren't\", 'won', \"won't\", 'wouldn', \"wouldn't\"]\n"
     ]
    }
   ],
   "source": [
    "# List stop words\n",
    "from nltk.corpus import stopwords\n",
    "print(stopwords.words(\"english\"))"
   ]
  },
  {
   "cell_type": "code",
   "execution_count": 20,
   "metadata": {},
   "outputs": [
    {
     "name": "stdout",
     "output_type": "stream",
     "text": [
      "['the', 'first', 'time', 'you', 'see', 'the', 'second', 'renaissance', 'it', 'may', 'look', 'boring', 'look', 'at', 'it', 'at', 'least', 'twice', 'and', 'definitely', 'watch', 'part', '2', 'it', 'will', 'change', 'your', 'view', 'of', 'the', 'matrix', 'are', 'the', 'human', 'people', 'the', 'ones', 'who', 'started', 'the', 'war', 'is', 'ai', 'a', 'bad', 'thing']\n"
     ]
    }
   ],
   "source": [
    "# Reset text\n",
    "text = \"The first time you see The Second Renaissance it may look boring. Look at it at least twice and definitely watch part 2. It will change your view of the matrix. Are the human people the ones who started the war ? Is AI a bad thing ?\"\n",
    "\n",
    "# Normalize it\n",
    "text = re.sub(r\"[^a-zA-Z0-9]\", \" \", text.lower())\n",
    "\n",
    "# Tokenize it\n",
    "words = text.split()\n",
    "print(words)"
   ]
  },
  {
   "cell_type": "code",
   "execution_count": 21,
   "metadata": {},
   "outputs": [
    {
     "name": "stdout",
     "output_type": "stream",
     "text": [
      "['first', 'time', 'see', 'second', 'renaissance', 'may', 'look', 'boring', 'look', 'least', 'twice', 'definitely', 'watch', 'part', '2', 'change', 'view', 'matrix', 'human', 'people', 'ones', 'started', 'war', 'ai', 'bad', 'thing']\n"
     ]
    }
   ],
   "source": [
    "# Remove stop words\n",
    "words = [w for w in words if w not in stopwords.words(\"english\")]\n",
    "print(words)"
   ]
  },
  {
   "cell_type": "markdown",
   "metadata": {},
   "source": [
    "### Sentence Parsing"
   ]
  },
  {
   "cell_type": "code",
   "execution_count": 22,
   "metadata": {},
   "outputs": [
    {
     "name": "stdout",
     "output_type": "stream",
     "text": [
      "(S\n",
      "  (NP I)\n",
      "  (VP\n",
      "    (VP (V shot) (NP (Det an) (N elephant)))\n",
      "    (PP (P in) (NP (Det my) (N pajamas)))))\n",
      "(S\n",
      "  (NP I)\n",
      "  (VP\n",
      "    (V shot)\n",
      "    (NP (Det an) (N elephant) (PP (P in) (NP (Det my) (N pajamas))))))\n"
     ]
    }
   ],
   "source": [
    "import nltk\n",
    "\n",
    "# Define a custom grammar\n",
    "my_grammar = nltk.CFG.fromstring(\"\"\"\n",
    "S -> NP VP\n",
    "PP -> P NP\n",
    "NP -> Det N | Det N PP | 'I'\n",
    "VP -> V NP | VP PP\n",
    "Det -> 'an' | 'my'\n",
    "N -> 'elephant' | 'pajamas'\n",
    "V -> 'shot'\n",
    "P -> 'in'\n",
    "\"\"\")\n",
    "parser = nltk.ChartParser(my_grammar)\n",
    "\n",
    "# Parse a sentence\n",
    "sentence = word_tokenize(\"I shot an elephant in my pajamas\")\n",
    "for tree in parser.parse(sentence):\n",
    "    print(tree)"
   ]
  },
  {
   "cell_type": "markdown",
   "metadata": {},
   "source": [
    "## Stemming & Lemmatization\n",
    "\n",
    "### Stemming"
   ]
  },
  {
   "cell_type": "code",
   "execution_count": 23,
   "metadata": {},
   "outputs": [
    {
     "name": "stdout",
     "output_type": "stream",
     "text": [
      "['first', 'time', 'see', 'second', 'renaiss', 'may', 'look', 'bore', 'look', 'least', 'twice', 'definit', 'watch', 'part', '2', 'chang', 'view', 'matrix', 'human', 'peopl', 'one', 'start', 'war', 'ai', 'bad', 'thing']\n"
     ]
    }
   ],
   "source": [
    "from nltk.stem.porter import PorterStemmer\n",
    "\n",
    "# Reduce words to their stems\n",
    "stemmed = [PorterStemmer().stem(w) for w in words]\n",
    "print(stemmed)"
   ]
  },
  {
   "cell_type": "markdown",
   "metadata": {},
   "source": [
    "### Lemmatization"
   ]
  },
  {
   "cell_type": "code",
   "execution_count": 24,
   "metadata": {},
   "outputs": [
    {
     "name": "stdout",
     "output_type": "stream",
     "text": [
      "['first', 'time', 'see', 'second', 'renaissance', 'may', 'look', 'boring', 'look', 'least', 'twice', 'definitely', 'watch', 'part', '2', 'change', 'view', 'matrix', 'human', 'people', 'one', 'started', 'war', 'ai', 'bad', 'thing']\n"
     ]
    }
   ],
   "source": [
    "from nltk.stem.wordnet import WordNetLemmatizer\n",
    "\n",
    "# Reduce words to their root form\n",
    "lemmed = [WordNetLemmatizer().lemmatize(w) for w in words]\n",
    "print(lemmed)"
   ]
  },
  {
   "cell_type": "code",
   "execution_count": 25,
   "metadata": {},
   "outputs": [
    {
     "name": "stdout",
     "output_type": "stream",
     "text": [
      "['first', 'time', 'see', 'second', 'renaissance', 'may', 'look', 'bore', 'look', 'least', 'twice', 'definitely', 'watch', 'part', '2', 'change', 'view', 'matrix', 'human', 'people', 'one', 'start', 'war', 'ai', 'bad', 'thing']\n"
     ]
    }
   ],
   "source": [
    "# Lemmatize verbs by specifying pos\n",
    "lemmed = [WordNetLemmatizer().lemmatize(w, pos='v') for w in lemmed]\n",
    "print(lemmed)"
   ]
  },
  {
   "cell_type": "code",
   "execution_count": null,
   "metadata": {},
   "outputs": [],
   "source": []
  }
 ],
 "metadata": {
  "kernelspec": {
   "display_name": "Python 3",
   "language": "python",
   "name": "python3"
  },
  "language_info": {
   "codemirror_mode": {
    "name": "ipython",
    "version": 3
   },
   "file_extension": ".py",
   "mimetype": "text/x-python",
   "name": "python",
   "nbconvert_exporter": "python",
   "pygments_lexer": "ipython3",
   "version": "3.8.5"
  }
 },
 "nbformat": 4,
 "nbformat_minor": 2
}
