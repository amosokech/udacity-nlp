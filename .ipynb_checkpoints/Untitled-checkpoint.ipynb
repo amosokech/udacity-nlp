{
 "cells": [
  {
   "cell_type": "code",
   "execution_count": 1,
   "metadata": {},
   "outputs": [
    {
     "name": "stdout",
     "output_type": "stream",
     "text": [
      "Hieroglyphic writing dates from c. 3000 BC, and is composed of hundreds of symbols. A hieroglyph can represent a word, a sound, or a silent determinative; and the same symbol can serve different purposes in different contexts. Hieroglyphs were a formal script, used on stone monuments and in tombs, that could be as detailed as individual works of art.\n",
      "\n"
     ]
    }
   ],
   "source": [
    "import os\n",
    "\n",
    "with open(os.path.join('data', 'hieroglyph.txt'), 'r') as f:\n",
    "    text = f.read()\n",
    "    print(text)"
   ]
  },
  {
   "cell_type": "code",
   "execution_count": 4,
   "metadata": {},
   "outputs": [
    {
     "data": {
      "text/html": [
       "<div>\n",
       "<style scoped>\n",
       "    .dataframe tbody tr th:only-of-type {\n",
       "        vertical-align: middle;\n",
       "    }\n",
       "\n",
       "    .dataframe tbody tr th {\n",
       "        vertical-align: top;\n",
       "    }\n",
       "\n",
       "    .dataframe thead th {\n",
       "        text-align: right;\n",
       "    }\n",
       "</style>\n",
       "<table border=\"1\" class=\"dataframe\">\n",
       "  <thead>\n",
       "    <tr style=\"text-align: right;\">\n",
       "      <th></th>\n",
       "      <th>publisher</th>\n",
       "      <th>title</th>\n",
       "    </tr>\n",
       "  </thead>\n",
       "  <tbody>\n",
       "    <tr>\n",
       "      <th>0</th>\n",
       "      <td>Livemint</td>\n",
       "      <td>fed's charles plosser sees high bar for change...</td>\n",
       "    </tr>\n",
       "    <tr>\n",
       "      <th>1</th>\n",
       "      <td>IFA Magazine</td>\n",
       "      <td>us open: stocks fall after fed official hints ...</td>\n",
       "    </tr>\n",
       "    <tr>\n",
       "      <th>2</th>\n",
       "      <td>IFA Magazine</td>\n",
       "      <td>fed risks falling 'behind the curve', charles ...</td>\n",
       "    </tr>\n",
       "    <tr>\n",
       "      <th>3</th>\n",
       "      <td>Moneynews</td>\n",
       "      <td>fed's plosser: nasty weather has curbed job gr...</td>\n",
       "    </tr>\n",
       "    <tr>\n",
       "      <th>4</th>\n",
       "      <td>NASDAQ</td>\n",
       "      <td>plosser: fed may have to accelerate tapering pace</td>\n",
       "    </tr>\n",
       "  </tbody>\n",
       "</table>\n",
       "</div>"
      ],
      "text/plain": [
       "      publisher                                              title\n",
       "0      Livemint  fed's charles plosser sees high bar for change...\n",
       "1  IFA Magazine  us open: stocks fall after fed official hints ...\n",
       "2  IFA Magazine  fed risks falling 'behind the curve', charles ...\n",
       "3     Moneynews  fed's plosser: nasty weather has curbed job gr...\n",
       "4        NASDAQ  plosser: fed may have to accelerate tapering pace"
      ]
     },
     "execution_count": 4,
     "metadata": {},
     "output_type": "execute_result"
    }
   ],
   "source": [
    "import pandas as pd\n",
    "\n",
    "df  =pd.read_csv(os.path.join('data', 'news.csv'))\n",
    "df.head()[['publisher', 'title']]\n",
    "\n",
    "df['title'] = df['title'].str.lower()\n",
    "df.head()[['publisher', 'title']]"
   ]
  },
  {
   "cell_type": "code",
   "execution_count": 5,
   "metadata": {},
   "outputs": [
    {
     "name": "stdout",
     "output_type": "stream",
     "text": [
      "{\n",
      "    \"success\": {\n",
      "        \"total\": 1\n",
      "    },\n",
      "    \"contents\": {\n",
      "        \"quotes\": [\n",
      "            {\n",
      "                \"quote\": \"We don't have to do all of it alone. We were never meant to.\",\n",
      "                \"length\": \"60\",\n",
      "                \"author\": \"Brene Brown\",\n",
      "                \"tags\": [\n",
      "                    \"inspire\",\n",
      "                    \"teamwork\"\n",
      "                ],\n",
      "                \"category\": \"inspire\",\n",
      "                \"language\": \"en\",\n",
      "                \"date\": \"2021-05-06\",\n",
      "                \"permalink\": \"https://theysaidso.com/quote/brene-brown-we-dont-have-to-do-all-of-it-alone-we-were-never-meant-to\",\n",
      "                \"id\": \"DhdoxV10LeG_3pD82xMmEgeF\",\n",
      "                \"background\": \"https://theysaidso.com/img/qod/qod-inspire.jpg\",\n",
      "                \"title\": \"Inspiring Quote of the day\"\n",
      "            }\n",
      "        ]\n",
      "    },\n",
      "    \"baseurl\": \"https://theysaidso.com\",\n",
      "    \"copyright\": {\n",
      "        \"year\": 2023,\n",
      "        \"url\": \"https://theysaidso.com\"\n",
      "    }\n",
      "}\n",
      "We don't have to do all of it alone. We were never meant to. \n",
      "-- Brene Brown\n"
     ]
    }
   ],
   "source": [
    "import requests\n",
    "import json\n",
    "\n",
    "r = requests.get(\n",
    "    \"https://quotes.rest/qod.json\"\n",
    ")\n",
    "\n",
    "res = r.json()\n",
    "print(json.dumps(res, indent=4))\n",
    "q = res['contents']['quotes'][0]\n",
    "print(q['quote'], \"\\n--\", q['author'])"
   ]
  },
  {
   "cell_type": "code",
   "execution_count": 9,
   "metadata": {},
   "outputs": [
    {
     "name": "stdout",
     "output_type": "stream",
     "text": [
      "<html lang=\"en\" op=\"news\"><head><meta name=\"referrer\" content=\"origin\"><meta name=\"viewport\" content=\"width=device-width, initial-scale=1.0\"><link rel=\"stylesheet\" type=\"text/css\" href=\"news.css?0yi3nOLZfN1JGWbReh9A\">\n",
      "        <link rel=\"shortcut icon\" href=\"favicon.ico\">\n",
      "          <link rel=\"alternate\" type=\"application/rss+xml\" title=\"RSS\" href=\"rss\">\n",
      "        <title>Hacker News</title></head><body><center><table id=\"hnmain\" border=\"0\" cellpadding=\"0\" cellspacing=\"0\" width=\"85%\" bgcolor=\"#f6f6ef\">\n",
      "        <tr><td bgcolor=\"#ff6600\"><table border=\"0\" cellpadding=\"0\" cellspacing=\"0\" width=\"100%\" style=\"padding:2px\"><tr><td style=\"width:18px;padding-right:4px\"><a href=\"https://news.ycombinator.com\"><img src=\"y18.gif\" width=\"18\" height=\"18\" style=\"border:1px white solid;\"></a></td>\n",
      "                  <td style=\"line-height:12pt; height:10px;\"><span class=\"pagetop\"><b class=\"hnname\"><a href=\"news\">Hacker News</a></b>\n",
      "              <a href=\"newest\">new</a> | <a href=\"front\">past</a> | <a href=\"newcomments\">comments</a> | <a href=\"ask\">ask</a> | <a href=\"show\">show</a> | <a href=\"jobs\">jobs</a> | <a href=\"submit\">submit</a>            </span></td><td style=\"text-align:right;padding-right:4px;\"><span class=\"pagetop\">\n",
      "                              <a href=\"login?goto=news\">login</a>\n",
      "                          </span></td>\n",
      "              </tr></table></td></tr>\n",
      "<tr id=\"pagespace\" title=\"\" style=\"height:10px\"></tr><tr><td><table border=\"0\" cellpadding=\"0\" cellspacing=\"0\" class=\"itemlist\">\n",
      "              <tr class='athing' id='27061789'>\n",
      "      <td align=\"right\" valign=\"top\" class=\"title\"><span class=\"rank\">1.</span></td>      <td valign=\"top\" class=\"votelinks\"><center><a id='up_27061789' href='vote?id=27061789&amp;how=up&amp;goto=news'><div class='votearrow' title='upvote'></div></a></center></td><td class=\"title\"><a href=\"http://paulgraham.com/newideas.html\" class=\"storylink\">Crazy New Ideas</a><span class=\"sitebit comhead\"> (<a href=\"from?site=paulgraham.com\"><span class=\"sitestr\">paulgraham.com</span></a>)</span></td></tr><tr><td colspan=\"2\"></td><td class=\"subtext\">\n",
      "        <span class=\"score\" id=\"score_27061789\">106 points</span> by <a href=\"user?id=razin\" class=\"hnuser\">razin</a> <span class=\"age\"><a href=\"item?id=27061789\">1 hour ago</a></span> <span id=\"unv_27061789\"></span> | <a href=\"hide?id=27061789&amp;goto=news\">hide</a> | <a href=\"item?id=27061789\">64&nbsp;comments</a>              </td></tr>\n",
      "      <tr class=\"spacer\" style=\"height:5px\"></tr>\n",
      "                <tr class='athing' id='27061130'>\n",
      "      <td align=\"right\" valign=\"top\" class=\"title\"><span class=\"rank\">2.</span></td>      <td valign=\"top\" class=\"votelinks\"><center><a id='up_27061130' href='vote?id=27061130&amp;how=up&amp;goto=news'><div class='votearrow' title='upvote'></div></a></center></td><td class=\"title\"><a href=\"https://www.anandtech.com/show/16656/ibm-creates-first-2nm-chip\" class=\"storylink\">IBM Creates First 2nm Chip</a><span class=\"sitebit comhead\"> (<a href=\"from?site=anandtech.com\"><span class=\"sitestr\">anandtech.com</span></a>)</span></td></tr><tr><td colspan=\"2\"></td><td class=\"subtext\">\n",
      "        <span class=\"score\" id=\"score_27061130\">170 points</span> by <a href=\"user?id=0-_-0\" class=\"hnuser\">0-_-0</a> <span class=\"age\"><a href=\"item?id=27061130\">2 hours ago</a></span> <span id=\"unv_27061130\"></span> | <a href=\"hide?id=27061130&amp;goto=news\">hide</a> | <a href=\"item?id=27061130\">66&nbsp;comments</a>              </td></tr>\n",
      "      <tr class=\"spacer\" style=\"height:5px\"></tr>\n",
      "                <tr class='athing' id='27058178'>\n",
      "      <td align=\"right\" valign=\"top\" class=\"title\"><span class=\"rank\">3.</span></td>      <td valign=\"top\" class=\"votelinks\"><center><a id='up_27058178' href='vote?id=27058178&amp;how=up&amp;goto=news'><div class='votearrow' title='upvote'></div></a></center></td><td class=\"title\"><a href=\"https://techstartups.com/2021/05/05/liveleak-shuts-15-years-online/\" class=\"storylink\">LiveLeak shuts down after 15 years online</a><span class=\"sitebit comhead\"> (<a href=\"from?site=techstartups.com\"><span class=\"sitestr\">techstartups.com</span></a>)</span></td></tr><tr><td colspan=\"2\"></td><td class=\"subtext\">\n",
      "        <span class=\"score\" id=\"score_27058178\">738 points</span> by <a href=\"user?id=ro_bit\" class=\"hnuser\">ro_bit</a> <span class=\"age\"><a href=\"item?id=27058178\">11 hours ago</a></span> <span id=\"unv_27058178\"></span> | <a href=\"hide?id=27058178&amp;goto=news\">hide</a> | <a href=\"item?id=27058178\">467&nbsp;comments</a>              </td></tr>\n",
      "      <tr class=\"spacer\" style=\"height:5px\"></tr>\n",
      "                <tr class='athing' id='27059899'>\n",
      "      <td align=\"right\" valign=\"top\" class=\"title\"><span class=\"rank\">4.</span></td>      <td valign=\"top\" class=\"votelinks\"><center><a id='up_27059899' href='vote?id=27059899&amp;how=up&amp;goto=news'><div class='votearrow' title='upvote'></div></a></center></td><td class=\"title\"><a href=\"https://arxiv.org/abs/2103.03198\" class=\"storylink\">Catala: A Programming Language for the Law</a><span class=\"sitebit comhead\"> (<a href=\"from?site=arxiv.org\"><span class=\"sitestr\">arxiv.org</span></a>)</span></td></tr><tr><td colspan=\"2\"></td><td class=\"subtext\">\n",
      "        <span class=\"score\" id=\"score_27059899\">113 points</span> by <a href=\"user?id=todsacerdoti\" class=\"hnuser\">todsacerdoti</a> <span class=\"age\"><a href=\"item?id=27059899\">6 hours ago</a></span> <span id=\"unv_27059899\"></span> | <a href=\"hide?id=27059899&amp;goto=news\">hide</a> | <a href=\"item?id=27059899\">74&nbsp;comments</a>              </td></tr>\n",
      "      <tr class=\"spacer\" style=\"height:5px\"></tr>\n",
      "                <tr class='athing' id='27061529'>\n",
      "      <td align=\"right\" valign=\"top\" class=\"title\"><span class=\"rank\">5.</span></td>      <td valign=\"top\" class=\"votelinks\"><center><a id='up_27061529' href='vote?id=27061529&amp;how=up&amp;goto=news'><div class='votearrow' title='upvote'></div></a></center></td><td class=\"title\"><a href=\"https://www.bbc.com/future/article/20210505-how-cities-will-fossilise\" class=\"storylink\">How Cities Will Fossilise</a><span class=\"sitebit comhead\"> (<a href=\"from?site=bbc.com\"><span class=\"sitestr\">bbc.com</span></a>)</span></td></tr><tr><td colspan=\"2\"></td><td class=\"subtext\">\n",
      "        <span class=\"score\" id=\"score_27061529\">20 points</span> by <a href=\"user?id=astdb\" class=\"hnuser\">astdb</a> <span class=\"age\"><a href=\"item?id=27061529\">1 hour ago</a></span> <span id=\"unv_27061529\"></span> | <a href=\"hide?id=27061529&amp;goto=news\">hide</a> | <a href=\"item?id=27061529\">6&nbsp;comments</a>              </td></tr>\n",
      "      <tr class=\"spacer\" style=\"height:5px\"></tr>\n",
      "                <tr class='athing' id='27061500'>\n",
      "      <td align=\"right\" valign=\"top\" class=\"title\"><span class=\"rank\">6.</span></td>      <td valign=\"top\" class=\"votelinks\"><center><a id='up_27061500' href='vote?id=27061500&amp;how=up&amp;goto=news'><div class='votearrow' title='upvote'></div></a></center></td><td class=\"title\"><a href=\"https://gleam.run/news/gleam-v0.15-released/\" class=\"storylink\">Gleam 0.15 – Type-safe language for the Erlang VM</a><span class=\"sitebit comhead\"> (<a href=\"from?site=gleam.run\"><span class=\"sitestr\">gleam.run</span></a>)</span></td></tr><tr><td colspan=\"2\"></td><td class=\"subtext\">\n",
      "        <span class=\"score\" id=\"score_27061500\">47 points</span> by <a href=\"user?id=lpil\" class=\"hnuser\">lpil</a> <span class=\"age\"><a href=\"item?id=27061500\">1 hour ago</a></span> <span id=\"unv_27061500\"></span> | <a href=\"hide?id=27061500&amp;goto=news\">hide</a> | <a href=\"item?id=27061500\">4&nbsp;comments</a>              </td></tr>\n",
      "      <tr class=\"spacer\" style=\"height:5px\"></tr>\n",
      "                <tr class='athing' id='27059119'>\n",
      "      <td align=\"right\" valign=\"top\" class=\"title\"><span class=\"rank\">7.</span></td>      <td valign=\"top\" class=\"votelinks\"><center><a id='up_27059119' href='vote?id=27059119&amp;how=up&amp;goto=news'><div class='votearrow' title='upvote'></div></a></center></td><td class=\"title\"><a href=\"https://blog.pyston.org/2021/05/05/pyston-v2-2-faster-and-open-source/\" class=\"storylink\">Pyston v2.2: faster and open source</a><span class=\"sitebit comhead\"> (<a href=\"from?site=pyston.org\"><span class=\"sitestr\">pyston.org</span></a>)</span></td></tr><tr><td colspan=\"2\"></td><td class=\"subtext\">\n",
      "        <span class=\"score\" id=\"score_27059119\">180 points</span> by <a href=\"user?id=chenzhekl\" class=\"hnuser\">chenzhekl</a> <span class=\"age\"><a href=\"item?id=27059119\">8 hours ago</a></span> <span id=\"unv_27059119\"></span> | <a href=\"hide?id=27059119&amp;goto=news\">hide</a> | <a href=\"item?id=27059119\">67&nbsp;comments</a>              </td></tr>\n",
      "      <tr class=\"spacer\" style=\"height:5px\"></tr>\n",
      "                <tr class='athing' id='27061947'>\n",
      "      <td align=\"right\" valign=\"top\" class=\"title\"><span class=\"rank\">8.</span></td>      <td></td><td class=\"title\"><a href=\"https://www.tesorio.com/careers#job-openings\" class=\"storylink\" rel=\"nofollow\">Tesorio Is Hiring a Data Architect, Senior DevOps, Senior Data Scientist</a><span class=\"sitebit comhead\"> (<a href=\"from?site=tesorio.com\"><span class=\"sitestr\">tesorio.com</span></a>)</span></td></tr><tr><td colspan=\"2\"></td><td class=\"subtext\">\n",
      "        <span class=\"age\"><a href=\"item?id=27061947\">1 hour ago</a></span> | <a href=\"hide?id=27061947&amp;goto=news\">hide</a>      </td></tr>\n",
      "      <tr class=\"spacer\" style=\"height:5px\"></tr>\n",
      "                <tr class='athing' id='27061631'>\n",
      "      <td align=\"right\" valign=\"top\" class=\"title\"><span class=\"rank\">9.</span></td>      <td valign=\"top\" class=\"votelinks\"><center><a id='up_27061631' href='vote?id=27061631&amp;how=up&amp;goto=news'><div class='votearrow' title='upvote'></div></a></center></td><td class=\"title\"><a href=\"item?id=27061631\" class=\"storylink\">Ask HN: How to attract perm Snr Engs when the contract market is so lucrative?</a></td></tr><tr><td colspan=\"2\"></td><td class=\"subtext\">\n",
      "        <span class=\"score\" id=\"score_27061631\">41 points</span> by <a href=\"user?id=_0o6v\" class=\"hnuser\">_0o6v</a> <span class=\"age\"><a href=\"item?id=27061631\">1 hour ago</a></span> <span id=\"unv_27061631\"></span> | <a href=\"hide?id=27061631&amp;goto=news\">hide</a> | <a href=\"item?id=27061631\">66&nbsp;comments</a>              </td></tr>\n",
      "      <tr class=\"spacer\" style=\"height:5px\"></tr>\n",
      "                <tr class='athing' id='27053941'>\n",
      "      <td align=\"right\" valign=\"top\" class=\"title\"><span class=\"rank\">10.</span></td>      <td valign=\"top\" class=\"votelinks\"><center><a id='up_27053941' href='vote?id=27053941&amp;how=up&amp;goto=news'><div class='votearrow' title='upvote'></div></a></center></td><td class=\"title\"><a href=\"https://mysteries.wizardzines.com/50ms-request.html\" class=\"storylink\">The Case of the 50ms request</a><span class=\"sitebit comhead\"> (<a href=\"from?site=wizardzines.com\"><span class=\"sitestr\">wizardzines.com</span></a>)</span></td></tr><tr><td colspan=\"2\"></td><td class=\"subtext\">\n",
      "        <span class=\"score\" id=\"score_27053941\">177 points</span> by <a href=\"user?id=stochastimus\" class=\"hnuser\">stochastimus</a> <span class=\"age\"><a href=\"item?id=27053941\">8 hours ago</a></span> <span id=\"unv_27053941\"></span> | <a href=\"hide?id=27053941&amp;goto=news\">hide</a> | <a href=\"item?id=27053941\">60&nbsp;comments</a>              </td></tr>\n",
      "      <tr class=\"spacer\" style=\"height:5px\"></tr>\n",
      "                <tr class='athing' id='27054839'>\n",
      "      <td align=\"right\" valign=\"top\" class=\"title\"><span class=\"rank\">11.</span></td>      <td valign=\"top\" class=\"votelinks\"><center><a id='up_27054839' href='vote?id=27054839&amp;how=up&amp;goto=news'><div class='votearrow' title='upvote'></div></a></center></td><td class=\"title\"><a href=\"http://www.falkoriemenschneider.de/a__2021-05-10__Six-years-of-professional-Clojure-development.html\" class=\"storylink\">Six years of professional Clojure development</a><span class=\"sitebit comhead\"> (<a href=\"from?site=falkoriemenschneider.de\"><span class=\"sitestr\">falkoriemenschneider.de</span></a>)</span></td></tr><tr><td colspan=\"2\"></td><td class=\"subtext\">\n",
      "        <span class=\"score\" id=\"score_27054839\">102 points</span> by <a href=\"user?id=yogthos\" class=\"hnuser\">yogthos</a> <span class=\"age\"><a href=\"item?id=27054839\">6 hours ago</a></span> <span id=\"unv_27054839\"></span> | <a href=\"hide?id=27054839&amp;goto=news\">hide</a> | <a href=\"item?id=27054839\">63&nbsp;comments</a>              </td></tr>\n",
      "      <tr class=\"spacer\" style=\"height:5px\"></tr>\n",
      "                <tr class='athing' id='27061860'>\n",
      "      <td align=\"right\" valign=\"top\" class=\"title\"><span class=\"rank\">12.</span></td>      <td valign=\"top\" class=\"votelinks\"><center><a id='up_27061860' href='vote?id=27061860&amp;how=up&amp;goto=news'><div class='votearrow' title='upvote'></div></a></center></td><td class=\"title\"><a href=\"https://slate.com/news-and-politics/2021/04/finland-happiness-lagom-hygge.html\" class=\"storylink\">The Grim Secret of Nordic Happiness</a><span class=\"sitebit comhead\"> (<a href=\"from?site=slate.com\"><span class=\"sitestr\">slate.com</span></a>)</span></td></tr><tr><td colspan=\"2\"></td><td class=\"subtext\">\n",
      "        <span class=\"score\" id=\"score_27061860\">31 points</span> by <a href=\"user?id=RickJWagner\" class=\"hnuser\">RickJWagner</a> <span class=\"age\"><a href=\"item?id=27061860\">1 hour ago</a></span> <span id=\"unv_27061860\"></span> | <a href=\"hide?id=27061860&amp;goto=news\">hide</a> | <a href=\"item?id=27061860\">30&nbsp;comments</a>              </td></tr>\n",
      "      <tr class=\"spacer\" style=\"height:5px\"></tr>\n",
      "                <tr class='athing' id='27060252'>\n",
      "      <td align=\"right\" valign=\"top\" class=\"title\"><span class=\"rank\">13.</span></td>      <td valign=\"top\" class=\"votelinks\"><center><a id='up_27060252' href='vote?id=27060252&amp;how=up&amp;goto=news'><div class='votearrow' title='upvote'></div></a></center></td><td class=\"title\"><a href=\"https://spidermonkey.dev/\" class=\"storylink\">SpiderMonkey JavaScript/WebAssembly Engine</a><span class=\"sitebit comhead\"> (<a href=\"from?site=spidermonkey.dev\"><span class=\"sitestr\">spidermonkey.dev</span></a>)</span></td></tr><tr><td colspan=\"2\"></td><td class=\"subtext\">\n",
      "        <span class=\"score\" id=\"score_27060252\">26 points</span> by <a href=\"user?id=twapi\" class=\"hnuser\">twapi</a> <span class=\"age\"><a href=\"item?id=27060252\">5 hours ago</a></span> <span id=\"unv_27060252\"></span> | <a href=\"hide?id=27060252&amp;goto=news\">hide</a> | <a href=\"item?id=27060252\">5&nbsp;comments</a>              </td></tr>\n",
      "      <tr class=\"spacer\" style=\"height:5px\"></tr>\n",
      "                <tr class='athing' id='27058914'>\n",
      "      <td align=\"right\" valign=\"top\" class=\"title\"><span class=\"rank\">14.</span></td>      <td valign=\"top\" class=\"votelinks\"><center><a id='up_27058914' href='vote?id=27058914&amp;how=up&amp;goto=news'><div class='votearrow' title='upvote'></div></a></center></td><td class=\"title\"><a href=\"https://github.com/Sysinternals/ProcMon-for-Linux/\" class=\"storylink\">ProcMon for Linux (Preview)</a><span class=\"sitebit comhead\"> (<a href=\"from?site=github.com/sysinternals\"><span class=\"sitestr\">github.com/sysinternals</span></a>)</span></td></tr><tr><td colspan=\"2\"></td><td class=\"subtext\">\n",
      "        <span class=\"score\" id=\"score_27058914\">136 points</span> by <a href=\"user?id=vmarsy\" class=\"hnuser\">vmarsy</a> <span class=\"age\"><a href=\"item?id=27058914\">9 hours ago</a></span> <span id=\"unv_27058914\"></span> | <a href=\"hide?id=27058914&amp;goto=news\">hide</a> | <a href=\"item?id=27058914\">26&nbsp;comments</a>              </td></tr>\n",
      "      <tr class=\"spacer\" style=\"height:5px\"></tr>\n",
      "                <tr class='athing' id='27061673'>\n",
      "      <td align=\"right\" valign=\"top\" class=\"title\"><span class=\"rank\">15.</span></td>      <td valign=\"top\" class=\"votelinks\"><center><a id='up_27061673' href='vote?id=27061673&amp;how=up&amp;goto=news'><div class='votearrow' title='upvote'></div></a></center></td><td class=\"title\"><a href=\"https://arstechnica.com/gadgets/2021/05/iphones-night-shift-feature-doesnt-help-you-sleep-better-study-finds/\" class=\"storylink\">Study: Using Apple’s Night Shift to improve your sleep? Don’t bother</a><span class=\"sitebit comhead\"> (<a href=\"from?site=arstechnica.com\"><span class=\"sitestr\">arstechnica.com</span></a>)</span></td></tr><tr><td colspan=\"2\"></td><td class=\"subtext\">\n",
      "        <span class=\"score\" id=\"score_27061673\">31 points</span> by <a href=\"user?id=mpweiher\" class=\"hnuser\">mpweiher</a> <span class=\"age\"><a href=\"item?id=27061673\">1 hour ago</a></span> <span id=\"unv_27061673\"></span> | <a href=\"hide?id=27061673&amp;goto=news\">hide</a> | <a href=\"item?id=27061673\">10&nbsp;comments</a>              </td></tr>\n",
      "      <tr class=\"spacer\" style=\"height:5px\"></tr>\n",
      "                <tr class='athing' id='27060180'>\n",
      "      <td align=\"right\" valign=\"top\" class=\"title\"><span class=\"rank\">16.</span></td>      <td valign=\"top\" class=\"votelinks\"><center><a id='up_27060180' href='vote?id=27060180&amp;how=up&amp;goto=news'><div class='votearrow' title='upvote'></div></a></center></td><td class=\"title\"><a href=\"https://blog.adacore.com/from-rust-to-spark-formally-proven-bip-buffers\" class=\"storylink\">From Rust to Spark: Formally Proven Bip-Buffers</a><span class=\"sitebit comhead\"> (<a href=\"from?site=adacore.com\"><span class=\"sitestr\">adacore.com</span></a>)</span></td></tr><tr><td colspan=\"2\"></td><td class=\"subtext\">\n",
      "        <span class=\"score\" id=\"score_27060180\">32 points</span> by <a href=\"user?id=pjmlp\" class=\"hnuser\">pjmlp</a> <span class=\"age\"><a href=\"item?id=27060180\">5 hours ago</a></span> <span id=\"unv_27060180\"></span> | <a href=\"hide?id=27060180&amp;goto=news\">hide</a> | <a href=\"item?id=27060180\">2&nbsp;comments</a>              </td></tr>\n",
      "      <tr class=\"spacer\" style=\"height:5px\"></tr>\n",
      "                <tr class='athing' id='27047108'>\n",
      "      <td align=\"right\" valign=\"top\" class=\"title\"><span class=\"rank\">17.</span></td>      <td valign=\"top\" class=\"votelinks\"><center><a id='up_27047108' href='vote?id=27047108&amp;how=up&amp;goto=news'><div class='votearrow' title='upvote'></div></a></center></td><td class=\"title\"><a href=\"https://jix.one/proving-50-year-old-sorting-networks-optimal-part-1/\" class=\"storylink\">Proving 50-Year-Old Sorting Networks Optimal: Part 1</a><span class=\"sitebit comhead\"> (<a href=\"from?site=jix.one\"><span class=\"sitestr\">jix.one</span></a>)</span></td></tr><tr><td colspan=\"2\"></td><td class=\"subtext\">\n",
      "        <span class=\"score\" id=\"score_27047108\">43 points</span> by <a href=\"user?id=todsacerdoti\" class=\"hnuser\">todsacerdoti</a> <span class=\"age\"><a href=\"item?id=27047108\">5 hours ago</a></span> <span id=\"unv_27047108\"></span> | <a href=\"hide?id=27047108&amp;goto=news\">hide</a> | <a href=\"item?id=27047108\">8&nbsp;comments</a>              </td></tr>\n",
      "      <tr class=\"spacer\" style=\"height:5px\"></tr>\n",
      "                <tr class='athing' id='27060326'>\n",
      "      <td align=\"right\" valign=\"top\" class=\"title\"><span class=\"rank\">18.</span></td>      <td valign=\"top\" class=\"votelinks\"><center><a id='up_27060326' href='vote?id=27060326&amp;how=up&amp;goto=news'><div class='votearrow' title='upvote'></div></a></center></td><td class=\"title\"><a href=\"https://www.freebsd.org/status/report-2021-01-2021-03/\" class=\"storylink\">FreeBSD 2021 Q1 Status Report</a><span class=\"sitebit comhead\"> (<a href=\"from?site=freebsd.org\"><span class=\"sitestr\">freebsd.org</span></a>)</span></td></tr><tr><td colspan=\"2\"></td><td class=\"subtext\">\n",
      "        <span class=\"score\" id=\"score_27060326\">53 points</span> by <a href=\"user?id=vermaden\" class=\"hnuser\">vermaden</a> <span class=\"age\"><a href=\"item?id=27060326\">5 hours ago</a></span> <span id=\"unv_27060326\"></span> | <a href=\"hide?id=27060326&amp;goto=news\">hide</a> | <a href=\"item?id=27060326\">3&nbsp;comments</a>              </td></tr>\n",
      "      <tr class=\"spacer\" style=\"height:5px\"></tr>\n",
      "                <tr class='athing' id='27058414'>\n",
      "      <td align=\"right\" valign=\"top\" class=\"title\"><span class=\"rank\">19.</span></td>      <td valign=\"top\" class=\"votelinks\"><center><a id='up_27058414' href='vote?id=27058414&amp;how=up&amp;goto=news'><div class='votearrow' title='upvote'></div></a></center></td><td class=\"title\"><a href=\"https://www.overcomingbias.com/2021/05/ufos-say-govt-competence-is-either-surprisingly-high-or-surprisingly-low.html\" class=\"storylink\">UFOs shows government competence as either surprisingly high or low</a><span class=\"sitebit comhead\"> (<a href=\"from?site=overcomingbias.com\"><span class=\"sitestr\">overcomingbias.com</span></a>)</span></td></tr><tr><td colspan=\"2\"></td><td class=\"subtext\">\n",
      "        <span class=\"score\" id=\"score_27058414\">58 points</span> by <a href=\"user?id=cinquemb\" class=\"hnuser\">cinquemb</a> <span class=\"age\"><a href=\"item?id=27058414\">10 hours ago</a></span> <span id=\"unv_27058414\"></span> | <a href=\"hide?id=27058414&amp;goto=news\">hide</a> | <a href=\"item?id=27058414\">128&nbsp;comments</a>              </td></tr>\n",
      "      <tr class=\"spacer\" style=\"height:5px\"></tr>\n",
      "                <tr class='athing' id='27062300'>\n",
      "      <td align=\"right\" valign=\"top\" class=\"title\"><span class=\"rank\">20.</span></td>      <td valign=\"top\" class=\"votelinks\"><center><a id='up_27062300' href='vote?id=27062300&amp;how=up&amp;goto=news'><div class='votearrow' title='upvote'></div></a></center></td><td class=\"title\"><a href=\"https://www.ilkleygazette.co.uk/news/national/uk-today/19283309.nhs-revise-covid-vaccine-site-concerns-leak-details/\" class=\"storylink\" rel=\"nofollow\">UK NHS site allows your employer to determine if you've been vaccinated</a><span class=\"sitebit comhead\"> (<a href=\"from?site=ilkleygazette.co.uk\"><span class=\"sitestr\">ilkleygazette.co.uk</span></a>)</span></td></tr><tr><td colspan=\"2\"></td><td class=\"subtext\">\n",
      "        <span class=\"score\" id=\"score_27062300\">4 points</span> by <a href=\"user?id=nly\" class=\"hnuser\">nly</a> <span class=\"age\"><a href=\"item?id=27062300\">23 minutes ago</a></span> <span id=\"unv_27062300\"></span> | <a href=\"hide?id=27062300&amp;goto=news\">hide</a> | <a href=\"item?id=27062300\">1&nbsp;comment</a>              </td></tr>\n",
      "      <tr class=\"spacer\" style=\"height:5px\"></tr>\n",
      "                <tr class='athing' id='27061412'>\n",
      "      <td align=\"right\" valign=\"top\" class=\"title\"><span class=\"rank\">21.</span></td>      <td valign=\"top\" class=\"votelinks\"><center><a id='up_27061412' href='vote?id=27061412&amp;how=up&amp;goto=news'><div class='votearrow' title='upvote'></div></a></center></td><td class=\"title\"><a href=\"https://www.engadget.com/sony-is-no-longer-selling-dsl-rs-091012774.html\" class=\"storylink\">Sony discontinues its last DSLRs</a><span class=\"sitebit comhead\"> (<a href=\"from?site=engadget.com\"><span class=\"sitestr\">engadget.com</span></a>)</span></td></tr><tr><td colspan=\"2\"></td><td class=\"subtext\">\n",
      "        <span class=\"score\" id=\"score_27061412\">22 points</span> by <a href=\"user?id=throw0101a\" class=\"hnuser\">throw0101a</a> <span class=\"age\"><a href=\"item?id=27061412\">2 hours ago</a></span> <span id=\"unv_27061412\"></span> | <a href=\"hide?id=27061412&amp;goto=news\">hide</a> | <a href=\"item?id=27061412\">13&nbsp;comments</a>              </td></tr>\n",
      "      <tr class=\"spacer\" style=\"height:5px\"></tr>\n",
      "                <tr class='athing' id='27061700'>\n",
      "      <td align=\"right\" valign=\"top\" class=\"title\"><span class=\"rank\">22.</span></td>      <td valign=\"top\" class=\"votelinks\"><center><a id='up_27061700' href='vote?id=27061700&amp;how=up&amp;goto=news'><div class='votearrow' title='upvote'></div></a></center></td><td class=\"title\"><a href=\"https://twitter.com/jonsyu/status/1389635626698297344\" class=\"storylink\">Starting a Crypto Project</a><span class=\"sitebit comhead\"> (<a href=\"from?site=twitter.com/jonsyu\"><span class=\"sitestr\">twitter.com/jonsyu</span></a>)</span></td></tr><tr><td colspan=\"2\"></td><td class=\"subtext\">\n",
      "        <span class=\"score\" id=\"score_27061700\">34 points</span> by <a href=\"user?id=grey-area\" class=\"hnuser\">grey-area</a> <span class=\"age\"><a href=\"item?id=27061700\">1 hour ago</a></span> <span id=\"unv_27061700\"></span> | <a href=\"hide?id=27061700&amp;goto=news\">hide</a> | <a href=\"item?id=27061700\">18&nbsp;comments</a>              </td></tr>\n",
      "      <tr class=\"spacer\" style=\"height:5px\"></tr>\n",
      "                <tr class='athing' id='27059551'>\n",
      "      <td align=\"right\" valign=\"top\" class=\"title\"><span class=\"rank\">23.</span></td>      <td valign=\"top\" class=\"votelinks\"><center><a id='up_27059551' href='vote?id=27059551&amp;how=up&amp;goto=news'><div class='votearrow' title='upvote'></div></a></center></td><td class=\"title\"><a href=\"https://klarasystems.com/articles/deep-diving-into-the-strengths-of-freebsd/\" class=\"storylink\">Deep Diving into the Strengths of FreeBSD</a><span class=\"sitebit comhead\"> (<a href=\"from?site=klarasystems.com\"><span class=\"sitestr\">klarasystems.com</span></a>)</span></td></tr><tr><td colspan=\"2\"></td><td class=\"subtext\">\n",
      "        <span class=\"score\" id=\"score_27059551\">75 points</span> by <a href=\"user?id=rodrigo975\" class=\"hnuser\">rodrigo975</a> <span class=\"age\"><a href=\"item?id=27059551\">7 hours ago</a></span> <span id=\"unv_27059551\"></span> | <a href=\"hide?id=27059551&amp;goto=news\">hide</a> | <a href=\"item?id=27059551\">49&nbsp;comments</a>              </td></tr>\n",
      "      <tr class=\"spacer\" style=\"height:5px\"></tr>\n",
      "                <tr class='athing' id='27060609'>\n",
      "      <td align=\"right\" valign=\"top\" class=\"title\"><span class=\"rank\">24.</span></td>      <td valign=\"top\" class=\"votelinks\"><center><a id='up_27060609' href='vote?id=27060609&amp;how=up&amp;goto=news'><div class='votearrow' title='upvote'></div></a></center></td><td class=\"title\"><a href=\"https://www.datatilsynet.no/en/news/2021/intent-to-issue--25-million-fine-to-disqus-inc/\" class=\"storylink\">Norway Intent to issue € 2,5M fine to Disqus Inc</a><span class=\"sitebit comhead\"> (<a href=\"from?site=datatilsynet.no\"><span class=\"sitestr\">datatilsynet.no</span></a>)</span></td></tr><tr><td colspan=\"2\"></td><td class=\"subtext\">\n",
      "        <span class=\"score\" id=\"score_27060609\">10 points</span> by <a href=\"user?id=hgo\" class=\"hnuser\">hgo</a> <span class=\"age\"><a href=\"item?id=27060609\">4 hours ago</a></span> <span id=\"unv_27060609\"></span> | <a href=\"hide?id=27060609&amp;goto=news\">hide</a> | <a href=\"item?id=27060609\">discuss</a>              </td></tr>\n",
      "      <tr class=\"spacer\" style=\"height:5px\"></tr>\n",
      "                <tr class='athing' id='27036557'>\n",
      "      <td align=\"right\" valign=\"top\" class=\"title\"><span class=\"rank\">25.</span></td>      <td valign=\"top\" class=\"votelinks\"><center><a id='up_27036557' href='vote?id=27036557&amp;how=up&amp;goto=news'><div class='votearrow' title='upvote'></div></a></center></td><td class=\"title\"><a href=\"https://www.vox.com/22410713/lumber-prices-shortage\" class=\"storylink\">Lumber mania is sweeping North America</a><span class=\"sitebit comhead\"> (<a href=\"from?site=vox.com\"><span class=\"sitestr\">vox.com</span></a>)</span></td></tr><tr><td colspan=\"2\"></td><td class=\"subtext\">\n",
      "        <span class=\"score\" id=\"score_27036557\">90 points</span> by <a href=\"user?id=RickJWagner\" class=\"hnuser\">RickJWagner</a> <span class=\"age\"><a href=\"item?id=27036557\">12 hours ago</a></span> <span id=\"unv_27036557\"></span> | <a href=\"hide?id=27036557&amp;goto=news\">hide</a> | <a href=\"item?id=27036557\">170&nbsp;comments</a>              </td></tr>\n",
      "      <tr class=\"spacer\" style=\"height:5px\"></tr>\n",
      "                <tr class='athing' id='27052840'>\n",
      "      <td align=\"right\" valign=\"top\" class=\"title\"><span class=\"rank\">26.</span></td>      <td valign=\"top\" class=\"votelinks\"><center><a id='up_27052840' href='vote?id=27052840&amp;how=up&amp;goto=news'><div class='votearrow' title='upvote'></div></a></center></td><td class=\"title\"><a href=\"https://github.com/timvisee/send\" class=\"storylink\">Send: A Fork of Mozilla's Firefox Send</a><span class=\"sitebit comhead\"> (<a href=\"from?site=github.com/timvisee\"><span class=\"sitestr\">github.com/timvisee</span></a>)</span></td></tr><tr><td colspan=\"2\"></td><td class=\"subtext\">\n",
      "        <span class=\"score\" id=\"score_27052840\">604 points</span> by <a href=\"user?id=andredz\" class=\"hnuser\">andredz</a> <span class=\"age\"><a href=\"item?id=27052840\">19 hours ago</a></span> <span id=\"unv_27052840\"></span> | <a href=\"hide?id=27052840&amp;goto=news\">hide</a> | <a href=\"item?id=27052840\">125&nbsp;comments</a>              </td></tr>\n",
      "      <tr class=\"spacer\" style=\"height:5px\"></tr>\n",
      "                <tr class='athing' id='27059935'>\n",
      "      <td align=\"right\" valign=\"top\" class=\"title\"><span class=\"rank\">27.</span></td>      <td valign=\"top\" class=\"votelinks\"><center><a id='up_27059935' href='vote?id=27059935&amp;how=up&amp;goto=news'><div class='votearrow' title='upvote'></div></a></center></td><td class=\"title\"><a href=\"https://www.bbc.co.uk/news/world-us-canada-57004302\" class=\"storylink\">Covid: US backs waiver on vaccine intellectual property</a><span class=\"sitebit comhead\"> (<a href=\"from?site=bbc.co.uk\"><span class=\"sitestr\">bbc.co.uk</span></a>)</span></td></tr><tr><td colspan=\"2\"></td><td class=\"subtext\">\n",
      "        <span class=\"score\" id=\"score_27059935\">109 points</span> by <a href=\"user?id=mattkohl\" class=\"hnuser\">mattkohl</a> <span class=\"age\"><a href=\"item?id=27059935\">6 hours ago</a></span> <span id=\"unv_27059935\"></span> | <a href=\"hide?id=27059935&amp;goto=news\">hide</a> | <a href=\"item?id=27059935\">102&nbsp;comments</a>              </td></tr>\n",
      "      <tr class=\"spacer\" style=\"height:5px\"></tr>\n",
      "                <tr class='athing' id='27061020'>\n",
      "      <td align=\"right\" valign=\"top\" class=\"title\"><span class=\"rank\">28.</span></td>      <td valign=\"top\" class=\"votelinks\"><center><a id='up_27061020' href='vote?id=27061020&amp;how=up&amp;goto=news'><div class='votearrow' title='upvote'></div></a></center></td><td class=\"title\"><a href=\"https://developer.mozilla.org/en-US/docs/Web/API/HTML_Sanitizer_API\" class=\"storylink\">HTML Sanitizer API</a><span class=\"sitebit comhead\"> (<a href=\"from?site=developer.mozilla.org\"><span class=\"sitestr\">developer.mozilla.org</span></a>)</span></td></tr><tr><td colspan=\"2\"></td><td class=\"subtext\">\n",
      "        <span class=\"score\" id=\"score_27061020\">53 points</span> by <a href=\"user?id=graderjs\" class=\"hnuser\">graderjs</a> <span class=\"age\"><a href=\"item?id=27061020\">3 hours ago</a></span> <span id=\"unv_27061020\"></span> | <a href=\"hide?id=27061020&amp;goto=news\">hide</a> | <a href=\"item?id=27061020\">51&nbsp;comments</a>              </td></tr>\n",
      "      <tr class=\"spacer\" style=\"height:5px\"></tr>\n",
      "                <tr class='athing' id='27047243'>\n",
      "      <td align=\"right\" valign=\"top\" class=\"title\"><span class=\"rank\">29.</span></td>      <td valign=\"top\" class=\"votelinks\"><center><a id='up_27047243' href='vote?id=27047243&amp;how=up&amp;goto=news'><div class='votearrow' title='upvote'></div></a></center></td><td class=\"title\"><a href=\"https://github.com/ClearURLs/Addon/\" class=\"storylink\">ClearURLs – automatically remove tracking elements from URLs</a><span class=\"sitebit comhead\"> (<a href=\"from?site=github.com/clearurls\"><span class=\"sitestr\">github.com/clearurls</span></a>)</span></td></tr><tr><td colspan=\"2\"></td><td class=\"subtext\">\n",
      "        <span class=\"score\" id=\"score_27047243\">753 points</span> by <a href=\"user?id=stanislavb\" class=\"hnuser\">stanislavb</a> <span class=\"age\"><a href=\"item?id=27047243\">1 day ago</a></span> <span id=\"unv_27047243\"></span> | <a href=\"hide?id=27047243&amp;goto=news\">hide</a> | <a href=\"item?id=27047243\">287&nbsp;comments</a>              </td></tr>\n",
      "      <tr class=\"spacer\" style=\"height:5px\"></tr>\n",
      "                <tr class='athing' id='27059608'>\n",
      "      <td align=\"right\" valign=\"top\" class=\"title\"><span class=\"rank\">30.</span></td>      <td valign=\"top\" class=\"votelinks\"><center><a id='up_27059608' href='vote?id=27059608&amp;how=up&amp;goto=news'><div class='votearrow' title='upvote'></div></a></center></td><td class=\"title\"><a href=\"https://money.yahoo.com/montana-plans-to-cancel-unemployment-benefits-161755830.html\" class=\"storylink\">Montana to cancel unemployment benefits to address severe workforce shortage</a><span class=\"sitebit comhead\"> (<a href=\"from?site=yahoo.com\"><span class=\"sitestr\">yahoo.com</span></a>)</span></td></tr><tr><td colspan=\"2\"></td><td class=\"subtext\">\n",
      "        <span class=\"score\" id=\"score_27059608\">78 points</span> by <a href=\"user?id=awb\" class=\"hnuser\">awb</a> <span class=\"age\"><a href=\"item?id=27059608\">7 hours ago</a></span> <span id=\"unv_27059608\"></span> | <a href=\"hide?id=27059608&amp;goto=news\">hide</a> | <a href=\"item?id=27059608\">128&nbsp;comments</a>              </td></tr>\n",
      "      <tr class=\"spacer\" style=\"height:5px\"></tr>\n",
      "            <tr class=\"morespace\" style=\"height:10px\"></tr><tr><td colspan=\"2\"></td><td class=\"title\"><a href=\"news?p=2\" class=\"morelink\" rel=\"next\">More</a></td></tr>\n",
      "  </table>\n",
      "</td></tr>\n",
      "<tr><td><img src=\"s.gif\" height=\"10\" width=\"0\"><table width=\"100%\" cellspacing=\"0\" cellpadding=\"1\"><tr><td bgcolor=\"#ff6600\"></td></tr></table><br><center><span class=\"yclinks\"><a href=\"newsguidelines.html\">Guidelines</a>\n",
      "        | <a href=\"newsfaq.html\">FAQ</a>\n",
      "        | <a href=\"lists\">Lists</a>\n",
      "        | <a href=\"https://github.com/HackerNews/API\">API</a>\n",
      "        | <a href=\"security.html\">Security</a>\n",
      "        | <a href=\"http://www.ycombinator.com/legal/\">Legal</a>\n",
      "        | <a href=\"http://www.ycombinator.com/apply/\">Apply to YC</a>\n",
      "        | <a href=\"mailto:hn@ycombinator.com\">Contact</a></span><br><br><form method=\"get\" action=\"//hn.algolia.com/\">Search:\n",
      "          <input type=\"text\" name=\"q\" value=\"\" size=\"17\" autocorrect=\"off\" spellcheck=\"false\" autocapitalize=\"off\" autocomplete=\"false\"></form>\n",
      "            </center></td></tr>\n",
      "      </table></center></body><script type='text/javascript' src='hn.js?0yi3nOLZfN1JGWbReh9A'></script></html>\n",
      "\n"
     ]
    }
   ],
   "source": [
    "import requests\n",
    "\n",
    "r = requests.get(\"https://news.ycombinator.com\")\n",
    "print(r.text)"
   ]
  },
  {
   "cell_type": "code",
   "execution_count": 10,
   "metadata": {},
   "outputs": [
    {
     "name": "stdout",
     "output_type": "stream",
     "text": [
      "\n",
      "        \n",
      "          \n",
      "        Hacker News\n",
      "        \n",
      "                  Hacker News\n",
      "              new | past | comments | ask | show | jobs | submit            \n",
      "                              login\n",
      "                          \n",
      "              \n",
      "\n",
      "              \n",
      "      1.      Crazy New Ideas (paulgraham.com)\n",
      "        106 points by razin 1 hour ago  | hide | 64&nbsp;comments              \n",
      "      \n",
      "                \n",
      "      2.      IBM Creates First 2nm Chip (anandtech.com)\n",
      "        170 points by 0-_-0 2 hours ago  | hide | 66&nbsp;comments              \n",
      "      \n",
      "                \n",
      "      3.      LiveLeak shuts down after 15 years online (techstartups.com)\n",
      "        738 points by ro_bit 11 hours ago  | hide | 467&nbsp;comments              \n",
      "      \n",
      "                \n",
      "      4.      Catala: A Programming Language for the Law (arxiv.org)\n",
      "        113 points by todsacerdoti 6 hours ago  | hide | 74&nbsp;comments              \n",
      "      \n",
      "                \n",
      "      5.      How Cities Will Fossilise (bbc.com)\n",
      "        20 points by astdb 1 hour ago  | hide | 6&nbsp;comments              \n",
      "      \n",
      "                \n",
      "      6.      Gleam 0.15 – Type-safe language for the Erlang VM (gleam.run)\n",
      "        47 points by lpil 1 hour ago  | hide | 4&nbsp;comments              \n",
      "      \n",
      "                \n",
      "      7.      Pyston v2.2: faster and open source (pyston.org)\n",
      "        180 points by chenzhekl 8 hours ago  | hide | 67&nbsp;comments              \n",
      "      \n",
      "                \n",
      "      8.      Tesorio Is Hiring a Data Architect, Senior DevOps, Senior Data Scientist (tesorio.com)\n",
      "        1 hour ago | hide      \n",
      "      \n",
      "                \n",
      "      9.      Ask HN: How to attract perm Snr Engs when the contract market is so lucrative?\n",
      "        41 points by _0o6v 1 hour ago  | hide | 66&nbsp;comments              \n",
      "      \n",
      "                \n",
      "      10.      The Case of the 50ms request (wizardzines.com)\n",
      "        177 points by stochastimus 8 hours ago  | hide | 60&nbsp;comments              \n",
      "      \n",
      "                \n",
      "      11.      Six years of professional Clojure development (falkoriemenschneider.de)\n",
      "        102 points by yogthos 6 hours ago  | hide | 63&nbsp;comments              \n",
      "      \n",
      "                \n",
      "      12.      The Grim Secret of Nordic Happiness (slate.com)\n",
      "        31 points by RickJWagner 1 hour ago  | hide | 30&nbsp;comments              \n",
      "      \n",
      "                \n",
      "      13.      SpiderMonkey JavaScript/WebAssembly Engine (spidermonkey.dev)\n",
      "        26 points by twapi 5 hours ago  | hide | 5&nbsp;comments              \n",
      "      \n",
      "                \n",
      "      14.      ProcMon for Linux (Preview) (github.com/sysinternals)\n",
      "        136 points by vmarsy 9 hours ago  | hide | 26&nbsp;comments              \n",
      "      \n",
      "                \n",
      "      15.      Study: Using Apple’s Night Shift to improve your sleep? Don’t bother (arstechnica.com)\n",
      "        31 points by mpweiher 1 hour ago  | hide | 10&nbsp;comments              \n",
      "      \n",
      "                \n",
      "      16.      From Rust to Spark: Formally Proven Bip-Buffers (adacore.com)\n",
      "        32 points by pjmlp 5 hours ago  | hide | 2&nbsp;comments              \n",
      "      \n",
      "                \n",
      "      17.      Proving 50-Year-Old Sorting Networks Optimal: Part 1 (jix.one)\n",
      "        43 points by todsacerdoti 5 hours ago  | hide | 8&nbsp;comments              \n",
      "      \n",
      "                \n",
      "      18.      FreeBSD 2021 Q1 Status Report (freebsd.org)\n",
      "        53 points by vermaden 5 hours ago  | hide | 3&nbsp;comments              \n",
      "      \n",
      "                \n",
      "      19.      UFOs shows government competence as either surprisingly high or low (overcomingbias.com)\n",
      "        58 points by cinquemb 10 hours ago  | hide | 128&nbsp;comments              \n",
      "      \n",
      "                \n",
      "      20.      UK NHS site allows your employer to determine if you've been vaccinated (ilkleygazette.co.uk)\n",
      "        4 points by nly 23 minutes ago  | hide | 1&nbsp;comment              \n",
      "      \n",
      "                \n",
      "      21.      Sony discontinues its last DSLRs (engadget.com)\n",
      "        22 points by throw0101a 2 hours ago  | hide | 13&nbsp;comments              \n",
      "      \n",
      "                \n",
      "      22.      Starting a Crypto Project (twitter.com/jonsyu)\n",
      "        34 points by grey-area 1 hour ago  | hide | 18&nbsp;comments              \n",
      "      \n",
      "                \n",
      "      23.      Deep Diving into the Strengths of FreeBSD (klarasystems.com)\n",
      "        75 points by rodrigo975 7 hours ago  | hide | 49&nbsp;comments              \n",
      "      \n",
      "                \n",
      "      24.      Norway Intent to issue € 2,5M fine to Disqus Inc (datatilsynet.no)\n",
      "        10 points by hgo 4 hours ago  | hide | discuss              \n",
      "      \n",
      "                \n",
      "      25.      Lumber mania is sweeping North America (vox.com)\n",
      "        90 points by RickJWagner 12 hours ago  | hide | 170&nbsp;comments              \n",
      "      \n",
      "                \n",
      "      26.      Send: A Fork of Mozilla's Firefox Send (github.com/timvisee)\n",
      "        604 points by andredz 19 hours ago  | hide | 125&nbsp;comments              \n",
      "      \n",
      "                \n",
      "      27.      Covid: US backs waiver on vaccine intellectual property (bbc.co.uk)\n",
      "        109 points by mattkohl 6 hours ago  | hide | 102&nbsp;comments              \n",
      "      \n",
      "                \n",
      "      28.      HTML Sanitizer API (developer.mozilla.org)\n",
      "        53 points by graderjs 3 hours ago  | hide | 51&nbsp;comments              \n",
      "      \n",
      "                \n",
      "      29.      ClearURLs – automatically remove tracking elements from URLs (github.com/clearurls)\n",
      "        753 points by stanislavb 1 day ago  | hide | 287&nbsp;comments              \n",
      "      \n",
      "                \n",
      "      30.      Montana to cancel unemployment benefits to address severe workforce shortage (yahoo.com)\n",
      "        78 points by awb 7 hours ago  | hide | 128&nbsp;comments              \n",
      "      \n",
      "            More\n",
      "  \n",
      "\n",
      "Guidelines\n",
      "        | FAQ\n",
      "        | Lists\n",
      "        | API\n",
      "        | Security\n",
      "        | Legal\n",
      "        | Apply to YC\n",
      "        | ContactSearch:\n",
      "          \n",
      "            \n",
      "      \n",
      "\n"
     ]
    }
   ],
   "source": [
    "import re\n",
    "\n",
    "pattern = re.compile(r'<.*?>')\n",
    "print(pattern.sub('', r.text))"
   ]
  },
  {
   "cell_type": "code",
   "execution_count": 11,
   "metadata": {},
   "outputs": [
    {
     "name": "stdout",
     "output_type": "stream",
     "text": [
      "\n",
      "        \n",
      "          \n",
      "        Hacker News\n",
      "        \n",
      "                  Hacker News\n",
      "              new | past | comments | ask | show | jobs | submit            \n",
      "                              login\n",
      "                          \n",
      "              \n",
      "\n",
      "              \n",
      "      1.      Crazy New Ideas (paulgraham.com)\n",
      "        106 points by razin 1 hour ago  | hide | 64 comments              \n",
      "      \n",
      "                \n",
      "      2.      IBM Creates First 2nm Chip (anandtech.com)\n",
      "        170 points by 0-_-0 2 hours ago  | hide | 66 comments              \n",
      "      \n",
      "                \n",
      "      3.      LiveLeak shuts down after 15 years online (techstartups.com)\n",
      "        738 points by ro_bit 11 hours ago  | hide | 467 comments              \n",
      "      \n",
      "                \n",
      "      4.      Catala: A Programming Language for the Law (arxiv.org)\n",
      "        113 points by todsacerdoti 6 hours ago  | hide | 74 comments              \n",
      "      \n",
      "                \n",
      "      5.      How Cities Will Fossilise (bbc.com)\n",
      "        20 points by astdb 1 hour ago  | hide | 6 comments              \n",
      "      \n",
      "                \n",
      "      6.      Gleam 0.15 – Type-safe language for the Erlang VM (gleam.run)\n",
      "        47 points by lpil 1 hour ago  | hide | 4 comments              \n",
      "      \n",
      "                \n",
      "      7.      Pyston v2.2: faster and open source (pyston.org)\n",
      "        180 points by chenzhekl 8 hours ago  | hide | 67 comments              \n",
      "      \n",
      "                \n",
      "      8.      Tesorio Is Hiring a Data Architect, Senior DevOps, Senior Data Scientist (tesorio.com)\n",
      "        1 hour ago | hide      \n",
      "      \n",
      "                \n",
      "      9.      Ask HN: How to attract perm Snr Engs when the contract market is so lucrative?\n",
      "        41 points by _0o6v 1 hour ago  | hide | 66 comments              \n",
      "      \n",
      "                \n",
      "      10.      The Case of the 50ms request (wizardzines.com)\n",
      "        177 points by stochastimus 8 hours ago  | hide | 60 comments              \n",
      "      \n",
      "                \n",
      "      11.      Six years of professional Clojure development (falkoriemenschneider.de)\n",
      "        102 points by yogthos 6 hours ago  | hide | 63 comments              \n",
      "      \n",
      "                \n",
      "      12.      The Grim Secret of Nordic Happiness (slate.com)\n",
      "        31 points by RickJWagner 1 hour ago  | hide | 30 comments              \n",
      "      \n",
      "                \n",
      "      13.      SpiderMonkey JavaScript/WebAssembly Engine (spidermonkey.dev)\n",
      "        26 points by twapi 5 hours ago  | hide | 5 comments              \n",
      "      \n",
      "                \n",
      "      14.      ProcMon for Linux (Preview) (github.com/sysinternals)\n",
      "        136 points by vmarsy 9 hours ago  | hide | 26 comments              \n",
      "      \n",
      "                \n",
      "      15.      Study: Using Apple’s Night Shift to improve your sleep? Don’t bother (arstechnica.com)\n",
      "        31 points by mpweiher 1 hour ago  | hide | 10 comments              \n",
      "      \n",
      "                \n",
      "      16.      From Rust to Spark: Formally Proven Bip-Buffers (adacore.com)\n",
      "        32 points by pjmlp 5 hours ago  | hide | 2 comments              \n",
      "      \n",
      "                \n",
      "      17.      Proving 50-Year-Old Sorting Networks Optimal: Part 1 (jix.one)\n",
      "        43 points by todsacerdoti 5 hours ago  | hide | 8 comments              \n",
      "      \n",
      "                \n",
      "      18.      FreeBSD 2021 Q1 Status Report (freebsd.org)\n",
      "        53 points by vermaden 5 hours ago  | hide | 3 comments              \n",
      "      \n",
      "                \n",
      "      19.      UFOs shows government competence as either surprisingly high or low (overcomingbias.com)\n",
      "        58 points by cinquemb 10 hours ago  | hide | 128 comments              \n",
      "      \n",
      "                \n",
      "      20.      UK NHS site allows your employer to determine if you've been vaccinated (ilkleygazette.co.uk)\n",
      "        4 points by nly 23 minutes ago  | hide | 1 comment              \n",
      "      \n",
      "                \n",
      "      21.      Sony discontinues its last DSLRs (engadget.com)\n",
      "        22 points by throw0101a 2 hours ago  | hide | 13 comments              \n",
      "      \n",
      "                \n",
      "      22.      Starting a Crypto Project (twitter.com/jonsyu)\n",
      "        34 points by grey-area 1 hour ago  | hide | 18 comments              \n",
      "      \n",
      "                \n",
      "      23.      Deep Diving into the Strengths of FreeBSD (klarasystems.com)\n",
      "        75 points by rodrigo975 7 hours ago  | hide | 49 comments              \n",
      "      \n",
      "                \n",
      "      24.      Norway Intent to issue € 2,5M fine to Disqus Inc (datatilsynet.no)\n",
      "        10 points by hgo 4 hours ago  | hide | discuss              \n",
      "      \n",
      "                \n",
      "      25.      Lumber mania is sweeping North America (vox.com)\n",
      "        90 points by RickJWagner 12 hours ago  | hide | 170 comments              \n",
      "      \n",
      "                \n",
      "      26.      Send: A Fork of Mozilla's Firefox Send (github.com/timvisee)\n",
      "        604 points by andredz 19 hours ago  | hide | 125 comments              \n",
      "      \n",
      "                \n",
      "      27.      Covid: US backs waiver on vaccine intellectual property (bbc.co.uk)\n",
      "        109 points by mattkohl 6 hours ago  | hide | 102 comments              \n",
      "      \n",
      "                \n",
      "      28.      HTML Sanitizer API (developer.mozilla.org)\n",
      "        53 points by graderjs 3 hours ago  | hide | 51 comments              \n",
      "      \n",
      "                \n",
      "      29.      ClearURLs – automatically remove tracking elements from URLs (github.com/clearurls)\n",
      "        753 points by stanislavb 1 day ago  | hide | 287 comments              \n",
      "      \n",
      "                \n",
      "      30.      Montana to cancel unemployment benefits to address severe workforce shortage (yahoo.com)\n",
      "        78 points by awb 7 hours ago  | hide | 128 comments              \n",
      "      \n",
      "            More\n",
      "  \n",
      "\n",
      "Guidelines\n",
      "        | FAQ\n",
      "        | Lists\n",
      "        | API\n",
      "        | Security\n",
      "        | Legal\n",
      "        | Apply to YC\n",
      "        | ContactSearch:\n",
      "          \n",
      "            \n",
      "      \n",
      "\n"
     ]
    }
   ],
   "source": [
    "from bs4 import BeautifulSoup\n",
    "\n",
    "soup = BeautifulSoup(r.text, 'html5lib')\n",
    "print(soup.get_textxt())"
   ]
  },
  {
   "cell_type": "code",
   "execution_count": 13,
   "metadata": {},
   "outputs": [
    {
     "data": {
      "text/plain": [
       "<tr class=\"athing\" id=\"27061789\">\n",
       "      <td align=\"right\" class=\"title\" valign=\"top\"><span class=\"rank\">1.</span></td>      <td class=\"votelinks\" valign=\"top\"><center><a href=\"vote?id=27061789&amp;how=up&amp;goto=news\" id=\"up_27061789\"><div class=\"votearrow\" title=\"upvote\"></div></a></center></td><td class=\"title\"><a class=\"storylink\" href=\"http://paulgraham.com/newideas.html\">Crazy New Ideas</a><span class=\"sitebit comhead\"> (<a href=\"from?site=paulgraham.com\"><span class=\"sitestr\">paulgraham.com</span></a>)</span></td></tr>"
      ]
     },
     "execution_count": 13,
     "metadata": {},
     "output_type": "execute_result"
    }
   ],
   "source": [
    "summaries = soup.find_all('tr', class_ = 'athing')\n",
    "summaries[0]"
   ]
  },
  {
   "cell_type": "code",
   "execution_count": 14,
   "metadata": {},
   "outputs": [
    {
     "data": {
      "text/plain": [
       "'Crazy New Ideas'"
      ]
     },
     "execution_count": 14,
     "metadata": {},
     "output_type": "execute_result"
    }
   ],
   "source": [
    "summaries[0].find(\"a\", class_ = \"storylink\").get_text().strip()"
   ]
  },
  {
   "cell_type": "code",
   "execution_count": 15,
   "metadata": {},
   "outputs": [
    {
     "name": "stdout",
     "output_type": "stream",
     "text": [
      "30 Articles summaries found. Sample :\n",
      "Crazy New Ideas\n"
     ]
    }
   ],
   "source": [
    "articles = []\n",
    "summaries = soup.find_all(\"tr\", class_ = \"athing\")\n",
    "for summary in summaries:\n",
    "    title = summary.find(\"a\", class_ = \"storylink\").get_text().strip()\n",
    "    articles.append(title)\n",
    "    \n",
    "print(len(articles), \"Articles summaries found. Sample :\")\n",
    "print(articles[0])"
   ]
  },
  {
   "cell_type": "code",
   "execution_count": 19,
   "metadata": {},
   "outputs": [
    {
     "name": "stdout",
     "output_type": "stream",
     "text": [
      "The first time you see The Second Renaissance it may look boring. Look at it at least twice and definitely watch part 2. It will change your view of the matrix. Are the human people the ones who started the war ? Is AI a bad thing ?\n"
     ]
    }
   ],
   "source": [
    "# Sample text\n",
    "text = \"The first time you see The Second Renaissance it may look boring. Look at it at least twice and definitely watch part 2. It will change your view of the matrix. Are the human people the ones who started the war ? Is AI a bad thing ?\"\n",
    "print(text)"
   ]
  },
  {
   "cell_type": "code",
   "execution_count": 20,
   "metadata": {},
   "outputs": [
    {
     "name": "stdout",
     "output_type": "stream",
     "text": [
      "the first time you see the second renaissance it may look boring. look at it at least twice and definitely watch part 2. it will change your view of the matrix. are the human people the ones who started the war ? is ai a bad thing ?\n"
     ]
    }
   ],
   "source": [
    "text = text.lower()\n",
    "print(text)"
   ]
  },
  {
   "cell_type": "code",
   "execution_count": 21,
   "metadata": {},
   "outputs": [
    {
     "name": "stdout",
     "output_type": "stream",
     "text": [
      "the first time you see the second renaissance it may look boring  look at it at least twice and definitely watch part 2  it will change your view of the matrix  are the human people the ones who started the war   is ai a bad thing  \n"
     ]
    }
   ],
   "source": [
    "import re\n",
    "\n",
    "text = re.sub(r\"[^a-zA-Z0-9]\",\" \", text)\n",
    "print(text)"
   ]
  },
  {
   "cell_type": "code",
   "execution_count": 23,
   "metadata": {},
   "outputs": [
    {
     "name": "stdout",
     "output_type": "stream",
     "text": [
      "['the', 'first', 'time', 'you', 'see', 'the', 'second', 'renaissance', 'it', 'may', 'look', 'boring', 'look', 'at', 'it', 'at', 'least', 'twice', 'and', 'definitely', 'watch', 'part', '2', 'it', 'will', 'change', 'your', 'view', 'of', 'the', 'matrix', 'are', 'the', 'human', 'people', 'the', 'ones', 'who', 'started', 'the', 'war', 'is', 'ai', 'a', 'bad', 'thing']\n"
     ]
    }
   ],
   "source": [
    "words = text.split()\n",
    "print(words)"
   ]
  },
  {
   "cell_type": "code",
   "execution_count": 24,
   "metadata": {},
   "outputs": [],
   "source": [
    "import os\n",
    "import nltk\n",
    "nltk.data.path.append(os.path.join(os.getcwd(),\"nltk_data\"))"
   ]
  },
  {
   "cell_type": "code",
   "execution_count": 25,
   "metadata": {},
   "outputs": [
    {
     "name": "stdout",
     "output_type": "stream",
     "text": [
      "Dr. Smith graduated from the University of Washington. He later started an analytics firm called Lux, which catered to enterprise customers.\n"
     ]
    }
   ],
   "source": [
    "# Another sample text\n",
    "text = \"Dr. Smith graduated from the University of Washington. He later started an analytics firm called Lux, which catered to enterprise customers.\"\n",
    "print(text)"
   ]
  },
  {
   "cell_type": "code",
   "execution_count": 26,
   "metadata": {},
   "outputs": [
    {
     "name": "stdout",
     "output_type": "stream",
     "text": [
      "['Dr.', 'Smith', 'graduated', 'from', 'the', 'University', 'of', 'Washington', '.', 'He', 'later', 'started', 'an', 'analytics', 'firm', 'called', 'Lux', ',', 'which', 'catered', 'to', 'enterprise', 'customers', '.']\n"
     ]
    }
   ],
   "source": [
    "from nltk.tokenize import word_tokenize\n",
    "\n",
    "words = word_tokenize(text)\n",
    "print(words)"
   ]
  },
  {
   "cell_type": "code",
   "execution_count": 27,
   "metadata": {},
   "outputs": [
    {
     "name": "stdout",
     "output_type": "stream",
     "text": [
      "['Dr. Smith graduated from the University of Washington.', 'He later started an analytics firm called Lux, which catered to enterprise customers.']\n"
     ]
    }
   ],
   "source": [
    "from nltk.tokenize import sent_tokenize\n",
    "\n",
    "sentences = sent_tokenize(text)\n",
    "print(sentences)"
   ]
  },
  {
   "cell_type": "code",
   "execution_count": 30,
   "metadata": {},
   "outputs": [
    {
     "name": "stdout",
     "output_type": "stream",
     "text": [
      "['i', 'me', 'my', 'myself', 'we', 'our', 'ours', 'ourselves', 'you', \"you're\", \"you've\", \"you'll\", \"you'd\", 'your', 'yours', 'yourself', 'yourselves', 'he', 'him', 'his', 'himself', 'she', \"she's\", 'her', 'hers', 'herself', 'it', \"it's\", 'its', 'itself', 'they', 'them', 'their', 'theirs', 'themselves', 'what', 'which', 'who', 'whom', 'this', 'that', \"that'll\", 'these', 'those', 'am', 'is', 'are', 'was', 'were', 'be', 'been', 'being', 'have', 'has', 'had', 'having', 'do', 'does', 'did', 'doing', 'a', 'an', 'the', 'and', 'but', 'if', 'or', 'because', 'as', 'until', 'while', 'of', 'at', 'by', 'for', 'with', 'about', 'against', 'between', 'into', 'through', 'during', 'before', 'after', 'above', 'below', 'to', 'from', 'up', 'down', 'in', 'out', 'on', 'off', 'over', 'under', 'again', 'further', 'then', 'once', 'here', 'there', 'when', 'where', 'why', 'how', 'all', 'any', 'both', 'each', 'few', 'more', 'most', 'other', 'some', 'such', 'no', 'nor', 'not', 'only', 'own', 'same', 'so', 'than', 'too', 'very', 's', 't', 'can', 'will', 'just', 'don', \"don't\", 'should', \"should've\", 'now', 'd', 'll', 'm', 'o', 're', 've', 'y', 'ain', 'aren', \"aren't\", 'couldn', \"couldn't\", 'didn', \"didn't\", 'doesn', \"doesn't\", 'hadn', \"hadn't\", 'hasn', \"hasn't\", 'haven', \"haven't\", 'isn', \"isn't\", 'ma', 'mightn', \"mightn't\", 'mustn', \"mustn't\", 'needn', \"needn't\", 'shan', \"shan't\", 'shouldn', \"shouldn't\", 'wasn', \"wasn't\", 'weren', \"weren't\", 'won', \"won't\", 'wouldn', \"wouldn't\"]\n"
     ]
    }
   ],
   "source": [
    "from nltk.corpus import stopwords\n",
    "print(stopwords.words(\"english\"))"
   ]
  },
  {
   "cell_type": "code",
   "execution_count": 31,
   "metadata": {},
   "outputs": [
    {
     "name": "stdout",
     "output_type": "stream",
     "text": [
      "the first time you see the second renaissance it may look boring  look at it at least twice and definitely watch part 2  it will change your view of the matrix  are the human people the ones who started the war   is ai a bad thing  \n"
     ]
    }
   ],
   "source": [
    "# Reset text\n",
    "text = \"The first time you see The Second Renaissance it may look boring. Look at it at least twice and definitely watch part 2. It will change your view of the matrix. Are the human people the ones who started the war ? Is AI a bad thing ?\"\n",
    "\n",
    "text = re.sub(r\"[^a-zA-Z0-9]\",\" \", text.lower())\n",
    "print(text)"
   ]
  },
  {
   "cell_type": "code",
   "execution_count": 32,
   "metadata": {},
   "outputs": [
    {
     "name": "stdout",
     "output_type": "stream",
     "text": [
      "['the', 'first', 'time', 'you', 'see', 'the', 'second', 'renaissance', 'it', 'may', 'look', 'boring', 'look', 'at', 'it', 'at', 'least', 'twice', 'and', 'definitely', 'watch', 'part', '2', 'it', 'will', 'change', 'your', 'view', 'of', 'the', 'matrix', 'are', 'the', 'human', 'people', 'the', 'ones', 'who', 'started', 'the', 'war', 'is', 'ai', 'a', 'bad', 'thing']\n"
     ]
    }
   ],
   "source": [
    "words = text.split()\n",
    "print(words)"
   ]
  },
  {
   "cell_type": "code",
   "execution_count": 33,
   "metadata": {},
   "outputs": [
    {
     "name": "stdout",
     "output_type": "stream",
     "text": [
      "['first', 'time', 'see', 'second', 'renaissance', 'may', 'look', 'boring', 'look', 'least', 'twice', 'definitely', 'watch', 'part', '2', 'change', 'view', 'matrix', 'human', 'people', 'ones', 'started', 'war', 'ai', 'bad', 'thing']\n"
     ]
    }
   ],
   "source": [
    "words = [w for w in words if w not in stopwords.words(\"english\")]\n",
    "print(words)"
   ]
  },
  {
   "cell_type": "code",
   "execution_count": 35,
   "metadata": {},
   "outputs": [
    {
     "name": "stdout",
     "output_type": "stream",
     "text": [
      "(S\n",
      "  (NP I)\n",
      "  (VP\n",
      "    (VP (V shot) (NP (Det an) (N elephant)))\n",
      "    (PP (P in) (NP (Det my) (N pajamas)))))\n",
      "(S\n",
      "  (NP I)\n",
      "  (VP\n",
      "    (V shot)\n",
      "    (NP (Det an) (N elephant) (PP (P in) (NP (Det my) (N pajamas))))))\n"
     ]
    }
   ],
   "source": [
    "import nltk\n",
    "\n",
    "my_grammar = nltk.CFG.fromstring(\"\"\"\n",
    "S -> NP VP\n",
    "PP -> P NP\n",
    "NP -> Det N | Det N PP | 'I'\n",
    "VP -> V NP | VP PP\n",
    "Det -> 'an' | 'my'\n",
    "N -> 'elephant' | 'pajamas'\n",
    "V -> 'shot'\n",
    "P -> 'in'\n",
    "\"\"\"    \n",
    ")\n",
    "\n",
    "parser = nltk.ChartParser(my_grammar)\n",
    "\n",
    "sentence = word_tokenize(\"I shot an elephant in my pajamas\")\n",
    "for tree in parser.parse(sentence):\n",
    "    print(tree)"
   ]
  },
  {
   "cell_type": "code",
   "execution_count": 37,
   "metadata": {},
   "outputs": [
    {
     "name": "stdout",
     "output_type": "stream",
     "text": [
      "['first', 'time', 'see', 'second', 'renaiss', 'may', 'look', 'bore', 'look', 'least', 'twice', 'definit', 'watch', 'part', '2', 'chang', 'view', 'matrix', 'human', 'peopl', 'one', 'start', 'war', 'ai', 'bad', 'thing']\n"
     ]
    }
   ],
   "source": [
    "from nltk.stem.porter import PorterStemmer\n",
    "\n",
    "stemmed = [PorterStemmer().stem(w) for w in words]\n",
    "print(stemmed)"
   ]
  },
  {
   "cell_type": "code",
   "execution_count": 39,
   "metadata": {},
   "outputs": [
    {
     "name": "stdout",
     "output_type": "stream",
     "text": [
      "['first', 'time', 'see', 'second', 'renaissance', 'may', 'look', 'boring', 'look', 'least', 'twice', 'definitely', 'watch', 'part', '2', 'change', 'view', 'matrix', 'human', 'people', 'one', 'started', 'war', 'ai', 'bad', 'thing']\n"
     ]
    }
   ],
   "source": [
    "from nltk.stem.wordnet import WordNetLemmatizer\n",
    "\n",
    "lemmed = [WordNetLemmatizer().lemmatize(w) for w in words]\n",
    "print(lemmed)"
   ]
  },
  {
   "cell_type": "code",
   "execution_count": 40,
   "metadata": {},
   "outputs": [
    {
     "name": "stdout",
     "output_type": "stream",
     "text": [
      "['first', 'time', 'see', 'second', 'renaissance', 'may', 'look', 'bore', 'look', 'least', 'twice', 'definitely', 'watch', 'part', '2', 'change', 'view', 'matrix', 'human', 'people', 'ones', 'start', 'war', 'ai', 'bad', 'thing']\n"
     ]
    }
   ],
   "source": [
    "lemmed = [WordNetLemmatizer().lemmatize(w, pos = 'v') for w in words]\n",
    "print(lemmed)"
   ]
  },
  {
   "cell_type": "code",
   "execution_count": null,
   "metadata": {},
   "outputs": [],
   "source": []
  }
 ],
 "metadata": {
  "kernelspec": {
   "display_name": "Python 3",
   "language": "python",
   "name": "python3"
  },
  "language_info": {
   "codemirror_mode": {
    "name": "ipython",
    "version": 3
   },
   "file_extension": ".py",
   "mimetype": "text/x-python",
   "name": "python",
   "nbconvert_exporter": "python",
   "pygments_lexer": "ipython3",
   "version": "3.8.5"
  }
 },
 "nbformat": 4,
 "nbformat_minor": 4
}
